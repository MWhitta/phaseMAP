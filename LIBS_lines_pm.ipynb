{
 "cells": [
  {
   "cell_type": "markdown",
   "id": "d5d43022-7826-423d-aa23-2cda4b949d58",
   "metadata": {},
   "source": [
    "# LIBS spectra database"
   ]
  },
  {
   "cell_type": "code",
   "execution_count": 8,
   "id": "79de25a3-ba6d-4b38-8b1d-fac4ab470715",
   "metadata": {},
   "outputs": [],
   "source": [
    "import numpy as np\n",
    "import requests"
   ]
  },
  {
   "cell_type": "code",
   "execution_count": null,
   "id": "761adcff-ff2c-4beb-bbe3-b0590da579ce",
   "metadata": {},
   "outputs": [],
   "source": [
    "xxx1 = \"https://physics.nist.gov/cgi-bin/ASD/lines1.pl?spectra=\" + 'H' + \"&limits_type=0&low_w=0&upp_w=1000&unit=1&submit=Retrieve+Data&de=0&format=3&line_out=0&remove_js=on&no_spaces=on&en_unit=1&output=0&bibrefs=1&page_size=15&show_obs_wl=1&show_calc_wl=1&order_out=0&max_low_enrg=&show_av=3&max_upp_enrg=&tsb_value=0&min_str=&A_out=1&intens_out=on&max_str=&allowed_out=1&forbid_out=1&min_accur=&min_intens=&conf_out=on&term_out=on&enrg_out=on&J_out=on&g_out=on\"\n",
    "xxx2 = requests.get(xxx1)\n",
    "test_data = xxx2.text"
   ]
  },
  {
   "cell_type": "code",
   "execution_count": 2,
   "id": "ccd8b35b-8df9-47be-b315-8981519a17af",
   "metadata": {},
   "outputs": [],
   "source": [
    "el_list = ['H', 'He', 'Li', 'Be', 'B', 'C', 'N', 'O', 'F', 'Ne', 'Na', 'Mg', 'Al', 'Si', 'P', 'S', 'Cl', 'Ar', 'K', 'Ca', 'Sc', 'Ti', 'V', 'Cr', 'Mn', 'Fe', 'Co', 'Ni', 'Cu', 'Zn', 'Ga', 'Ge', 'As', 'Se', 'Br', 'Kr', 'Rb', 'Sr', 'Y', 'Zr', 'Nb', 'Mo', 'Tc', 'Ru', 'Rh', 'Pd', 'Ag', 'Cd', 'In', 'Sn', 'Sb', 'Te', 'I', 'Xe', 'Cs', 'Ba', 'La', 'Ce', 'Pr', 'Nd', 'Pm', 'Sm', 'Eu', 'Gd', 'Tb', 'Dy', 'Ho', 'Er', 'Tm', 'Yb', 'Lu', 'Hf', 'Ta', 'W', 'Re', 'Os', 'Ir', 'Pt', 'Au', 'Hg', 'Tl', 'Pb', 'Bi', 'Po', 'At', 'Rn', 'Fr', 'Ra', 'Ac', 'Th', 'Pa', 'U', 'Np', 'Pu', 'Am', 'Cm', 'Bk', 'Cf', 'Es', 'Fm', 'Md', 'No', 'Lr', 'Rf', 'Db', 'Sg', 'Bh', 'Hs', 'Mt', 'Ds', 'Rg', 'Cn', 'Uut', 'Fl', 'Uup', 'Lv', 'Uus', 'Uuo']"
   ]
  },
  {
   "cell_type": "code",
   "execution_count": 13,
   "id": "fdb3e70b-9491-4cb2-8780-76e2ded57037",
   "metadata": {},
   "outputs": [],
   "source": [
    "def get_lines(element):\n",
    "    \"\"\" get spectral line data from specified NIST database \"\"\"\n",
    "    \n",
    "    url_el = \"https://physics.nist.gov/cgi-bin/ASD/lines1.pl?spectra=\" + str(element) + \"&limits_type=0&low_w=0&upp_w=1000&unit=1&submit=Retrieve+Data&de=0&format=3&line_out=1&remove_js=on&no_spaces=on&en_unit=1&output=0&bibrefs=1&page_size=15&show_obs_wl=1&show_calc_wl=1&order_out=0&max_low_enrg=&show_av=3&max_upp_enrg=&tsb_value=0&min_str=&A_out=1&intens_out=on&max_str=&allowed_out=1&forbid_out=1&min_accur=&min_intens=&conf_out=on&term_out=on&enrg_out=on&J_out=on&g_out=on\"\n",
    "    response = requests.get(url_el)\n",
    "    data = response.text\n",
    "    \n",
    "    rep_char = '\\\"\\n='\n",
    "    \n",
    "    for char in rep_char: \n",
    "        data = data.replace(char, '')\n",
    "    data = data.split('\\t')\n",
    "    data = np.array(data[:-1])\n",
    "    \n",
    "    # --- find number of columns in data and reshape\n",
    "    # --- Se, U have 12\n",
    "    # --- Ar is weird\n",
    "    if len(data) % 20 == 0:\n",
    "        data = np.reshape(data, (-1, 20))\n",
    "    #elif len(data) % 18 == 0:\n",
    "    #    data = np.reshape(data, (-1, 18))\n",
    "    elif len(data) % 21 == 0:\n",
    "        data = np.reshape(data, (-1, 21))\n",
    "    elif len(data) % 22 == 0:\n",
    "        data = np.reshape(data, (-1, 22))\n",
    "    elif len(data) % 12 == 0:\n",
    "        data = np.reshape(data, (-1, 12))\n",
    "    elif len(data) % 16 == 0:\n",
    "        data = np.reshape(data, (-1, 16))\n",
    "    else:\n",
    "        print(element + len(data))    \n",
    "    \n",
    "    return data"
   ]
  },
  {
   "cell_type": "code",
   "execution_count": 14,
   "id": "1ea0af9e-c6a5-4828-8903-de9cf7b05a26",
   "metadata": {},
   "outputs": [],
   "source": [
    "def save_lines(path, lines):\n",
    "    \"\"\" save LIBS lines in 'lines' to 'path' as numpy format \"\"\"\n",
    "    \n",
    "    np.save(path, lines)"
   ]
  },
  {
   "cell_type": "code",
   "execution_count": 15,
   "id": "755afb3f-f598-4a79-b180-9905565458e8",
   "metadata": {},
   "outputs": [],
   "source": [
    "def all_lines(els, path):\n",
    "    \"\"\" save LIBS data corresponding to all elements 'els' to 'path'\n",
    "        one file for each elmement of 'els'\n",
    "    \"\"\"\n",
    "       \n",
    "#     # --- find elements for which data already exists and exclude them from processing\n",
    "#     import glob\n",
    "#     el_in = [i.split('.')[0].split('/')[-1] for i in sorted(glob.glob(path + \"*.npy\"))]\n",
    "#     d = {k:v for v,k in enumerate(els)}\n",
    "#     pos_in = [*(d[k] for k in el_in)]\n",
    "\n",
    "    for el in els:\n",
    "        try:\n",
    "            save_lines(path + str(el) + \".npy\", get_lines(el))\n",
    "        except:\n",
    "            print(\"Element \" + str(el) + \" not a standard data shape\")"
   ]
  },
  {
   "cell_type": "code",
   "execution_count": 16,
   "id": "3df8af2c-27c9-458c-a5a4-196054c201ee",
   "metadata": {},
   "outputs": [],
   "source": [
    "# run this cell to re-scrape data for all elements\n",
    "all_lines(el_list, \"/Users/whitta/Projects/python/LIBS/database/\")"
   ]
  },
  {
   "cell_type": "code",
   "execution_count": null,
   "id": "d214306f-32c2-4736-9e30-ccce37af4d66",
   "metadata": {},
   "outputs": [],
   "source": [
    "# run this cell to re-scrape data for specific element\n",
    "all_lines(['Ar'], \"/Users/whitta/Projects/python/LIBS/database/\")"
   ]
  }
 ],
 "metadata": {
  "kernelspec": {
   "display_name": "Python 3 (ipykernel)",
   "language": "python",
   "name": "python3"
  },
  "language_info": {
   "codemirror_mode": {
    "name": "ipython",
    "version": 3
   },
   "file_extension": ".py",
   "mimetype": "text/x-python",
   "name": "python",
   "nbconvert_exporter": "python",
   "pygments_lexer": "ipython3",
   "version": "3.9.12"
  }
 },
 "nbformat": 4,
 "nbformat_minor": 5
}
