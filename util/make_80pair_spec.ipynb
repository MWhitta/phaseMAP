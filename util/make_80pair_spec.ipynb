{
 "cells": [
  {
   "cell_type": "markdown",
   "metadata": {},
   "source": [
    "Machinery for manufacturing LIBS type spectra\n",
    "\n",
    "TODO: class docstrings AND Type Hints per:\n",
    "https://realpython.com/documenting-python-code/\n",
    "https://docs.python.org/3/library/typing.html"
   ]
  },
  {
   "cell_type": "code",
   "execution_count": 1,
   "metadata": {},
   "outputs": [
    {
     "name": "stderr",
     "output_type": "stream",
     "text": [
      "/Users/matt/CloudGit_local/github/gss/phaseMAP/envs/lib/python3.10/site-packages/scipy/__init__.py:146: UserWarning: A NumPy version >=1.16.5 and <1.23.0 is required for this version of SciPy (detected version 1.23.1\n",
      "  warnings.warn(f\"A NumPy version >={np_minversion} and <{np_maxversion}\"\n"
     ]
    }
   ],
   "source": [
    "#imports and env\n",
    "import numpy as np\n",
    "import pickle\n",
    "import math\n",
    "from matplotlib import pyplot as plt\n",
    "#from scipy.special import voigt_profile as voigt\n",
    "#needed to import our package from sibling directory\n",
    "import os\n",
    "import sys\n",
    "sys.path.insert(0, os.path.abspath('..'))\n",
    "from libs_unet.training.spec_maker2 import spectrum_maker\n",
    "from pathlib import Path\n",
    "\n",
    "top_dir = Path.cwd().parent #working directory for notebook should be location of notebook\n",
    "rel_path = 'data' \n",
    "datapath = top_dir / rel_path"
   ]
  },
  {
   "cell_type": "code",
   "execution_count": 2,
   "metadata": {},
   "outputs": [],
   "source": [
    "#import ordered list of 80 elements for this nist dataset\n",
    "elem_symb = np.genfromtxt(datapath / 'nist_libs' / 'elem_symb.csv', dtype=str)\n",
    "max_z = len(elem_symb)\n",
    "el_index = {} #lookup from el symb to array index of element\n",
    "ind = 0\n",
    "for el in elem_symb:\n",
    "    el_index[el] = ind\n",
    "    ind += 1\n",
    "el_count = len(elem_symb)"
   ]
  },
  {
   "cell_type": "code",
   "execution_count": 3,
   "metadata": {},
   "outputs": [],
   "source": [
    "#create a dataset with fixed proportions on element pairs from 80 elements\n",
    "spec_maker = spectrum_maker()\n",
    "n_samples = 9560 #80 pure + 80 choose 2 with 3 mix ratios for each unique pair\n",
    "fracs = np.zeros((n_samples,el_count)) #these will be intended element mixes for samples\n",
    "frac_count = 0\n",
    "#add pure element instances\n",
    "for i in range(el_count):\n",
    "    fracs[frac_count,i] = 1\n",
    "    frac_count += 1\n",
    "#now add combinations\n",
    "for i in range(el_count - 1): #Very last element has nothing ahead to pair with\n",
    "    for j in range(i+1, el_count): #new pairs start at next element and goto last\n",
    "        fracs[frac_count,i] = 0.9\n",
    "        fracs[frac_count,j] = 0.1\n",
    "        frac_count += 1\n",
    "        fracs[frac_count,i] = 0.5\n",
    "        fracs[frac_count,j] = 0.5\n",
    "        frac_count += 1\n",
    "        fracs[frac_count,i] = 0.1\n",
    "        fracs[frac_count,j] = 0.9\n",
    "        frac_count += 1\n"
   ]
  },
  {
   "cell_type": "code",
   "execution_count": 4,
   "metadata": {},
   "outputs": [],
   "source": [
    "#importing just to get wave object associated with this dataset\n",
    "with open(datapath / 'nist_libs' / 'nist_elem_libs.pickle', 'rb') as f:\n",
    "    wave = pickle.load(f)"
   ]
  },
  {
   "cell_type": "code",
   "execution_count": 6,
   "metadata": {},
   "outputs": [],
   "source": [
    "#construct 9560 sample data set to persist for training\n",
    "#x_data will hold the composite spectrum as from LIBS\n",
    "#y_data will hold the elemental spectra made from weighting atomic lines\n",
    "#note that x_data != weighted sum of y_data (confirm)\n",
    "x_data = np.zeros((n_samples, len(wave))) #model inputs, composite spectrum\n",
    "y_data = np.zeros((n_samples, max_z + 2, len(wave))) #outputs, weighted spectra + art + noise\n",
    "\n",
    "for i in np.arange(n_samples):\n",
    "    # create input dict from fracs array\n",
    "    fracs_dict = {}\n",
    "    sample_el = elem_symb[np.nonzero(fracs[i])]\n",
    "    for el in sample_el:\n",
    "        fracs_dict[el] = fracs[i][el_index[el]]\n",
    "    wave, spec_dict, lines_dict = spec_maker.make_spectra(fracs_dict)\n",
    "    for el in spec_dict.keys():\n",
    "        if el == 'comp':\n",
    "            x_data[i] = spec_dict['comp']\n",
    "        elif el == 'art':\n",
    "            y_data[max_z] = spec_dict['art']\n",
    "        elif el == 'noi':\n",
    "            y_data[max_z + 1] = spec_dict['noi']\n",
    "        else:\n",
    "            y_data[i][el_index[el]] = spec_dict[el]"
   ]
  },
  {
   "cell_type": "code",
   "execution_count": 7,
   "metadata": {},
   "outputs": [
    {
     "data": {
      "text/plain": [
       "<function matplotlib.pyplot.show(close=None, block=None)>"
      ]
     },
     "execution_count": 7,
     "metadata": {},
     "output_type": "execute_result"
    },
    {
     "data": {
      "image/png": "[encoded data removed]",
      "text/plain": [
       "<Figure size 432x288 with 1 Axes>"
      ]
     },
     "metadata": {
      "needs_background": "light"
     },
     "output_type": "display_data"
    }
   ],
   "source": [
    "#Inspect combinations / compositions\n",
    "\n",
    "plt.plot(wave, x_data[el_index['Li']]) \n",
    "plt.xlabel('wavelength [nm]')   \n",
    "plt.ylabel('intensity')\n",
    "plt.xlim([190, 950]) #note data may go beyond this range\n",
    "plt.show"
   ]
  },
  {
   "cell_type": "code",
   "execution_count": 8,
   "metadata": {},
   "outputs": [],
   "source": [
    "#persist sample data and provide code to reload elsewhere\n",
    "#with open(datapath / 'training' / 'el80_pairs.pickle', 'wb') as f:\n",
    "#    pickle.dump(elem_symb, f)\n",
    "#    pickle.dump(el_index, f)\n",
    "#    pickle.dump(fracs, f)\n",
    "#    pickle.dump(wave, f)\n",
    "#    pickle.dump(x_data, f)\n",
    "#    pickle.dump(y_data, f)\n",
    "\n",
    "\n",
    "#To load in other modules\n",
    "#with open(datapath / 'training' / 'el80_pairs.pickle', 'rb') as f:\n",
    "#   elem_symb = pickle.load(f)\n",
    "#   el_index = pickle.load(f)\n",
    "#    fracs = pickle.load(f)\n",
    "#    wave = pickle.load(f)\n",
    "#    x_data = pickle.load(f)\n",
    "#   y_data = pickle.load(f)\n",
    "\n"
   ]
  },
  {
   "cell_type": "code",
   "execution_count": 10,
   "metadata": {},
   "outputs": [],
   "source": [
    "#make a metadata pickle for use with prediction\n",
    "#with open(datapath / 'training' / 'el80_pairs_meta.pickle', 'wb') as f:\n",
    "#    pickle.dump(wave, f)\n",
    "#    pickle.dump(elem_symb, f)\n",
    "#    pickle.dump(el_index, f)\n",
    "\n",
    "#To load in other modules\n",
    "#with open(datapath / 'training' / 'el80_pairs_meta.pickle', 'rb') as f:\n",
    "#    wave = pickle.load(f)\n",
    "#    elem_symb = pickle.load(f)\n",
    "#    el_index = pickle.load(f) \"\"\""
   ]
  },
  {
   "cell_type": "code",
   "execution_count": null,
   "metadata": {},
   "outputs": [],
   "source": []
  }
 ],
 "metadata": {
  "kernelspec": {
   "display_name": "Python 3.10.4 (conda)",
   "language": "python",
   "name": "python3"
  },
  "language_info": {
   "codemirror_mode": {
    "name": "ipython",
    "version": 3
   },
   "file_extension": ".py",
   "mimetype": "text/x-python",
   "name": "python",
   "nbconvert_exporter": "python",
   "pygments_lexer": "ipython3",
   "version": "3.10.4"
  },
  "orig_nbformat": 4,
  "vscode": {
   "interpreter": {
    "hash": "b7c566e62ebb0cf304e803cca0df60334aebcf2b863034e733115078e753af62"
   }
  }
 },
 "nbformat": 4,
 "nbformat_minor": 2
}
