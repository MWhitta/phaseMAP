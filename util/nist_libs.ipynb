{
 "cells": [
  {
   "cell_type": "markdown",
   "metadata": {},
   "source": [
    "This notebooks works with a set of elemental libs line data downloaded from the nist libs website.\n",
    "The lines produced for a compound like Li2CO3 is the weighted sum of these elemental lines.\n",
    "The process to make simulated libs spectra with spec_maker will leverage this fact.\n",
    "Note that doppler-spread spectra don't add linearly in the same way as lines. So though we can create\n",
    "the weighted elemental spectra as well, they won't \"add\" to the composite from a total intensity view."
   ]
  },
  {
   "cell_type": "code",
   "execution_count": 1,
   "metadata": {},
   "outputs": [],
   "source": [
    "import numpy as np\n",
    "from pathlib import Path\n",
    "from matplotlib import pyplot as plt\n",
    "import pickle\n",
    "\n",
    "top_dir = Path.cwd().parent \n",
    "datapath = top_dir / 'data' / 'nist_libs'\n"
   ]
  },
  {
   "cell_type": "code",
   "execution_count": 2,
   "metadata": {},
   "outputs": [],
   "source": [
    "#import data\n",
    "el_symb = np.genfromtxt(datapath / 'elem_symb.csv', dtype=str)"
   ]
  },
  {
   "cell_type": "code",
   "execution_count": 21,
   "metadata": {},
   "outputs": [],
   "source": [
    "#example read\n",
    "#Ti_lines = np.genfromtxt(datapath / 'elem_libs' / 'Ti.csv', delimiter=\",\",skip_header=1, filling_values='0')\n",
    "#line_wl = np.round(Ti_lines[:,0]).astype('int')\n",
    "#line_int = np.sum(Ti_lines[:,1:], axis=1)"
   ]
  },
  {
   "cell_type": "code",
   "execution_count": 3,
   "metadata": {},
   "outputs": [],
   "source": [
    "#Process the elemental lines data into a common format compatible with our libs gun\n",
    "#On the interval 180 - 961 nm aggregate intensity across all the ionizations\n",
    "# wave and atomic_lines dict will be stored as pickle for use in other modules\n",
    "wl_low = 180\n",
    "wl_high = 961\n",
    "inc = 1\n",
    "wave = np.arange(wl_low, wl_high+1, inc)\n",
    "atomic_lines = {k:np.zeros(len(wave)) for k in el_symb}\n",
    "\n",
    "#traverse the atomic lines dict by element.\n",
    "#Open Nist data file, round wl to one in our domain and sum intensities across ions for the row\n",
    "#Update the dict entry by adding the intensity. Note multiple lines may round to same integer wl\n",
    "for el in atomic_lines.keys():\n",
    "    filepath = datapath / 'elem_libs' / f'{el}.csv'\n",
    "    el_lines = np.genfromtxt(filepath, delimiter=\",\",skip_header=1, filling_values='0')\n",
    "    line_wl = np.round(el_lines[:,0]).astype('int')\n",
    "    line_int = np.sum(el_lines[:,1:], axis=1)\n",
    "    for i in range(len(line_wl)):\n",
    "        if line_wl[i] >= wl_low and line_wl[i] <= wl_high:\n",
    "            #note line_wl - wl_low puts us into array index space\n",
    "            atomic_lines[el][line_wl[i] - wl_low] += line_int[i]"
   ]
  },
  {
   "cell_type": "code",
   "execution_count": 4,
   "metadata": {},
   "outputs": [
    {
     "data": {
      "text/plain": [
       "<function matplotlib.pyplot.show(close=None, block=None)>"
      ]
     },
     "execution_count": 4,
     "metadata": {},
     "output_type": "execute_result"
    },
    {
     "data": {
      "image/png": "[encoded data removed]",
      "text/plain": [
       "<Figure size 640x480 with 1 Axes>"
      ]
     },
     "metadata": {},
     "output_type": "display_data"
    }
   ],
   "source": [
    "#Review lines plot\n",
    "el = 'Li'\n",
    "plt.bar(x=wave, height = atomic_lines[el], width=5) #note width impacts line vis\n",
    "plt.xlabel('wavelength [nm]')\n",
    "plt.ylabel('intensity')\n",
    "plt.xlim([wl_low, wl_high]) #note data may go beyond this range\n",
    "plt.show\n"
   ]
  },
  {
   "cell_type": "code",
   "execution_count": 24,
   "metadata": {},
   "outputs": [],
   "source": [
    "#Persist data for use in spectrum generation and other libraries\n",
    "#with open(datapath / 'nist_elem_libs.pickle', 'wb') as f:\n",
    "#    pickle.dump(wave, f)\n",
    "#    pickle.dump(atomic_lines, f)\n",
    "\n",
    "#import pickle\n",
    "#with open(datapath / 'nist_elem_libs.pickle', 'rb') as f:\n",
    "#    wave = pickle.load(f)\n",
    "#    atomic_lines = pickle.load(f)"
   ]
  },
  {
   "cell_type": "code",
   "execution_count": null,
   "metadata": {},
   "outputs": [],
   "source": []
  }
 ],
 "metadata": {
  "kernelspec": {
   "display_name": "Python 3.10.6 (conda)",
   "language": "python",
   "name": "python3"
  },
  "language_info": {
   "codemirror_mode": {
    "name": "ipython",
    "version": 3
   },
   "file_extension": ".py",
   "mimetype": "text/x-python",
   "name": "python",
   "nbconvert_exporter": "python",
   "pygments_lexer": "ipython3",
   "version": "3.10.6"
  },
  "orig_nbformat": 4,
  "vscode": {
   "interpreter": {
    "hash": "d001468f4067ec5e4d4ba2def862027e182b3a4bddcf254cbbb9d73e87f32604"
   }
  }
 },
 "nbformat": 4,
 "nbformat_minor": 2
}
