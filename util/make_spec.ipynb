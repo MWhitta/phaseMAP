{
 "cells": [
  {
   "cell_type": "markdown",
   "metadata": {},
   "source": [
    "Machinery for manufacturing LIBS type spectra\n",
    "Current assumption is spectra will be made/persisted before training from here\n",
    "Can we easily saved as .py file however for import an on the fly generation if desired\n",
    "\n",
    "TODO: class docstrings AND Type Hints per:\n",
    "https://realpython.com/documenting-python-code/\n",
    "https://docs.python.org/3/library/typing.html"
   ]
  },
  {
   "cell_type": "code",
   "execution_count": 14,
   "metadata": {},
   "outputs": [],
   "source": [
    "#imports and env\n",
    "import numpy as np\n",
    "import pickle\n",
    "import math\n",
    "from matplotlib import pyplot as plt\n",
    "from scipy.special import voigt_profile as voigt \n",
    "\n",
    "datapath = \"../data/\"\n",
    "datafile = \"rel_int/top30_spec.pickle\""
   ]
  },
  {
   "cell_type": "code",
   "execution_count": 15,
   "metadata": {},
   "outputs": [],
   "source": [
    "class spectrum_maker():\n",
    "    #class docstring, parameters, public methods\n",
    "    \"\"\" generates LPS spectra \"\"\"\n",
    "    #class attributes\n",
    "    #First 30 elements\n",
    "    avail_elem = ['H', 'He', 'Li', 'Be', 'B', 'C', 'N', 'O', 'F', 'Ne', 'Na', 'Mg', 'Al', 'Si', 'P', \n",
    "        'S', 'Cl', 'Ar', 'K', 'Ca', 'Sc', 'Ti', 'V', 'Cr', 'Mn', 'Fe', 'Co', 'Ni', 'Cu', 'Zn']\n",
    "    #Relative ppm of first 30 elements\n",
    "    elem_abund = elem_abund = np.loadtxt(datapath + \"abundance/abundance_94.csv\")[0:30]\n",
    "    \n",
    "    #TODO define an environment context and specify datapath there.\n",
    "    with open(datapath + datafile, 'rb') as f:\n",
    "        atom_dict = pickle.load(f)\n",
    "    \n",
    "    #Future elements?\n",
    "    \"\"\" ['Ga', 'Ge', 'As', 'Se', 'Br', 'Kr', 'Rb', 'Sr', 'Y', 'Zr', 'Nb', 'Mo', 'Tc', 'Ru', 'Rh', 'Pd', 'Ag', 'Cd', 'In', \n",
    "        'Sn', 'Sb', 'Te', 'I', 'Xe', 'Cs', 'Ba', 'La', 'Ce', 'Pr', 'Nd', 'Pm', 'Sm', 'Eu', 'Gd', 'Tb', 'Dy', \n",
    "        'Ho', 'Er', 'Tm', 'Yb', 'Lu', 'Hf', 'Ta', 'W', 'Re', 'Os', 'Ir', 'Pt', 'Au', 'Hg', 'Tl', 'Pb', 'Bi', \n",
    "        'Po', 'At', 'Rn', 'Fr', 'Ra', 'Ac', 'Th', 'Pa', 'U', 'Np', 'Pu', 'Am', 'Cm', 'Bk', 'Cf', 'Es', 'Fm', \n",
    "        'Md', 'No', 'Lr', 'Rf', 'Db', 'Sg', 'Bh', 'Hs', 'Mt', 'Ds', 'Rg', 'Cn', 'Uut', 'Fl', 'Uup', 'Lv', 'Uus', 'Uuo'] \"\"\"\n",
    "    \n",
    "    def __init__(self, max_z: int) -> None:\n",
    "        if max_z > len(self.avail_elem):\n",
    "            raise ValueError(f\"Currently supports only the first {len(self.avail.elem)} elements\")\n",
    "        self.max_z = max_z\n",
    "        self.elem_abund = self.elem_abund[:max_z]\n",
    "        self.elements = self.avail_elem[:max_z]\n",
    "   \n",
    "    #TODO reconsider if mixing dict and array style is worth it vs. strict ordered array conventions\n",
    "\n",
    "    def peak_maker(self,\n",
    "    element,\n",
    "    inc=1,\n",
    "    w_lo=190,\n",
    "    w_hi=950,\n",
    "    voigt_sig=1,#stdev of normal part of voigt convolution\n",
    "    voigt_gam=1, #half-width at half max parameter of cauchy part of convolution\n",
    "    shift=False,\n",
    "    shift_type='random',\n",
    "    shift_mean=5,\n",
    "    height=False,\n",
    "    height_type='random',\n",
    "    height_mean=0,\n",
    "    height_mag=0.001,\n",
    "    plot=False):\n",
    "        \n",
    "        peak_loc = self.atom_dict[element][:,0]\n",
    "        rel_int = self.atom_dict[element][:,1]\n",
    "        if plot:\n",
    "        #    plot histogram of element intensities\n",
    "            plt.bar(x=peak_loc, height=rel_int, width=3,color=\"red\")\n",
    "            plt.xlabel('wavelength [nm]')\n",
    "            plt.ylabel('intensity')\n",
    "            plt.xlim([190, 950]) #note data may go beyond this range\n",
    "            plt.show\n",
    "        \n",
    "        peak_count = len(rel_int)\n",
    "        wave = np.arange(w_lo, w_hi, inc)\n",
    "        \n",
    "        # jitter peak positions and intensities\n",
    "        if shift:\n",
    "            if shift_type=='sys': # apply systematic peak shift\n",
    "                peak_loc = peak_loc + shift_mean\n",
    "            if shift=='random': # apply random peak wavelength shift, mean 0\n",
    "                mag = shift_mean * (np.random.rand(peak_count) - 0.5)\n",
    "                peak_loc = peak_loc + mag\n",
    "        \n",
    "        if height:\n",
    "            if height_type=='random':\n",
    "                h_mult = np.random.rand(peak_count) + 0.5 #min 0.5, mean 1.0, max 1.5\n",
    "                rel_int = rel_int * h_mult\n",
    "                rel_int = rel_int / np.sum(rel_int, axis=0) #re-scale to 1.0\n",
    "            if height_type=='lin':\n",
    "                h_add = height_mag * peak_loc + height_mean\n",
    "                rel_int = np.where(rel_int + h_add < 0, 0, rel_int + h_add)\n",
    "                rel_int = rel_int / np.sum(rel_int, axis=0) #re-scale to 1.0\n",
    "        \n",
    "        # create peaks with defined Voigt profiles from peak location and intensities derived from database\n",
    "        peaks = np.array([a * voigt(wave - x, voigt_sig, voigt_gam) for a, x in zip(rel_int, peak_loc)])\n",
    "        #sum the wave profiles across all the (rel_int, peak_loc) tuples, now smoothed spectra  on range w_lo:w_hi\n",
    "        #scale the end result\n",
    "        spec = np.sum(peaks, axis=0)\n",
    "        spec = spec/np.sum(spec)\n",
    "        \n",
    "        if plot:\n",
    "            plt.plot(wave, spec)\n",
    "            plt.xlabel('wavelength [nm]')\n",
    "            plt.ylabel('intensity')\n",
    "            plt.xlim([190, 950])\n",
    "            plt.show\n",
    "        \n",
    "        return wave, spec    \n",
    "    \n",
    "    #make_spectra provides the weighted superposition of peak_maker spectra with artifacts/noise added\n",
    "    def make_spectra(self, \n",
    "        fracs, #element relative element proportion array, must be length = max_z of instance\n",
    "        inc=1,\n",
    "        w_lo=190, # lower limit of spectrum\n",
    "        w_hi=950, # upper limit of spectrum\n",
    "        artifact=False, # flag to include spectral artifacts ('constant', 'square', or 'Gaussian')\n",
    "        art_type=['square', 'Gaussian'], # types of artifacts to be included - must be a list for now\n",
    "        art_mag=0.1, # relative magnitude of artifact to spectrum intensity\n",
    "        noise=False, # noise flag\n",
    "        noise_type='Gaussian', # noise type\n",
    "        snr=10):\n",
    "        \n",
    "        if len(fracs) != self.max_z:\n",
    "            raise ValueError(f\"First {self.max_z} elements configured, {len(fracs)} provided.\")\n",
    "        if not (all(x >=0 for x in fracs) and np.sum(fracs) > 0):\n",
    "            raise ValueError(\"Element fractions must be non-negative and sum must be non-zero\")\n",
    "        \n",
    "        #scale fractions to sum to 1.0\n",
    "        fracs = fracs/np.sum(fracs)\n",
    "        wave = np.arange(w_lo, w_hi, inc)\n",
    "        spec_array = np.zeros((self.max_z, len(wave)))\n",
    "\n",
    "        #gen individual element spectra and combine into weighted sum. (weighted sum should remain 1.0)\n",
    "        for i in range(self.max_z): #considered np.nonzero() syntax but opaque\n",
    "            if fracs[i] > 0:#only process elements with non-zero weight\n",
    "        #TODO add logic here to vary peak_maker parameters randomly\n",
    "        # use **kwargs to pass on parameters from this method invocation to next\n",
    "                _, spec_array[i] = self.peak_maker(self.elements[i], shift=True, height=True)\n",
    "                spec_array[i] = fracs[i] * spec_array[i]\n",
    "        \n",
    "        #aggregate the weighted spectra to componsite, figure the maximum peak, scale spectrum\n",
    "        spec = np.sum(spec_array, axis=0) #note that axis is the one you are collapsing, e.g. leaves columns\n",
    "        spec /= np.sum(spec)\n",
    "        maximum = np.max(spec)\n",
    "        \n",
    "        # --- add artifacts\n",
    "        art = np.zeros(len(spec))\n",
    "        if artifact:\n",
    "            if any([i=='const' for i in art_type]):\n",
    "                art += art_mag * maximum\n",
    "                \n",
    "            if any([i=='square' for i in art_type]):\n",
    "                lim = np.sort(np.random.choice(wave, 2))\n",
    "                idx = (wave>lim[0]) * (wave<lim[1])\n",
    "                sq_loc = np.where(idx)[0]\n",
    "                art_scale = art_mag * maximum\n",
    "                art[sq_loc] += art_scale\n",
    "                \n",
    "            if any([i=='Gaussian' for i in art_type]):\n",
    "                #TODO check if sigma should be parametrized with method arg\n",
    "                sigma = (w_hi-w_lo)*0.5\n",
    "                mu = np.random.randint(w_lo,w_hi)\n",
    "                bg = 100 * np.random.rand() * maximum * 1/(sigma * np.sqrt(2 * np.pi)) * np.exp( - (wave - mu)**2 / (2 * sigma**2))\n",
    "                art += bg\n",
    "                \n",
    "        spec += art\n",
    "        spec_array = np.append(spec_array, np.expand_dims(art, 0), axis=0)\n",
    "        # --- add noise\n",
    "        noi = np.zeros(len(spec))\n",
    "        if noise:\n",
    "            if noise_type=='Gaussian':\n",
    "                noi += np.random.normal(0, 1/snr**0.5, len(noi))\n",
    "        \n",
    "        #limit the net spectrum to nonnegative intensity values\n",
    "        spec_array = np.append(spec_array, np.expand_dims(noi, 0), axis=0)\n",
    "        spec = np.where(spec + noi < 0, 0, spec + noi)\n",
    "        spec /= np.sum(spec)\n",
    "\n",
    "        return wave, spec, spec_array\n",
    "    \n",
    "    def batch_spectra(self,\n",
    "        focus_el=[], #optional list of specific elements within class max_z\n",
    "        n_elem=4, #defines the mean number of elements included\n",
    "        n_delta=2, #defines the +/- range for number of elements to vary\n",
    "        abund_scale=0.5, #max variation factor on natural abundance (<=1)\n",
    "        inc=1,\n",
    "        w_lo=190, # lower limit of spectrum\n",
    "        w_hi=950, # upper limit of spectrum\n",
    "        artifact=False, # flag to include spectral artifacts ('constant', 'square', or 'Gaussian')\n",
    "        art_type=['square', 'Gaussian'], # types of artifacts to be included - must be a list for now\n",
    "        art_mag=0.1, # relative magnitude of artifact to spectrum intensity\n",
    "        noise=False, # noise flag\n",
    "        noise_type='Gaussian', # noise type\n",
    "        snr=10,\n",
    "        batch=16): #number of samples to create\n",
    "        \n",
    "        max_elem = self.max_z\n",
    "        if len(focus_el):\n",
    "            max_elem = len(focus_el)\n",
    "            if not all (x in self.elements for x in focus_el):\n",
    "                raise ValueError(f\"Elements must be among the first {self.max_z}.\")\n",
    "        if n_elem + n_delta > max_elem:\n",
    "            raise ValueError(\"n_elem + n_delta cannot exceed available elements\") \n",
    "        if n_delta > n_elem-1:\n",
    "            raise ValueError(\"n_delta must be less than n_elem to avoid empty samples\")\n",
    "        if abund_scale <0 or abund_scale >1:\n",
    "            raise ValueError(f\"abund_scale must lie on interval [0,1], {abund_scale} given\")\n",
    "        #generate the element fractions\n",
    "        #first identify the number of elements that will be in each sample in the batch\n",
    "        num_elem = (n_elem + np.round(2 * (n_delta+0.5) * np.random.rand(batch) - (n_delta+0.5))).astype(int)\n",
    "        #next identify the elements to include\n",
    "        #TODO add option for non-uniform sampling, e.g. sample appearance ~ abundance or other factor\n",
    "        if len(focus_el):\n",
    "            sample_el= [np.random.choice(focus_el, num_elem[i]) for i in range(batch)] #list, not array\n",
    "        else:\n",
    "            sample_el = [np.random.choice(self.elements, num_elem[i]) for i in range(batch)] #list, not array\n",
    "        \n",
    "        #with the elements selected, generate fracs arrays for make_spectra\n",
    "        #note the length of fracs is determined by max_z on object instantiation\n",
    "        #central proportion are based on abundance (entropic), maybe another mode for enthalpic\n",
    "        #create a boolean mask to filter element abundance\n",
    "        samp_mask = np.array([np.in1d(self.elements, sample_el[i]) for i in range(batch)]) #shape (batch, max_z)\n",
    "        sample_abund = self.elem_abund * samp_mask #rightmost dims = max_z for broadcasting\n",
    "        #with relative sample proportions set to abundance, introduce variation scaled by parameter\n",
    "        sample_var = 2 * abund_scale * (np.random.rand(batch, self.max_z)-0.5)\n",
    "        sample_fracs = sample_abund * (1 + sample_var)\n",
    "        #scale to sum to 1.0, maybe redundant with later scaling\n",
    "        fracs = sample_fracs / np.sum(sample_fracs, axis=1, keepdims=True) \n",
    "\n",
    "        #The goal of UNet model is prediction of spectra array from composite spectra\n",
    "        wave = np.arange(w_lo,w_hi,inc) #only needed for correct length\n",
    "        x_data = np.zeros((batch, len(wave)))\n",
    "        y_data = np.zeros((batch, int(self.max_z+2), len(wave)))\n",
    "        \n",
    "        #note the wave range generated from w_lo, w_hi, inc is going to be same in each sample\n",
    "        # make_spectra also returns composite spectra and array of weighted element spectra, artifacts, noise\n",
    "        for i in np.arange(batch):\n",
    "            wave, x_data[i], y_data[i] = self.make_spectra(fracs=fracs[i], inc=inc, w_lo=w_lo, w_hi=w_hi, \n",
    "                                                        artifact=artifact, art_type=art_type, art_mag=art_mag,\n",
    "                                                        noise=noise, noise_type=noise_type,snr=snr)\n",
    "        \n",
    "        return fracs, wave, x_data, y_data"
   ]
  },
  {
   "cell_type": "code",
   "execution_count": 16,
   "metadata": {},
   "outputs": [
    {
     "data": {
      "text/plain": [
       "<function matplotlib.pyplot.show(close=None, block=None)>"
      ]
     },
     "execution_count": 16,
     "metadata": {},
     "output_type": "execute_result"
    },
    {
     "data": {
      "image/png": "[encoded data removed]",
      "text/plain": [
       "<Figure size 432x288 with 1 Axes>"
      ]
     },
     "metadata": {
      "needs_background": "light"
     },
     "output_type": "display_data"
    }
   ],
   "source": [
    "#explore Gaussian artifact formula\n",
    "inc=1\n",
    "w_lo=190 # lower limit of spectrum\n",
    "w_hi=950 # upper limit of spectrum\n",
    "maximum=0.1 #max relative intensity\n",
    "sigma = (w_hi-w_lo) * 0.5\n",
    "mu = np.random.randint(w_lo,w_hi)\n",
    "wave = np.arange(w_lo,w_hi,inc)\n",
    "bg = 100 * np.random.rand() * maximum * (1/(sigma * np.sqrt(2 * np.pi))) * np.exp( - (wave - mu)**2 / (2 * sigma**2))\n",
    "plt.plot(wave, bg)\n",
    "plt.xlabel('wavelength [nm]')\n",
    "plt.ylabel('intensity')\n",
    "plt.xlim([190, 950])\n",
    "plt.show"
   ]
  },
  {
   "cell_type": "code",
   "execution_count": 17,
   "metadata": {},
   "outputs": [
    {
     "name": "stdout",
     "output_type": "stream",
     "text": [
      "<class 'numpy.ndarray'>\n",
      "<class 'numpy.ndarray'>\n"
     ]
    },
    {
     "data": {
      "image/png": "[encoded data removed]",
      "text/plain": [
       "<Figure size 432x288 with 1 Axes>"
      ]
     },
     "metadata": {
      "needs_background": "light"
     },
     "output_type": "display_data"
    }
   ],
   "source": [
    "#Test peak maker method from class spectrum_maker\n",
    "my_maker = spectrum_maker(10)\n",
    "wave, spec = my_maker.peak_maker(element = \"H\", plot = True)\n",
    "print(type(wave))\n",
    "print(type(spec))"
   ]
  },
  {
   "cell_type": "code",
   "execution_count": 18,
   "metadata": {},
   "outputs": [
    {
     "name": "stdout",
     "output_type": "stream",
     "text": [
      "<class 'numpy.ndarray'> <class 'numpy.ndarray'> <class 'numpy.ndarray'>\n"
     ]
    },
    {
     "data": {
      "text/plain": [
       "<function matplotlib.pyplot.show(close=None, block=None)>"
      ]
     },
     "execution_count": 18,
     "metadata": {},
     "output_type": "execute_result"
    },
    {
     "data": {
      "image/png": "[encoded data removed]",
      "text/plain": [
       "<Figure size 432x288 with 1 Axes>"
      ]
     },
     "metadata": {
      "needs_background": "light"
     },
     "output_type": "display_data"
    }
   ],
   "source": [
    "#Test method make_spectra from class spectrum_maker\n",
    "my_maker = spectrum_maker(10)\n",
    "#first 10 elements\n",
    "my_elem = ['H', 'He', 'Li', 'Be', 'B', 'C', 'N', 'O', 'F', 'Ne']\n",
    "my_fracs = [0.1, 0, 0.2, 0, 0, 0.3, 0.2, 0.1, 0, 0.1]\n",
    "my_wave, my_spec, my_specarray = my_maker.make_spectra(fracs=my_fracs)\n",
    "print(type(my_wave), type(my_spec), type(my_specarray))\n",
    "\n",
    "plt.plot(my_wave, my_spec)\n",
    "plt.xlabel('wavelength [nm]')\n",
    "plt.ylabel('intensity')\n",
    "plt.xlim([190, 950])\n",
    "plt.show"
   ]
  },
  {
   "cell_type": "code",
   "execution_count": 19,
   "metadata": {},
   "outputs": [
    {
     "data": {
      "text/plain": [
       "True"
      ]
     },
     "execution_count": 19,
     "metadata": {},
     "output_type": "execute_result"
    }
   ],
   "source": [
    "#test batch_spectra method\n",
    "my_maker = spectrum_maker(20)\n",
    "fracs, wave, x_data, y_data = my_maker.batch_spectra()\n",
    "#confirm we recover the composite spectrum from the truncated aggregation of elements+art+noise\n",
    "math.isclose(np.max(abs(np.where(np.sum(y_data[0], axis=0) < 0, 0, np.sum(y_data[0], axis=0)) - x_data[0])),0)"
   ]
  },
  {
   "cell_type": "code",
   "execution_count": 12,
   "metadata": {},
   "outputs": [],
   "source": [
    "#generate and persist large data set for model training and validation\n",
    "#Note: 10,000 samples with default settings (no mods, artifacts, noise) took 6m4s or ~27/sec\n",
    "#Expect 1 million to require ~10 hours which is fine since not recurring task\n",
    "#However, the 10k data set takes up 1.4Gb on disk when pickled, 250Mb when compressed\n",
    "#May be smart to use cloud storage for this, AWS S3 or GCP and read the data in from there for training model variants\n",
    "my_maker = spectrum_maker(20)\n",
    "fracs, wave, x_data, y_data = my_maker.batch_spectra(batch=1000)"
   ]
  },
  {
   "cell_type": "code",
   "execution_count": 13,
   "metadata": {},
   "outputs": [
    {
     "data": {
      "text/plain": [
       "1000"
      ]
     },
     "execution_count": 13,
     "metadata": {},
     "output_type": "execute_result"
    }
   ],
   "source": [
    "len(fracs)"
   ]
  },
  {
   "cell_type": "code",
   "execution_count": null,
   "metadata": {},
   "outputs": [],
   "source": [
    "#persist sample data and provide code to reload elsewhere\n",
    "# better ways? https://stackoverflow.com/questions/20716812/saving-and-loading-multiple-objects-in-pickle-file\n",
    "#1M records compressed might only be ~25Gb on disk, but probably break into many files to limit RAM footprint while processing\n",
    "#with open(datapath + 'my_file', 'wb') as f:\n",
    "#    pickle.dump(fracs, f)\n",
    "#    pickle.dump(wave, f)\n",
    "#    pickle.dump(x_data, f)\n",
    "#    pickle.dump(y_data, f)\n",
    "\n",
    "#To load in other modules\n",
    "#with open(datapath + 'my_file', 'rb') as f:\n",
    "#    fracs = pickle.load(f)\n",
    "#    wave = pickle.load(f)\n",
    "#    x_data = pickle.load(f)\n",
    "#    y_data = pickle.load(f)"
   ]
  }
 ],
 "metadata": {
  "kernelspec": {
   "display_name": "Python 3.10.4 (conda)",
   "language": "python",
   "name": "python3"
  },
  "language_info": {
   "codemirror_mode": {
    "name": "ipython",
    "version": 3
   },
   "file_extension": ".py",
   "mimetype": "text/x-python",
   "name": "python",
   "nbconvert_exporter": "python",
   "pygments_lexer": "ipython3",
   "version": "3.10.4"
  },
  "orig_nbformat": 4,
  "vscode": {
   "interpreter": {
    "hash": "b7c566e62ebb0cf304e803cca0df60334aebcf2b863034e733115078e753af62"
   }
  }
 },
 "nbformat": 4,
 "nbformat_minor": 2
}
