{
 "cells": [
  {
   "cell_type": "markdown",
   "metadata": {},
   "source": [
    "Notebook for various spectra visualization methods\n",
    "Will work against persisted data here, but methods should work in other contexts"
   ]
  },
  {
   "cell_type": "code",
   "execution_count": 1,
   "metadata": {},
   "outputs": [
    {
     "name": "stderr",
     "output_type": "stream",
     "text": [
      "/Users/matt/CloudGit_local/github/gss/phaseMAP/envs/lib/python3.10/site-packages/scipy/__init__.py:146: UserWarning: A NumPy version >=1.16.5 and <1.23.0 is required for this version of SciPy (detected version 1.23.1\n",
      "  warnings.warn(f\"A NumPy version >={np_minversion} and <{np_maxversion}\"\n"
     ]
    }
   ],
   "source": [
    "#imports and env\n",
    "import numpy as np\n",
    "import pickle\n",
    "from matplotlib import pyplot as plt\n",
    "from pathlib import Path\n",
    "#update path to use our packages\n",
    "sys.path.insert(0, os.path.abspath('..'))\n",
    "from libs_unet.training.spec_maker import spectrum_maker\n",
    "#define absolute path to repo top level and then relative vs. that\n",
    "top_dir = Path.cwd().parent #working directory for notebook should be location of notebook\n",
    "rel_path = 'data' \n",
    "datapath = top_dir / rel_path"
   ]
  },
  {
   "cell_type": "code",
   "execution_count": 4,
   "metadata": {},
   "outputs": [],
   "source": [
    "#load atomic data scaled to unit aggregate intensity\n",
    "with open(datapath / 'rel_int/valid77_spec.pickle', 'rb') as f:\n",
    "    atom_dict = pickle.load(f)"
   ]
  },
  {
   "cell_type": "code",
   "execution_count": null,
   "metadata": {},
   "outputs": [],
   "source": [
    "#create element list specific to this data file\\\n",
    "elem_symb = [key for key in atom_dict.keys()]\n",
    "#len(elem_symb) #77\n",
    "#elem_symb[0] #Er\n",
    "#Note that order won't really matter, no longer contiguous Z values"
   ]
  },
  {
   "cell_type": "code",
   "execution_count": 5,
   "metadata": {},
   "outputs": [
    {
     "data": {
      "text/plain": [
       "<function matplotlib.pyplot.show(close=None, block=None)>"
      ]
     },
     "execution_count": 5,
     "metadata": {},
     "output_type": "execute_result"
    },
    {
     "data": {
      "image/png": "[encoded data removed]",
      "text/plain": [
       "<Figure size 432x288 with 1 Axes>"
      ]
     },
     "metadata": {
      "needs_background": "light"
     },
     "output_type": "display_data"
    }
   ],
   "source": [
    "#update element to see atomic spectra\n",
    "elem = \"K\"\n",
    "x_spec=atom_dict[elem][:,0]\n",
    "y_spec=atom_dict[elem][:,1]\n",
    "plt.bar(x=x_spec, height = y_spec, width=5) #note width impacts line vis\n",
    "plt.xlabel('wavelength [nm]')\n",
    "plt.ylabel('intensity')\n",
    "plt.xlim([190, 950]) #note data may go beyond this range\n",
    "plt.show"
   ]
  },
  {
   "cell_type": "code",
   "execution_count": null,
   "metadata": {},
   "outputs": [],
   "source": [
    "for key in atom_dict.keys():\n",
    "    print(f\"{key} : {np.sum(atom_dict[key][:,1])}\")"
   ]
  },
  {
   "cell_type": "code",
   "execution_count": null,
   "metadata": {},
   "outputs": [],
   "source": [
    "#Plot all to check for lines\n",
    "def atom_bar(ax, data1, data2, param_dict):\n",
    "        out = ax.bar(data1, data2, **param_dict)\n",
    "        return out\n",
    "#Plot element lines\n",
    "for key in atom_dict.keys():\n",
    "    fig, ax = plt.subplots()\n",
    "    ax.set_title(key)\n",
    "    atom_bar(ax, atom_dict[key][:,0], atom_dict[key][:,1], {\"linewidth\":\"5\"})"
   ]
  },
  {
   "cell_type": "code",
   "execution_count": 6,
   "metadata": {},
   "outputs": [
    {
     "data": {
      "text/plain": [
       "<function matplotlib.pyplot.show(close=None, block=None)>"
      ]
     },
     "execution_count": 6,
     "metadata": {},
     "output_type": "execute_result"
    },
    {
     "data": {
      "image/png": "[encoded data removed]",
      "text/plain": [
       "<Figure size 432x288 with 1 Axes>"
      ]
     },
     "metadata": {
      "needs_background": "light"
     },
     "output_type": "display_data"
    }
   ],
   "source": [
    "#Make an experimental spectrum with spread around these exact lines\n",
    "elem = \"K\"\n",
    "my_maker = spectrum_maker()\n",
    "wave, spec = my_maker.peak_maker(elem)\n",
    "plt.plot(wave, spec) \n",
    "plt.xlabel('wavelength [nm]')\n",
    "plt.ylabel('intensity')\n",
    "plt.xlim([190, 950]) #note data may go beyond this range\n",
    "plt.show"
   ]
  },
  {
   "cell_type": "code",
   "execution_count": null,
   "metadata": {},
   "outputs": [],
   "source": [
    "#look at the graph in frequency domain ~c/lambda\n",
    "c_const = 3e8\n",
    "freq = (c_const/wave)/1e3 #wave is 1e9m and THz is 1e12\n",
    "plt.plot(freq, spec) \n",
    "plt.xlabel('freq [THz]')\n",
    "plt.ylabel('intensity')\n",
    "#plt.xlim([190, 950]) #note data may go beyond this range\n",
    "plt.show"
   ]
  },
  {
   "cell_type": "code",
   "execution_count": null,
   "metadata": {},
   "outputs": [],
   "source": [
    "#Look at log transform of the intensity data. Increase level first\n",
    "l_spec = np.log(spec*1000+1)\n",
    "plt.plot(wave, l_spec) \n",
    "plt.xlabel('wavelength [nm]')\n",
    "plt.ylabel('log intensity')\n",
    "#plt.xlim([190, 950]) #note data may go beyond this range\n",
    "plt.show\n",
    "print(np.min(l_spec))"
   ]
  },
  {
   "cell_type": "code",
   "execution_count": 2,
   "metadata": {},
   "outputs": [],
   "source": [
    "#check on making composite from mixture\n",
    "my_maker = spectrum_maker()\n",
    "elem_frac = {'Li':0.2, 'C':0.2, 'O':0.6}\n",
    "wave, spec, spec_dict = my_maker.make_spectra(elem_frac)"
   ]
  }
 ],
 "metadata": {
  "kernelspec": {
   "display_name": "Python 3.10.4 (conda)",
   "language": "python",
   "name": "python3"
  },
  "language_info": {
   "codemirror_mode": {
    "name": "ipython",
    "version": 3
   },
   "file_extension": ".py",
   "mimetype": "text/x-python",
   "name": "python",
   "nbconvert_exporter": "python",
   "pygments_lexer": "ipython3",
   "version": "3.10.4"
  },
  "orig_nbformat": 4,
  "vscode": {
   "interpreter": {
    "hash": "b7c566e62ebb0cf304e803cca0df60334aebcf2b863034e733115078e753af62"
   }
  }
 },
 "nbformat": 4,
 "nbformat_minor": 2
}
