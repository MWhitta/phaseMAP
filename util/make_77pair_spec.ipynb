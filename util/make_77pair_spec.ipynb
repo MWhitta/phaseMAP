{
 "cells": [
  {
   "cell_type": "markdown",
   "metadata": {},
   "source": [
    "Machinery for manufacturing LIBS type spectra\n",
    "\n",
    "TODO: class docstrings AND Type Hints per:\n",
    "https://realpython.com/documenting-python-code/\n",
    "https://docs.python.org/3/library/typing.html"
   ]
  },
  {
   "cell_type": "code",
   "execution_count": 99,
   "metadata": {},
   "outputs": [],
   "source": [
    "#imports and env\n",
    "import numpy as np\n",
    "import pickle\n",
    "import math\n",
    "from matplotlib import pyplot as plt\n",
    "from scipy.special import voigt_profile as voigt\n",
    "#needed to import our package from sibling directory\n",
    "import os\n",
    "import sys\n",
    "sys.path.insert(0, os.path.abspath('..'))\n",
    "from libs_unet.training.spec_maker import spectrum_maker\n",
    "from pathlib import Path\n",
    "\n",
    "top_dir = Path.cwd().parent #working directory for notebook should be location of notebook\n",
    "rel_path = 'data' \n",
    "datapath = top_dir / rel_path\n",
    "datafile = \"rel_int/valid77_spec.pickle\""
   ]
  },
  {
   "cell_type": "code",
   "execution_count": 100,
   "metadata": {},
   "outputs": [],
   "source": [
    "#Define the ordered element list for this set of 77\n",
    "#model training/prediction requires a fixed array structure\n",
    "with open(datapath / datafile, 'rb') as f:\n",
    "    raw_atom_dict = pickle.load(f)\n",
    "#re-order in atomic ordering for convenience, though not contiguous\n",
    "elem_ordered = np.loadtxt(datapath / \"abundance/elements_94.csv\", dtype=str)\n",
    "el_symbol = np.array([])\n",
    "for el in elem_ordered:\n",
    "    if el in raw_atom_dict:\n",
    "        el_symbol = np.append(el_symbol, el)\n",
    "atom_dict ={}\n",
    "for el in el_symbol:\n",
    "    atom_dict[el] = raw_atom_dict[el]\n",
    "el_count = len(el_symbol)\n",
    "el_index = {} #lookup from element to index of element\n",
    "ind = 0\n",
    "for el in atom_dict.keys():\n",
    "    el_index[el] = ind\n",
    "    ind += 1"
   ]
  },
  {
   "cell_type": "code",
   "execution_count": 135,
   "metadata": {},
   "outputs": [],
   "source": [
    "#create a dataset with fixed proportions on element pairs from 77 elements\n",
    "spec_maker = spectrum_maker()\n",
    "n_samples = 8855 #77 pure + 77 choose 2 with 3 mix ratios for each unique pair\n",
    "fracs = np.zeros((n_samples,el_count)) #these will be intended element mixes for samples\n",
    "frac_count = 0\n",
    "#add pure element instances\n",
    "for i in range(el_count):\n",
    "    fracs[frac_count,i] = 1\n",
    "    frac_count += 1\n",
    "#now add combinations\n",
    "for i in range(el_count - 1): #Very last element has nothing ahead to pair with\n",
    "    for j in range(i+1, el_count): #new pairs start at next element and goto last\n",
    "        fracs[frac_count,i] = 0.9\n",
    "        fracs[frac_count,j] = 0.1\n",
    "        frac_count += 1\n",
    "        fracs[frac_count,i] = 0.5\n",
    "        fracs[frac_count,j] = 0.5\n",
    "        frac_count += 1\n",
    "        fracs[frac_count,i] = 0.1\n",
    "        fracs[frac_count,j] = 0.9\n",
    "        frac_count += 1\n"
   ]
  },
  {
   "cell_type": "code",
   "execution_count": 136,
   "metadata": {},
   "outputs": [],
   "source": [
    "#construct 8855 sample data set to persist\n",
    "wave = np.arange(190,950,1) #only needed for correct length\n",
    "x_data = np.zeros((n_samples, len(wave))) #model inputs, composite spectrum\n",
    "y_data = np.zeros((n_samples, int(el_count + 2), len(wave))) #desired outputs, weighted spectra\n",
    "\n",
    "#note the wave range generated from w_lo, w_hi, inc is going to be same in each sample\n",
    "for i in np.arange(n_samples):\n",
    "    # create input dict from fracs array\n",
    "    fracs_dict = {}\n",
    "    sample_el = el_symbol[np.nonzero(fracs[i])]\n",
    "    for el in sample_el:\n",
    "        fracs_dict[el] = fracs[i][el_index[el]]\n",
    "    wave, spec, spec_dict = spec_maker.make_spectra(fracs_dict, inc=1, w_lo=190, w_hi=950)\n",
    "    x_data[i] = spec\n",
    "    for el in spec_dict:\n",
    "        if el == 'art':\n",
    "            y_data[i][el_count] = spec_dict[el]\n",
    "        elif el == 'noi':\n",
    "            y_data[i][el_count + 1] = spec_dict[el]\n",
    "        else:\n",
    "            y_data[i][el_index[el]] = spec_dict[el]"
   ]
  },
  {
   "cell_type": "code",
   "execution_count": 137,
   "metadata": {},
   "outputs": [
    {
     "data": {
      "text/plain": [
       "0.1"
      ]
     },
     "execution_count": 137,
     "metadata": {},
     "output_type": "execute_result"
    }
   ],
   "source": [
    "np.sum(y_data[1000][el_index['B']])"
   ]
  },
  {
   "cell_type": "code",
   "execution_count": 138,
   "metadata": {},
   "outputs": [
    {
     "data": {
      "text/plain": [
       "<function matplotlib.pyplot.show(close=None, block=None)>"
      ]
     },
     "execution_count": 138,
     "metadata": {},
     "output_type": "execute_result"
    },
    {
     "data": {
      "image/png": "[encoded data removed]",
      "text/plain": [
       "<Figure size 432x288 with 1 Axes>"
      ]
     },
     "metadata": {
      "needs_background": "light"
     },
     "output_type": "display_data"
    }
   ],
   "source": [
    "#Inspect combinations / compositions\n",
    "\n",
    "plt.plot(wave, x_data[el_index['Li']]) \n",
    "plt.xlabel('wavelength [nm]')   \n",
    "plt.ylabel('intensity')\n",
    "plt.xlim([190, 950]) #note data may go beyond this range\n",
    "plt.show"
   ]
  },
  {
   "cell_type": "code",
   "execution_count": 139,
   "metadata": {},
   "outputs": [],
   "source": [
    "#persist sample data and provide code to reload elsewhere\n",
    "with open(datapath / 'training' / 'el77_pairs.pickle', 'wb') as f:\n",
    "    pickle.dump(fracs, f)\n",
    "    pickle.dump(wave, f)\n",
    "    pickle.dump(x_data, f)\n",
    "    pickle.dump(y_data, f)\n",
    "    pickle.dump(el_symbol, f)\n",
    "\n",
    "#To load in other modules\n",
    "#with open(datapath / 'training' / 'el77_pairs.pickle', 'rb') as f:\n",
    "#    fracs = pickle.load(f)\n",
    "#    wave = pickle.load(f)\n",
    "#    x_data = pickle.load(f)\n",
    "#    y_data = pickle.load(f)\n",
    "#   el_symbol = pickle.load(f)"
   ]
  },
  {
   "cell_type": "code",
   "execution_count": null,
   "metadata": {},
   "outputs": [],
   "source": []
  }
 ],
 "metadata": {
  "kernelspec": {
   "display_name": "Python 3.10.4 (conda)",
   "language": "python",
   "name": "python3"
  },
  "language_info": {
   "codemirror_mode": {
    "name": "ipython",
    "version": 3
   },
   "file_extension": ".py",
   "mimetype": "text/x-python",
   "name": "python",
   "nbconvert_exporter": "python",
   "pygments_lexer": "ipython3",
   "version": "3.10.4"
  },
  "orig_nbformat": 4,
  "vscode": {
   "interpreter": {
    "hash": "b7c566e62ebb0cf304e803cca0df60334aebcf2b863034e733115078e753af62"
   }
  }
 },
 "nbformat": 4,
 "nbformat_minor": 2
}
