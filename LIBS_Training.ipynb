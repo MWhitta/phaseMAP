{
 "cells": [
  {
   "cell_type": "code",
   "execution_count": 1,
   "id": "3e59c2dd-ae29-4f7e-a90d-88f64e9ff8a5",
   "metadata": {
    "tags": []
   },
   "outputs": [],
   "source": [
    "import pickle\n",
    "import datetime\n",
    "from pathlib import Path\n",
    "\n",
    "import torch\n",
    "import torch.nn as nn\n",
    "from torch import optim\n",
    "from torch.optim.lr_scheduler import MultiStepLR\n",
    "from torch.optim import lr_scheduler\n",
    "from torch.utils.data import TensorDataset, DataLoader, random_split\n",
    "from torch.utils.tensorboard import SummaryWriter\n",
    "\n",
    "from libs_unet.models import peakyfinder_0001\n",
    "from libs_unet.training.libs_train import train_loop, test_loop, Custom_Wgt_MSE\n",
    "\n",
    "top_dir = Path.cwd()\n",
    "datapath = top_dir / 'data'"
   ]
  },
  {
   "cell_type": "code",
   "execution_count": 2,
   "id": "5c6a9d48",
   "metadata": {},
   "outputs": [],
   "source": [
    "#reference data load\n",
    "#create weights array for weighted mse loss function\n",
    "with open(datapath / 'training' / 'el80_log_int.pickle', 'rb') as f:\n",
    "   el_tot_int = pickle.load(f).astype('float32')\n",
    "\n",
    "\n",
    "#Leverage PyTorch native Dataset and DataLoader \n",
    "with open(datapath / 'training' / 'el80_pairs_lg.pickle', 'rb') as f:\n",
    "    elem_symb = pickle.load(f)\n",
    "    el_index = pickle.load(f)\n",
    "    fracs = pickle.load(f)\n",
    "    wave = pickle.load(f)\n",
    "    x_data = pickle.load(f)\n",
    "    y_data = pickle.load(f)\n",
    "\n",
    "#create dataset\n",
    "#input needs a placeholder \"channel\" dimension since single channel\n",
    "#learned labels already has max_z + 2 channels from spec_array\n",
    "#data has to match weights which default to float() so cast data as same\n",
    "#apply a scaling factor to standardize spectra across sources.\n",
    "nist_mult = 1.17\n",
    "x_data = nist_mult * torch.tensor(x_data[:,None,:].astype('float32'))\n",
    "y_data = nist_mult * torch.tensor(y_data.astype('float32'))\n",
    "x_data[x_data < 0] = 0\n",
    "y_data[y_data < 0] = 0\n",
    "#log transform data, add small offset 1 so zero points remain ~zero on log scale\n",
    "x_data = torch.log(x_data + 1)\n",
    "y_data = torch.log(y_data + 1)\n",
    "\n",
    "spec_ds = TensorDataset(x_data, y_data)\n",
    "#batch sizes\n",
    "train_bs = 50\n",
    "test_bs = 100\n",
    "#create random split for training and validation\n",
    "train_len = int(0.8 * len(x_data))\n",
    "test_len = len(x_data) - train_len\n",
    "train_ds, test_ds = random_split(spec_ds,[train_len, test_len])\n",
    "train_dl = DataLoader(train_ds, batch_size=train_bs, shuffle=True) #check if shuffle redundant\n",
    "test_dl = DataLoader(test_ds, batch_size=test_bs)\n",
    "#"
   ]
  },
  {
   "cell_type": "markdown",
   "id": "2f72a8f9",
   "metadata": {},
   "source": [
    "Apply training optimization from \n",
    " https://pytorch.org/tutorials/beginner/basics/optimization_tutorial.html\n",
    " https://pytorch.org/tutorials/beginner/nn_tutorial.html\n",
    "Notes: \n",
    "1. Run dataloader cell first, set batch size/file as needed\n",
    "2. Simulated data is built on first n elements with 760 point spectra (190nm - 949nm)\n",
    "3. Set this parameter so correct model size is built"
   ]
  },
  {
   "cell_type": "code",
   "execution_count": 3,
   "id": "ad67d3ce",
   "metadata": {},
   "outputs": [
    {
     "name": "stdout",
     "output_type": "stream",
     "text": [
      "Epoch 1, learning rate 0.1\n",
      "-------------------------------\n",
      "Epoch 2, learning rate 0.1\n",
      "-------------------------------\n",
      "Epoch 3, learning rate 0.1\n",
      "-------------------------------\n"
     ]
    },
    {
     "ename": "KeyboardInterrupt",
     "evalue": "",
     "output_type": "error",
     "traceback": [
      "\u001b[0;31m---------------------------------------------------------------------------\u001b[0m",
      "\u001b[0;31mKeyboardInterrupt\u001b[0m                         Traceback (most recent call last)",
      "\u001b[1;32m/Users/matt/CloudGit_local/github/gss/phaseMAP/LIBS_Training.ipynb Cell 4\u001b[0m in \u001b[0;36m<cell line: 40>\u001b[0;34m()\u001b[0m\n\u001b[1;32m     <a href='vscode-notebook-cell:/Users/matt/CloudGit_local/github/gss/phaseMAP/LIBS_Training.ipynb#W3sZmlsZQ%3D%3D?line=39'>40</a>\u001b[0m \u001b[39mfor\u001b[39;00m t \u001b[39min\u001b[39;00m \u001b[39mrange\u001b[39m(epochs):\n\u001b[1;32m     <a href='vscode-notebook-cell:/Users/matt/CloudGit_local/github/gss/phaseMAP/LIBS_Training.ipynb#W3sZmlsZQ%3D%3D?line=40'>41</a>\u001b[0m     \u001b[39mprint\u001b[39m(\u001b[39mf\u001b[39m\u001b[39m\"\u001b[39m\u001b[39mEpoch \u001b[39m\u001b[39m{\u001b[39;00mt\u001b[39m+\u001b[39m\u001b[39m1\u001b[39m\u001b[39m}\u001b[39;00m\u001b[39m, learning rate \u001b[39m\u001b[39m{\u001b[39;00moptimizer\u001b[39m.\u001b[39mparam_groups[\u001b[39m0\u001b[39m][\u001b[39m'\u001b[39m\u001b[39mlr\u001b[39m\u001b[39m'\u001b[39m]\u001b[39m}\u001b[39;00m\u001b[39m\\n\u001b[39;00m\u001b[39m-------------------------------\u001b[39m\u001b[39m\"\u001b[39m)\n\u001b[0;32m---> <a href='vscode-notebook-cell:/Users/matt/CloudGit_local/github/gss/phaseMAP/LIBS_Training.ipynb#W3sZmlsZQ%3D%3D?line=41'>42</a>\u001b[0m     train_loop(train_dl, model, loss_fn, optimizer, writer, t\u001b[39m+\u001b[39;49m\u001b[39m1\u001b[39;49m, debug\u001b[39m=\u001b[39;49m\u001b[39mTrue\u001b[39;49;00m, bsize\u001b[39m=\u001b[39;49mtrain_bs)\n\u001b[1;32m     <a href='vscode-notebook-cell:/Users/matt/CloudGit_local/github/gss/phaseMAP/LIBS_Training.ipynb#W3sZmlsZQ%3D%3D?line=42'>43</a>\u001b[0m     test_loss \u001b[39m=\u001b[39m test_loop(test_dl, model, loss_fn, writer, t\u001b[39m+\u001b[39m\u001b[39m1\u001b[39m)\n\u001b[1;32m     <a href='vscode-notebook-cell:/Users/matt/CloudGit_local/github/gss/phaseMAP/LIBS_Training.ipynb#W3sZmlsZQ%3D%3D?line=43'>44</a>\u001b[0m     lr_scheduler\u001b[39m.\u001b[39mstep()\n",
      "File \u001b[0;32m~/CloudGit_local/github/gss/phaseMAP/libs_unet/training/libs_train.py:26\u001b[0m, in \u001b[0;36mtrain_loop\u001b[0;34m(dataloader, model, loss_fn, optimizer, writer, epoch, log_interval, debug, bsize)\u001b[0m\n\u001b[1;32m     24\u001b[0m \u001b[39m# Backpropagation\u001b[39;00m\n\u001b[1;32m     25\u001b[0m optimizer\u001b[39m.\u001b[39mzero_grad()\n\u001b[0;32m---> 26\u001b[0m loss\u001b[39m.\u001b[39;49mbackward()\n\u001b[1;32m     27\u001b[0m optimizer\u001b[39m.\u001b[39mstep() \u001b[39m#leverages tensor gradients from backward()\u001b[39;00m\n\u001b[1;32m     29\u001b[0m \u001b[39mif\u001b[39;00m batch_n  \u001b[39m%\u001b[39m log_interval \u001b[39m==\u001b[39m \u001b[39m0\u001b[39m: \u001b[39m#write to tensorboard\u001b[39;00m\n",
      "File \u001b[0;32m~/CloudGit_local/github/gss/phaseMAP/envs/lib/python3.8/site-packages/torch/tensor.py:195\u001b[0m, in \u001b[0;36mTensor.backward\u001b[0;34m(self, gradient, retain_graph, create_graph)\u001b[0m\n\u001b[1;32m    167\u001b[0m \u001b[39mdef\u001b[39;00m \u001b[39mbackward\u001b[39m(\u001b[39mself\u001b[39m, gradient\u001b[39m=\u001b[39m\u001b[39mNone\u001b[39;00m, retain_graph\u001b[39m=\u001b[39m\u001b[39mNone\u001b[39;00m, create_graph\u001b[39m=\u001b[39m\u001b[39mFalse\u001b[39;00m):\n\u001b[1;32m    168\u001b[0m     \u001b[39mr\u001b[39m\u001b[39m\"\"\"Computes the gradient of current tensor w.r.t. graph leaves.\u001b[39;00m\n\u001b[1;32m    169\u001b[0m \n\u001b[1;32m    170\u001b[0m \u001b[39m    The graph is differentiated using the chain rule. If the tensor is\u001b[39;00m\n\u001b[0;32m   (...)\u001b[0m\n\u001b[1;32m    193\u001b[0m \u001b[39m            products. Defaults to ``False``.\u001b[39;00m\n\u001b[1;32m    194\u001b[0m \u001b[39m    \"\"\"\u001b[39;00m\n\u001b[0;32m--> 195\u001b[0m     torch\u001b[39m.\u001b[39;49mautograd\u001b[39m.\u001b[39;49mbackward(\u001b[39mself\u001b[39;49m, gradient, retain_graph, create_graph)\n",
      "File \u001b[0;32m~/CloudGit_local/github/gss/phaseMAP/envs/lib/python3.8/site-packages/torch/autograd/__init__.py:97\u001b[0m, in \u001b[0;36mbackward\u001b[0;34m(tensors, grad_tensors, retain_graph, create_graph, grad_variables)\u001b[0m\n\u001b[1;32m     94\u001b[0m \u001b[39mif\u001b[39;00m retain_graph \u001b[39mis\u001b[39;00m \u001b[39mNone\u001b[39;00m:\n\u001b[1;32m     95\u001b[0m     retain_graph \u001b[39m=\u001b[39m create_graph\n\u001b[0;32m---> 97\u001b[0m Variable\u001b[39m.\u001b[39;49m_execution_engine\u001b[39m.\u001b[39;49mrun_backward(\n\u001b[1;32m     98\u001b[0m     tensors, grad_tensors, retain_graph, create_graph,\n\u001b[1;32m     99\u001b[0m     allow_unreachable\u001b[39m=\u001b[39;49m\u001b[39mTrue\u001b[39;49;00m)\n",
      "\u001b[0;31mKeyboardInterrupt\u001b[0m: "
     ]
    }
   ],
   "source": [
    "#set parameters\n",
    "max_z = len(elem_symb)\n",
    "wl_points = len(wave) #number of wavelength point measurements in data\n",
    "#these are weights used in custom loss function to emphasize weaker signal elements\n",
    "#loss_wts = torch.tensor(1/np.log(1+el_tot_int))\n",
    "#avg_wt = torch.mean(loss_wts)\n",
    "#add on MSE weights for artifact and noise arrays at avg\n",
    "#loss_wts = torch.cat((loss_wts, torch.tensor([avg_wt, avg_wt])))\n",
    "#loss_wts = loss_wts / torch.sum(loss_wts)\n",
    "#fix He\n",
    "#loss_wts[1] = 0.02\n",
    "#loss_wts = 100 * loss_wts\n",
    "\n",
    "\n",
    "learning_rate = 0.1 #There is a schedule to reduce as loss plateaus\n",
    "#lr_patience = 10\n",
    "#lr_cooldown = 2\n",
    "#lr_thresh = 0.01\n",
    "epochs = 5\n",
    "\n",
    "#Initialize and run\n",
    "model = peakyfinder_0001.LIBSUNet(max_z, wl_points)\n",
    "loss_fn = nn.MSELoss(reduction='mean')\n",
    "#loss_fn = Custom_Wgt_MSE(loss_wts)\n",
    "optimizer = torch.optim.SGD(model.parameters(), lr=learning_rate)\n",
    "lr_scheduler = MultiStepLR(optimizer, [4], 0.5)\n",
    "#lr_scheduler = ReduceLROnPlateau(optimizer, mode='min', patience=lr_patience,\n",
    "#                                 cooldown=lr_cooldown, threshold=lr_thresh)\n",
    "\n",
    "now_time = datetime.datetime.now().strftime('%Y-%m-%d-%H-%M-%S') #  now \n",
    "writerpath = top_dir / 'runs' / now_time\n",
    "writer = SummaryWriter(writerpath)\n",
    "                            \n",
    "# save trained model\n",
    "#torch.save(model, top_dir / 'trained_models/peakyfinder_0001_')\n",
    "\n",
    "#add model diagram to tensorboard\n",
    "#writer.add_graph(model,train_ds)\n",
    "\n",
    "for t in range(epochs):\n",
    "    print(f\"Epoch {t+1}, learning rate {optimizer.param_groups[0]['lr']}\\n-------------------------------\")\n",
    "    train_loop(train_dl, model, loss_fn, optimizer, writer, t+1, debug=True, bsize=train_bs)\n",
    "    test_loss = test_loop(test_dl, model, loss_fn, writer, t+1)\n",
    "    lr_scheduler.step()\n",
    "print(\"Done!\")\n",
    "\n",
    "#cleanup\n",
    "writer.flush()\n",
    "writer.close()\n"
   ]
  },
  {
   "cell_type": "code",
   "execution_count": 4,
   "id": "06a37299",
   "metadata": {},
   "outputs": [],
   "source": [
    "#Save model parameters for use in Model_Test notebook\n",
    "#https://pytorch.org/tutorials/beginner/saving_loading_models.html\n",
    "param_path = top_dir / 'trained_models' / 'el80_pairs_lg_0001'\n",
    "torch.save(model.state_dict(), param_path)"
   ]
  },
  {
   "cell_type": "code",
   "execution_count": 8,
   "id": "df4420c5",
   "metadata": {},
   "outputs": [
    {
     "name": "stdout",
     "output_type": "stream",
     "text": [
      "down_conv_1.double_conv.0.weight:3.2451021070301067e-06\n"
     ]
    }
   ],
   "source": [
    "#check loss gradient\n",
    "for name, param in model.named_parameters():\n",
    "    print(f\"{name}:{torch.max(param.grad)}\")\n",
    "    \n",
    "\n"
   ]
  },
  {
   "cell_type": "markdown",
   "id": "6ef3a40c",
   "metadata": {},
   "source": [
    "Use Model_Test.ipynb to load and review model prediction on sample / experimental data"
   ]
  }
 ],
 "metadata": {
  "kernelspec": {
   "display_name": "Python 3.10.4 (conda)",
   "language": "python",
   "name": "python3"
  },
  "language_info": {
   "codemirror_mode": {
    "name": "ipython",
    "version": 3
   },
   "file_extension": ".py",
   "mimetype": "text/x-python",
   "name": "python",
   "nbconvert_exporter": "python",
   "pygments_lexer": "ipython3",
   "version": "3.8.13"
  },
  "vscode": {
   "interpreter": {
    "hash": "b7c566e62ebb0cf304e803cca0df60334aebcf2b863034e733115078e753af62"
   }
  }
 },
 "nbformat": 4,
 "nbformat_minor": 5
}
