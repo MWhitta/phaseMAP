{
 "cells": [
  {
   "cell_type": "code",
   "execution_count": 1,
   "id": "3e59c2dd-ae29-4f7e-a90d-88f64e9ff8a5",
   "metadata": {
    "tags": []
   },
   "outputs": [],
   "source": [
    "import numpy as np\n",
    "import torch\n",
    "import torch.nn as nn\n",
    "import glob\n",
    "import datetime\n",
    "import random\n",
    "import re\n",
    "import pickle\n",
    "datapath = \"./data/rel_int/\"\n",
    "#import wandb\n",
    "\n",
    "\n",
    "from matplotlib import pyplot as plt\n",
    "from torch import optim\n",
    "from torch.utils.tensorboard import SummaryWriter\n",
    "from scipy.special import voigt_profile as voigt"
   ]
  },
  {
   "cell_type": "code",
   "execution_count": 2,
   "id": "24856ca8",
   "metadata": {},
   "outputs": [],
   "source": [
    "#Pre-process database to dict. element key with array of [wavelength,relative intensity]\n",
    "path=\"./data/slim_db/\"\n",
    "filenames = glob.glob(path + '/*')\n",
    "atom_dict = {}  #of form {element:ndarray[[wavelength, rel_intensity]]}\n",
    "#Available elements, starting with first 30\n",
    "el_include = [\"H\", \"He\", \"Li\", \"Be\", \"B\", \"C\", \"N\", \"O\", \"F\", \"Ne\", \"Na\", \"Mg\",\n",
    "            \"Al\", \"Si\", \"P\", \"S\", \"Cl\", \"Ar\", \"K\", \"Ca\", \"Sc\", \"Ti\", \"V\", \"Cr\",\n",
    "            \"Mn\", \"Fe\", \"Co\", \"Ni\", \"Cu\", \"Zn\"]\n",
    "#database missing data for these elements, need to check source?\n",
    "no_lines = [\"Pr\", \"Es\", \"Rn\", \"Pu\"] \n",
    "\n",
    "#check basic setup for inclusion of unavailable elements\n",
    "for el in no_lines:\n",
    "    if el in el_include:\n",
    "        raise ValueError(\"Trying to include an element with no spectral data\")\n",
    "\n",
    "for filename in filenames:\n",
    "    #get element from filename\n",
    "    m = re.search('^.*slim_db/([A-Za-z]+).npy$', filename)\n",
    "    element = m[1]\n",
    "    \n",
    "    if element in no_lines or element not in el_include:\n",
    "        #print('Skipping: ', element)\n",
    "        continue\n",
    "    #print('Processing: ', element)\n",
    "    \n",
    "    #load file data into ndarray\n",
    "    #'element', 'sp_num', 'obs_wl_vac(nm)', 'ritz_wl_vac(nm)', 'intens', 'gA(s^-1)', 'Acc', 'Ei(eV)', 'Ek(eV)', 'conf_i',\n",
    "    #'term_i', 'J_i', 'conf_k', 'term_k', 'J_k', 'g_i', 'g_k', 'Type', 'tp_ref', 'line_ref'\n",
    "    filedata = np.load(filename)\n",
    "    #drop headers, keep only wavelength(3), g_a(5) and g_k(16)\n",
    "    filedata = filedata[1:,[3,5,16]]\n",
    "    #note this is string data at this point, which may be helpful through the grouping stage!\n",
    "    #type(filedata[0,0]) #numpy.str_\n",
    "    #convert the g_A data to A_ki data which is ~ to intensity\n",
    "    #However, some wavelengths have '+' so clean that up now. Using loop, look for native array op\n",
    "    for i in range(filedata.shape[0]):\n",
    "        filedata[i,0] = re.search('[0-9]+.[0-9]+',filedata[i,0])[0]\n",
    "\n",
    "    wvlengths = filedata[:,0] #array of strings in numeric format\n",
    "    filedata[:,1] = (filedata[:,1].astype(float) / filedata[:,2].astype(float))\n",
    "    #drop the g_k col\n",
    "    filedata = filedata[:,0:2]\n",
    "    #note everything is still string data because that's the datatype of the array! will change later\n",
    "    #next we aggregate by unique wavelength (e.g Li has multiple rows/probs at same wl)\n",
    "    #clever example here of using np.split to group\n",
    "    #https://stackoverflow.com/questions/38013778/is-there-any-numpy-group-by-function\n",
    "    #sort by wavelength\n",
    "    filedata = filedata[filedata[:,0].astype(float).argsort()]\n",
    "    #find the breakpoint indices which define each group/wavelength, skip first value\n",
    "    unique_ind = np.unique(filedata[:, 0], return_index=True)[1][1:]\n",
    "    wavegroups = np.split(filedata[:,1], unique_ind)#list of arrays. Array contains intensity values to sum for wl\n",
    "    #sum the intensities at each distinct wl\n",
    "    wavesums = np.array([np.sum(intens_arr.astype(float)) for intens_arr in wavegroups])\n",
    "    #add the first wavelength index back to array of unique value indices\n",
    "    unique_ind = np.append(0, unique_ind)\n",
    "    if len(unique_ind) == len(wavesums):\n",
    "        atom_dict[element] = np.column_stack((filedata[:,0][unique_ind].astype(float),\n",
    "                                                wavesums.astype(float)/np.sum(wavesums.astype(float))))\n",
    "\n",
    "#persist the data for ongoing usage\n",
    "#datapath = \"./data/rel_int/\"\n",
    "#with open(datapath + 'top30_spec.pickle', 'wb') as f:\n",
    "# Pickle the relative intensity spectra with default protocol (4 as of py3.8)\n",
    "#    pickle.dump(atom_dict, f)\n",
    "\n",
    "#To load in other modules at top level of repo\n",
    "#import pickle\n",
    "#datapath = \"./data/rel_int/\"\n",
    "#with open(datapath + 'top30_spec.pickle', 'rb') as f:\n",
    "#    atom_dict = pickle.load(f)"
   ]
  },
  {
   "cell_type": "code",
   "execution_count": 42,
   "id": "8ab68341",
   "metadata": {},
   "outputs": [],
   "source": [
    "#Build array of element abundance from text files (wikipedia)\n",
    "elem_symb = np.loadtxt(\"./data/abundance/elements_94.csv\", dtype=str)\n",
    "elem_abund = np.loadtxt(\"./data/abundance/abundance_94.csv\")"
   ]
  },
  {
   "cell_type": "code",
   "execution_count": 3,
   "id": "1b7183a8",
   "metadata": {},
   "outputs": [],
   "source": [
    "#Load atomic spectra data\n",
    "with open(datapath + 'top30_spec.pickle', 'rb') as f:\n",
    "    atom_dict = pickle.load(f)"
   ]
  },
  {
   "cell_type": "code",
   "execution_count": 9,
   "id": "7f239127",
   "metadata": {},
   "outputs": [
    {
     "data": {
      "text/plain": [
       "<function matplotlib.pyplot.show(close=None, block=None)>"
      ]
     },
     "execution_count": 9,
     "metadata": {},
     "output_type": "execute_result"
    },
    {
     "data": {
      "image/png": "[encoded data removed]",
      "text/plain": [
       "<Figure size 432x288 with 1 Axes>"
      ]
     },
     "metadata": {
      "needs_background": "light"
     },
     "output_type": "display_data"
    }
   ],
   "source": [
    "#update element to see atomic spectra\n",
    "elem = \"Li\"\n",
    "x_spec=atom_dict[elem][:,0]\n",
    "y_spec=atom_dict[elem][:,1]\n",
    "plt.bar(x=x_spec, height = y_spec, width=3) #note width impacts line vis\n",
    "plt.xlabel('wavelength [nm]')\n",
    "plt.ylabel('intensity')\n",
    "plt.xlim([190, 950]) #note data may go beyond this range\n",
    "plt.show\n"
   ]
  },
  {
   "cell_type": "markdown",
   "id": "694aee7f",
   "metadata": {},
   "source": [
    "TODO: class docstrings AND Type Hints per:\n",
    "https://realpython.com/documenting-python-code/\n",
    "https://docs.python.org/3/library/typing.html"
   ]
  },
  {
   "cell_type": "code",
   "execution_count": 66,
   "id": "4c81e9f6-c443-4156-a87b-b3601ce31ff7",
   "metadata": {},
   "outputs": [],
   "source": [
    "class spectrum_maker():\n",
    "    #class docstring, parameters, public methods\n",
    "    \"\"\" generates LPS spectra \"\"\"\n",
    "    #class attributes\n",
    "    #First 30 elements\n",
    "    avail_elem = ['H', 'He', 'Li', 'Be', 'B', 'C', 'N', 'O', 'F', 'Ne', 'Na', 'Mg', 'Al', 'Si', 'P', \n",
    "        'S', 'Cl', 'Ar', 'K', 'Ca', 'Sc', 'Ti', 'V', 'Cr', 'Mn', 'Fe', 'Co', 'Ni', 'Cu', 'Zn']\n",
    "    #Relative ppm of first 30 elements\n",
    "    elem_abund = elem_abund = np.loadtxt(\"./data/abundance/abundance_94.csv\")[0:30]\n",
    "    \n",
    "    #TODO define an environment context and specify datapath there.\n",
    "    with open(datapath + 'top30_spec.pickle', 'rb') as f:\n",
    "        atom_dict = pickle.load(f)\n",
    "    \n",
    "    #Future elements?\n",
    "    \"\"\" ['Ga', 'Ge', 'As', 'Se', 'Br', 'Kr', 'Rb', 'Sr', 'Y', 'Zr', 'Nb', 'Mo', 'Tc', 'Ru', 'Rh', 'Pd', 'Ag', 'Cd', 'In', \n",
    "        'Sn', 'Sb', 'Te', 'I', 'Xe', 'Cs', 'Ba', 'La', 'Ce', 'Pr', 'Nd', 'Pm', 'Sm', 'Eu', 'Gd', 'Tb', 'Dy', \n",
    "        'Ho', 'Er', 'Tm', 'Yb', 'Lu', 'Hf', 'Ta', 'W', 'Re', 'Os', 'Ir', 'Pt', 'Au', 'Hg', 'Tl', 'Pb', 'Bi', \n",
    "        'Po', 'At', 'Rn', 'Fr', 'Ra', 'Ac', 'Th', 'Pa', 'U', 'Np', 'Pu', 'Am', 'Cm', 'Bk', 'Cf', 'Es', 'Fm', \n",
    "        'Md', 'No', 'Lr', 'Rf', 'Db', 'Sg', 'Bh', 'Hs', 'Mt', 'Ds', 'Rg', 'Cn', 'Uut', 'Fl', 'Uup', 'Lv', 'Uus', 'Uuo'] \"\"\"\n",
    "    \n",
    "    def __init__(self, max_z: int) -> None:\n",
    "        if max_z > len(self.avail_elem):\n",
    "            raise ValueError(f\"Currently supports only the first {len(self.avail.elem)} elements\")\n",
    "        self.max_z = max_z\n",
    "        self.elem_abund = self.elem_abund[:max_z]\n",
    "        self.elements = self.avail_elem[:max_z]\n",
    "    #rework without object dict of element fractions, not really a global state of the maker\n",
    "        #self.amt = np.zeros(max_z)\n",
    "        #if len(self.elements) == len(self.amt):\n",
    "        #    self.el_dict = dict(zip(self.elements, self.amt))\n",
    "    #TODO reconsider if mixing dict and array style is worth it vs. strict ordered array conventions\n",
    "\n",
    "    def peak_maker(self,\n",
    "    element,\n",
    "    inc=1,\n",
    "    w_lo=190,\n",
    "    w_hi=950,\n",
    "    voigt_sig=1,#stdev of normal part of voigt convolution\n",
    "    voigt_gam=1, #half-width at half max parameter of cauchy part of convolution\n",
    "    shift=False,\n",
    "    shift_type='sys',\n",
    "    shift_mean=0,\n",
    "    height=False,\n",
    "    height_type='random',\n",
    "    height_mean=0,\n",
    "    height_mag=0.001,\n",
    "    plot=False):\n",
    "        \n",
    "        peak_loc = self.atom_dict[element][:,0]\n",
    "        rel_int = self.atom_dict[element][:,1]\n",
    "        if plot:\n",
    "        #    plot histogram of element intensities\n",
    "            plt.bar(x=peak_loc, height=rel_int, width=3,color=\"red\")\n",
    "            plt.xlabel('wavelength [nm]')\n",
    "            plt.ylabel('intensity')\n",
    "            plt.xlim([190, 950]) #note data may go beyond this range\n",
    "            plt.show\n",
    "        \n",
    "        peak_count = len(rel_int)\n",
    "        wave = np.arange(w_lo, w_hi, inc)\n",
    "        \n",
    "        # jitter peak positions and intensities\n",
    "        if shift:\n",
    "            if shift_type=='sys': # apply systematic peak shift\n",
    "                peak_loc = peak_loc + shift_mean\n",
    "            if shift=='random': # apply random peak wavelength shift, mean 0\n",
    "                mag = shift_mean * (np.random.rand(peak_count) - 0.5)\n",
    "                peak_loc = peak_loc + mag\n",
    "        \n",
    "        if height:\n",
    "            if height_type=='random':\n",
    "                h_mult = np.random.rand(peak_count) + 0.5 #min 0.5, mean 1.0, max 1.5\n",
    "                rel_int = rel_int * h_mult\n",
    "                rel_int = rel_int / np.sum(rel_int, axis=0) #re-scale to 1.0\n",
    "            if height_type=='lin':\n",
    "                h_add = height_mag * peak_loc + height_mean\n",
    "                rel_int = np.where(rel_int + h_add < 0, 0, rel_int + h_add)\n",
    "                rel_int = rel_int / np.sum(rel_int, axis=0) #re-scale to 1.0\n",
    "        \n",
    "        # create peaks with defined Voigt profiles from peak location and intensities derived from database\n",
    "        peaks = np.array([a * voigt(wave - x, voigt_sig, voigt_gam) for a, x in zip(rel_int, peak_loc)])\n",
    "        #sum the wave profiles across all the (rel_int, peak_loc) tuples, now smoothed spectra  on range w_lo:w_hi\n",
    "        #scale the end result\n",
    "        spec = np.sum(peaks, axis=0)\n",
    "        spec = spec/np.sum(spec)\n",
    "        \n",
    "        if plot:\n",
    "            plt.plot(wave, spec)\n",
    "            plt.xlabel('wavelength [nm]')\n",
    "            plt.ylabel('intensity')\n",
    "            plt.xlim([190, 950])\n",
    "            plt.show\n",
    "        \n",
    "        return wave, spec    \n",
    "    \n",
    "    #make_spectra provides the weighted superposition of peak_maker spectra with artifacts/noise added\n",
    "    def make_spectra(self, \n",
    "        fracs, #element relative element proportion array, must be length = max_z of instance\n",
    "        inc=1,\n",
    "        w_lo=190, # lower limit of spectrum\n",
    "        w_hi=950, # upper limit of spectrum\n",
    "        artifact=False, # flag to include spectral artifacts ('constant', 'square', or 'Gaussian')\n",
    "        art_type=['square', 'Gaussian'], # types of artifacts to be included - must be a list for now\n",
    "        art_mag=0.1, # relative magnitude of artifact to spectrum intensity\n",
    "        noise=False, # noise flag\n",
    "        noise_type='Gaussian', # noise type\n",
    "        snr=10):\n",
    "        \n",
    "        if len(fracs) != self.max_z:\n",
    "            raise ValueError(f\"First {self.max_z} elements configured, {len(fracs)} provided.\")\n",
    "        if not (all(x >=0 for x in fracs) and np.sum(fracs) > 0):\n",
    "            raise ValueError(\"Element fractions must be non-negative and sum must be non-zero\")\n",
    "        \n",
    "        #scale fractions to sum to 1.0\n",
    "        fracs = fracs/np.sum(fracs)\n",
    "        wave = np.arange(w_lo, w_hi, inc)\n",
    "        spec_array = np.zeros((self.max_z, len(wave)))\n",
    "        #spec_dict = dict(zip(self.el_dict.keys(), np.zeros(len(wave)))) # preallocate dict of spectra\n",
    "        #spec = np.zeros(len(wave))\n",
    "        #gen individual element spectra and combine into weighted sum. (weighted sum should remain 1.0)\n",
    "        for i in range(self.max_z): #considered np.nonzero() syntax but opaque\n",
    "            if fracs[i] > 0:#only process elements with non-zero weight\n",
    "        #TODO add logic here to vary peak_maker parameters randomly\n",
    "        # use **kwargs to pass on parameters from this method invocation to next\n",
    "                _, spec_array[i] = self.peak_maker(self.elements[i], shift=True, height=True)\n",
    "                #error trying multipler above:  can't multiply sequence by non-int of type float\n",
    "                spec_array[i] = fracs[i] * spec_array[i]\n",
    "        \n",
    "        #aggregate the weighted spectra to componsite, figure the maximum peak, scale spectrum\n",
    "        spec = np.sum(spec_array, axis=0) #note that axis is the one you are collapsing, e.g. leaves columns\n",
    "        spec /= np.sum(spec)\n",
    "        maximum = np.max(spec)\n",
    "        \n",
    "        # --- add artifacts\n",
    "        art = np.zeros(len(spec))\n",
    "        if artifact:\n",
    "            if any([i=='const' for i in art_type]):\n",
    "                art += art_mag * maximum\n",
    "                \n",
    "            if any([i=='square' for i in art_type]):\n",
    "                lim = np.sort(np.random.choice(wave, 2))\n",
    "                idx = (wave>lim[0]) * (wave<lim[1])\n",
    "                sq_loc = np.where(idx)[0]\n",
    "                art_scale = art_mag * maximum\n",
    "                art[sq_loc] += art_scale\n",
    "                \n",
    "            if any([i=='Gaussian' for i in art_type]):\n",
    "                #TODO check if sigma should be parametrized with method arg\n",
    "                sigma = (w_hi-w_lo)*0.5\n",
    "                mu = np.random.randint(w_lo,w_hi)\n",
    "                bg = 100 * np.random.rand() * maximum * 1/(sigma * np.sqrt(2 * np.pi)) * np.exp( - (wave - mu)**2 / (2 * sigma**2))\n",
    "                art += bg\n",
    "                \n",
    "        spec += art\n",
    "        spec_array = np.append(spec_array, np.expand_dims(art, 0), axis=0)\n",
    "        # --- add noise\n",
    "        noi = np.zeros(len(spec))\n",
    "        if noise:\n",
    "            if noise_type=='Gaussian':\n",
    "                #TODO: review noise generation process with Mike\n",
    "                noi += np.random.normal(0, 1/snr**2, len(noi))\n",
    "        \n",
    "        #limit the net spectrum to nonnegative intensity values\n",
    "        spec = np.where(spec + noi < 0, 0, spec + noi)\n",
    "        spec_array = np.append(spec_array, np.expand_dims(noi, 0), axis=0)\n",
    "        \n",
    "        return wave, spec, spec_array\n",
    "    \n",
    "    def batch_spectra(self,\n",
    "        focus_el=[], #optional list of specific elements within class max_z\n",
    "        n_elem=4, #defines the mean number of elements included\n",
    "        n_delta=2, #defines the +/- range for number of elements to vary\n",
    "        abund_scale=0.5, #max variation factor on natural abundance (<=1)\n",
    "        inc=1,\n",
    "        w_lo=190, # lower limit of spectrum\n",
    "        w_hi=950, # upper limit of spectrum\n",
    "        artifact=True, # flag to include spectral artifacts ('constant', 'square', or 'Gaussian')\n",
    "        art_type=['square', 'Gaussian'], # types of artifacts to be included - must be a list for now\n",
    "        art_mag=0.1, # relative magnitude of artifact to spectrum intensity\n",
    "        sigma=True, # noise \n",
    "        mu=True,\n",
    "        a=True,\n",
    "        noise=True, # noise flag\n",
    "        noise_type='Gaussian', # noise type\n",
    "        snr=10,\n",
    "        batch=16): #number of samples to create\n",
    "        \n",
    "        max_elem = self.max_z\n",
    "        if len(focus_el):\n",
    "            max_elem = len(focus_el)\n",
    "            if not all (x in self.elements for x in focus_el):\n",
    "                raise ValueError(f\"Elements must be among the first {self.max_z}.\")\n",
    "        if n_elem + n_delta > max_elem:\n",
    "            raise ValueError(\"n_elem + n_delta cannot exceed available elements\") \n",
    "        if n_delta > n_elem-1:\n",
    "            raise ValueError(\"n_delta must be less than n_elem to avoid empty samples\")\n",
    "        if abund_scale <0 or abund_scale >1:\n",
    "            raise ValueError(f\"abund_scale must lie on interval [0,1], {abund_scale} given\")\n",
    "        #generate the element fractions\n",
    "        #first identify the number of elements that will be in each sample in the batch\n",
    "        num_elem = (n_elem + np.round(2 * (n_delta+0.5) * np.random.rand(batch) - (n_delta+0.5))).astype(int)\n",
    "        #next identify the elements to include\n",
    "        #TODO add option for non-uniform sampling, e.g. sample appearance ~ abundance or other factor\n",
    "        if len(focus_el):\n",
    "            sample_el= [np.random.choice(focus_el, num_elem[i]) for i in range(batch)] #list, not array\n",
    "        else:\n",
    "            sample_el = [np.random.choice(self.elements, num_elem[i]) for i in range(batch)] #list, not array\n",
    "        \n",
    "        #with the elements selected, generate fracs arrays for make_spectra\n",
    "        #note the length of fracs is determined by max_z on object instantiation\n",
    "        #central proportion are based on abundance (entropic), maybe another mode for enthalpic\n",
    "        #create a boolean mask to filter element abundance\n",
    "        samp_mask = np.array([np.in1d(self.elements, sample_el[i]) for i in range(batch)]) #shape (batch, max_z)\n",
    "        sample_abund = self.elem_abund * samp_mask #rightmost dims = max_z for broadcasting\n",
    "        #with relative sample proportions set to abundance, introduce variation scaled by parameter\n",
    "        sample_var = 2 * abund_scale * (np.random.rand(batch, self.max_z)-0.5)\n",
    "        sample_fracs = sample_abund * (1 + sample_var)\n",
    "        #scale to sum to 1.0, maybe redundant with later scaling\n",
    "        fracs = sample_fracs / np.sum(sample_fracs, axis=1, keepdims=True) \n",
    "\n",
    "        #The goal of UNet model is prediction of spectra array from composite spectra\n",
    "        wave = np.arange(w_lo,w_hi,inc) #only needed for correct length\n",
    "        x_data = np.zeros((batch, len(wave)))\n",
    "        y_data = np.zeros((batch, int(self.max_z+2), len(wave)))\n",
    "        \n",
    "        #note the wave range generated from w_lo, w_hi, inc is going to be same in each sample\n",
    "        # make_spectra also returns composite spectra and array of weighted element spectra, artifacts, noise\n",
    "        for i in np.arange(batch):\n",
    "            wave, x_data[i], y_data[i] = self.make_spectra(fracs=fracs[i], inc=inc, w_lo=w_lo, w_hi=w_hi, \n",
    "                                                        artifact=artifact, art_type=art_type, art_mag=art_mag,\n",
    "                                                        noise=noise, noise_type=noise_type,snr=snr)\n",
    "        \n",
    "        return fracs, wave, x_data, y_data\n",
    "        "
   ]
  },
  {
   "cell_type": "code",
   "execution_count": 52,
   "id": "23438d23",
   "metadata": {},
   "outputs": [
    {
     "data": {
      "text/plain": [
       "<function matplotlib.pyplot.show(close=None, block=None)>"
      ]
     },
     "execution_count": 52,
     "metadata": {},
     "output_type": "execute_result"
    },
    {
     "data": {
      "image/png": "[encoded data removed]",
      "text/plain": [
       "<Figure size 432x288 with 1 Axes>"
      ]
     },
     "metadata": {
      "needs_background": "light"
     },
     "output_type": "display_data"
    }
   ],
   "source": [
    "#explore Gaussian artifact formula\n",
    "inc=1\n",
    "w_lo=190 # lower limit of spectrum\n",
    "w_hi=950 # upper limit of spectrum\n",
    "maximum=0.1 #max relative intensity\n",
    "sigma = (w_hi-w_lo) * 0.5\n",
    "mu = np.random.randint(w_lo,w_hi)\n",
    "wave = np.arange(w_lo,w_hi,inc)\n",
    "bg = 100 * np.random.rand() * maximum * (1/(sigma * np.sqrt(2 * np.pi))) * np.exp( - (wave - mu)**2 / (2 * sigma**2))\n",
    "plt.plot(wave, bg)\n",
    "plt.xlabel('wavelength [nm]')\n",
    "plt.ylabel('intensity')\n",
    "plt.xlim([190, 950])\n",
    "plt.show"
   ]
  },
  {
   "cell_type": "code",
   "execution_count": 55,
   "id": "1f53f6db",
   "metadata": {},
   "outputs": [
    {
     "name": "stdout",
     "output_type": "stream",
     "text": [
      "<class 'numpy.ndarray'>\n",
      "<class 'numpy.ndarray'>\n"
     ]
    },
    {
     "data": {
      "image/png": "[encoded data removed]",
      "text/plain": [
       "<Figure size 432x288 with 1 Axes>"
      ]
     },
     "metadata": {
      "needs_background": "light"
     },
     "output_type": "display_data"
    }
   ],
   "source": [
    "#Test peak maker method from class spectrum_maker\n",
    "my_maker = spectrum_maker(10)\n",
    "wave, spec = my_maker.peak_maker(element = \"H\", plot = True)\n",
    "print(type(wave))\n",
    "print(type(spec))"
   ]
  },
  {
   "cell_type": "code",
   "execution_count": 60,
   "id": "0bc1b0dd",
   "metadata": {},
   "outputs": [
    {
     "name": "stdout",
     "output_type": "stream",
     "text": [
      "<class 'numpy.ndarray'> <class 'numpy.ndarray'> <class 'numpy.ndarray'>\n"
     ]
    },
    {
     "data": {
      "text/plain": [
       "<function matplotlib.pyplot.show(close=None, block=None)>"
      ]
     },
     "execution_count": 60,
     "metadata": {},
     "output_type": "execute_result"
    },
    {
     "data": {
      "image/png": "[encoded data removed]",
      "text/plain": [
       "<Figure size 432x288 with 1 Axes>"
      ]
     },
     "metadata": {
      "needs_background": "light"
     },
     "output_type": "display_data"
    }
   ],
   "source": [
    "#Test method make_spectra from class spectrum_maker\n",
    "my_maker = spectrum_maker(10)\n",
    "#first 10 elements\n",
    "my_elem = ['H', 'He', 'Li', 'Be', 'B', 'C', 'N', 'O', 'F', 'Ne']\n",
    "my_fracs = [0.1, 0, 0.2, 0, 0, 0.3, 0.2, 0.1, 0, 0.1]\n",
    "my_wave, my_spec, my_specarray = my_maker.make_spectra(fracs=my_fracs)\n",
    "print(type(my_wave), type(my_spec), type(my_specarray))\n",
    "\n",
    "plt.plot(my_wave, my_spec)\n",
    "plt.xlabel('wavelength [nm]')\n",
    "plt.ylabel('intensity')\n",
    "plt.xlim([190, 950])\n",
    "plt.show\n"
   ]
  },
  {
   "cell_type": "code",
   "execution_count": 67,
   "id": "d1309f3b",
   "metadata": {},
   "outputs": [],
   "source": [
    "#test batch_spectra method\n",
    "my_maker = spectrum_maker(20)\n",
    "fracs, wave, x_data, y_data = my_maker.batch_spectra()\n"
   ]
  },
  {
   "cell_type": "code",
   "execution_count": 7,
   "id": "8f0dce9f-85f8-4148-8ab5-1584ffd0067b",
   "metadata": {},
   "outputs": [],
   "source": [
    "def syn_data_1():\n",
    "    nel = 5\n",
    "    npad = 92 - nel\n",
    "    fracs = np.pad(np.random.rand(nel), (0, npad))\n",
    "    fracs /= np.sum(fracs)\n",
    "    \n",
    "    return fracs"
   ]
  },
  {
   "cell_type": "code",
   "execution_count": 9,
   "id": "cd2a1096-a133-4f30-8b51-84530bd9de8c",
   "metadata": {},
   "outputs": [],
   "source": [
    "class data_loader():\n",
    "    \"\"\" load data filenames from a path, spilt in to training and validation, and randomize for new epochs \"\"\"\n",
    "    \n",
    "    def __init__(self, path):\n",
    "        self.filenames = glob.glob(path + '/*')\n",
    "        self.filenumbers = [i.split('/')[-1].split('.npy')[0].split('_')[1] for i in self.filenames]\n",
    "        self.filedict = dict(zip(self.filenumbers, self.filenames))\n",
    "        \n",
    "    def tvdata(self, tval=0.75):\n",
    "        # training data\n",
    "        td = random.choices(self.filenumbers, k=int(len(self.filenumbers) * tval))\n",
    "        tdl = [self.filedict[x] for x in td]\n",
    "        \n",
    "        # validation data\n",
    "        vd = set(self.filenumbers) ^ set(td)\n",
    "        vdl = [self.filedict[x] for x in vd]\n",
    "        \n",
    "        return vdl, tdl\n",
    "    \n",
    "    def rand_edata(self, epoch_num=0):\n",
    "        pass\n",
    "    "
   ]
  },
  {
   "cell_type": "code",
   "execution_count": 7,
   "id": "115524bd-2bf5-4f84-8d53-fe7d368d00eb",
   "metadata": {},
   "outputs": [],
   "source": [
    "# test_dclass = data_loader()\n",
    "# test_vval, test_tval = test_dclass.tvdata()"
   ]
  },
  {
   "cell_type": "code",
   "execution_count": 10,
   "id": "8a689d9c-3a6b-44f8-bd02-367fcd520a83",
   "metadata": {},
   "outputs": [],
   "source": [
    "def double_conv(in_c, out_c, kernel_size=6):\n",
    "    conv = nn.Sequential(\n",
    "        nn.Conv1d(in_c, out_c, kernel_size=kernel_size),\n",
    "        nn.ReLU(inplace=True),\n",
    "        nn.Conv1d(out_c, out_c, kernel_size=kernel_size),\n",
    "        nn.ReLU(inplace=True))\n",
    "        \n",
    "    return conv\n",
    "\n",
    "def crop_img(tensor, target_tensor):\n",
    "    target_size = target_tensor.size()[-1]\n",
    "    tensor_size = tensor.size()[-1]\n",
    "    delta = abs(target_size - tensor_size)\n",
    "    \n",
    "    if delta % 2 > 0:\n",
    "        delta = delta // 2 \n",
    "        return tensor[:, :, delta:(tensor_size - delta - 1)]\n",
    "    else:\n",
    "        delta = delta // 2\n",
    "        return tensor[:, :, delta:tensor_size - delta]"
   ]
  },
  {
   "cell_type": "code",
   "execution_count": 11,
   "id": "90950b1c-263a-4188-a579-91889f843042",
   "metadata": {},
   "outputs": [],
   "source": [
    "class LIBSUNet(nn.Module):\n",
    "    \"\"\" UNet for LIBS data \"\"\"\n",
    "    def __init__(self):\n",
    "        super(LIBSUNet, self).__init__()\n",
    "        \n",
    "        el = torch.tensor([0,1,2,4,6,8,16]) * 94 # 94 output channels corresponding to 92 elements + artifacts + noise \n",
    "        \n",
    "        self.max_pool = nn.MaxPool1d(kernel_size=2, stride=2)\n",
    "        self.down_conv_1 = double_conv(1, 94)\n",
    "        self.down_conv_2 = double_conv(94, 188)\n",
    "        self.down_conv_3 = double_conv(188, 376)\n",
    "        self.down_conv_4 = double_conv(376, 752)\n",
    "        self.down_conv_5 = double_conv(752, 1504)\n",
    "        \n",
    "        \n",
    "        self.up_trans_1 = nn.ConvTranspose1d(\n",
    "            in_channels=1504,\n",
    "            out_channels=752,\n",
    "            kernel_size=2,\n",
    "            stride=2)\n",
    "        self.up_conv_1 = double_conv(1504, 752)\n",
    "        \n",
    "        self.up_trans_2 = nn.ConvTranspose1d(\n",
    "            in_channels=752,\n",
    "            out_channels=376,\n",
    "            kernel_size=2,\n",
    "            stride=2)\n",
    "        self.up_conv_2 = double_conv(752, 376)\n",
    "        \n",
    "        self.up_trans_3 = nn.ConvTranspose1d(\n",
    "            in_channels=376,\n",
    "            out_channels=188,\n",
    "            kernel_size=2,\n",
    "            stride=2)\n",
    "        self.up_conv_3 = double_conv(376, 188)\n",
    "        \n",
    "        self.up_trans_4 = nn.ConvTranspose1d(\n",
    "            in_channels=188,\n",
    "            out_channels=94,\n",
    "            kernel_size=2,\n",
    "            stride=2)\n",
    "        self.up_conv_4 = double_conv(188, 94)\n",
    "        \n",
    "        self.out = nn.Linear(720, 720)\n",
    "        \n",
    "    def forward(self, image):\n",
    "        #encoder\n",
    "        x1 = self.down_conv_1(image)\n",
    "        x2 = self.max_pool(x1)\n",
    "        x3 = self.down_conv_2(x2)\n",
    "        x4 = self.max_pool(x3)\n",
    "        x5 = self.down_conv_3(x4)\n",
    "        x6 = self.max_pool(x5)\n",
    "        x7 = self.down_conv_4(x6)\n",
    "        x8 = self.max_pool(x7)\n",
    "        x9 = self.down_conv_5(x8)\n",
    "        \n",
    "        #decoder\n",
    "        x = self.up_trans_1(x9)\n",
    "        y = crop_img(x7, x)\n",
    "        x = self.up_conv_1(torch.cat([x, y], 1))\n",
    "        x = self.up_trans_2(x7)\n",
    "        y = crop_img(x5, x)\n",
    "        x = self.up_conv_2(torch.cat([x, y], 1))\n",
    "        x = self.up_trans_3(x5)\n",
    "        y = crop_img(x3, x)\n",
    "        x = self.up_conv_3(torch.cat([x, y], 1))\n",
    "        x = self.up_trans_4(x3)\n",
    "        y = crop_img(x1, x)\n",
    "        x = self.up_conv_4(torch.cat([x, y], 1))\n",
    "        y = self.out(x)\n",
    "        \n",
    "        return y"
   ]
  },
  {
   "cell_type": "code",
   "execution_count": 12,
   "id": "d3d60caa-98ff-48e3-acc3-9449fc4e15b6",
   "metadata": {},
   "outputs": [
    {
     "data": {
      "text/plain": [
       "torch.Size([1, 760])"
      ]
     },
     "execution_count": 12,
     "metadata": {},
     "output_type": "execute_result"
    },
    {
     "data": {
      "image/png": "[encoded data removed]",
      "text/plain": [
       "<Figure size 432x288 with 1 Axes>"
      ]
     },
     "metadata": {
      "needs_background": "light"
     },
     "output_type": "display_data"
    }
   ],
   "source": [
    "test_data = spectrum_maker().batch_spectra(syn_data_1(), batch=1, snr=np.random.randint(low=1, high=1000))\n",
    "plt.plot(test_data[0], test_data[1][0])\n",
    "np.shape(test_data[1])\n",
    "#test_data = torch.Tensor(test_data[1][0])[None, None,:]"
   ]
  },
  {
   "cell_type": "code",
   "execution_count": 1,
   "id": "f9e811c8-5ac8-4bec-bb35-cdd8935ebcd0",
   "metadata": {},
   "outputs": [
    {
     "ename": "NameError",
     "evalue": "name 'LIBSUNet' is not defined",
     "output_type": "error",
     "traceback": [
      "\u001b[0;31m---------------------------------------------------------------------------\u001b[0m",
      "\u001b[0;31mNameError\u001b[0m                                 Traceback (most recent call last)",
      "\u001b[1;32m/Users/matt/CloudGit_local/github/gss/phaseMAP/LIBS_Unet_pm.ipynb Cell 10\u001b[0m in \u001b[0;36m<cell line: 1>\u001b[0;34m()\u001b[0m\n\u001b[1;32m      <a href='vscode-notebook-cell:/Users/matt/CloudGit_local/github/gss/phaseMAP/LIBS_Unet_pm.ipynb#ch0000009?line=0'>1</a>\u001b[0m \u001b[39mif\u001b[39;00m \u001b[39m__name__\u001b[39m \u001b[39m==\u001b[39m \u001b[39m\"\u001b[39m\u001b[39m__main__\u001b[39m\u001b[39m\"\u001b[39m:\n\u001b[0;32m----> <a href='vscode-notebook-cell:/Users/matt/CloudGit_local/github/gss/phaseMAP/LIBS_Unet_pm.ipynb#ch0000009?line=1'>2</a>\u001b[0m     model \u001b[39m=\u001b[39m LIBSUNet()\n",
      "\u001b[0;31mNameError\u001b[0m: name 'LIBSUNet' is not defined"
     ]
    }
   ],
   "source": [
    "if __name__ == \"__main__\":\n",
    "    model = LIBSUNet()\n",
    "    #print(model(test_data))\n",
    "    #print(torch.Tensor.size(model(test_data)))"
   ]
  },
  {
   "cell_type": "code",
   "execution_count": 14,
   "id": "a6055fdf-06c6-446e-965c-74530751108f",
   "metadata": {},
   "outputs": [],
   "source": [
    "def train_one_epoch(epoch_index, tb_writer):\n",
    "    running_loss = 0.\n",
    "    last_loss = 0.\n",
    "    batch_size = 16\n",
    "    num_batch = 50\n",
    "    \n",
    "    for i, data in enumerate(np.arange(num_batch)):\n",
    "       \n",
    "        _, inputs, labels = spectrum_maker().batch_spectra(syn_data_1(), batch=batch_size, snr=np.random.randint(low=10, high=1000))\n",
    "        \n",
    "        inputs = inputs[:, None, :]\n",
    "        #labels = labels\n",
    "\n",
    "        # Zero gradients for every batch!\n",
    "        optimizer.zero_grad()\n",
    "\n",
    "        # Make predictions for this batch\n",
    "        outputs = model(inputs)\n",
    "\n",
    "        # Compute the loss and its gradients\n",
    "        loss = loss_fn(outputs, labels[:,:,20:-20])\n",
    "        loss.backward()\n",
    "\n",
    "        # Adjust learning weights\n",
    "        optimizer.step()\n",
    "\n",
    "        # Gather data and report\n",
    "        running_loss += loss.item()\n",
    "        if i % 10 == 1:\n",
    "            last_loss = running_loss / 50 # loss per batch\n",
    "            print('  batch {} loss: {}'.format(i + 1, last_loss))\n",
    "            tb_x = epoch_index * batch_size + i + 1\n",
    "            tb_writer.add_scalar('Loss/train', last_loss, tb_x)\n",
    "            running_loss = 0.\n",
    "\n",
    "    return last_loss"
   ]
  },
  {
   "cell_type": "code",
   "execution_count": 15,
   "id": "294ed574-54b1-46f8-b411-6f02ba1b5e7f",
   "metadata": {},
   "outputs": [
    {
     "name": "stdout",
     "output_type": "stream",
     "text": [
      "EPOCH 1:\n",
      "  batch 2 loss: 2.456051530316472e-05\n",
      "  batch 12 loss: 0.00011880441335961223\n",
      "  batch 22 loss: 0.00010805971105583012\n",
      "  batch 32 loss: 9.737900807522238e-05\n",
      "  batch 42 loss: 8.885879069566726e-05\n",
      "LOSS train 8.885879069566726e-05 valid 0.00039672147249802947\n",
      "EPOCH 2:\n",
      "  batch 2 loss: 1.5832315548323094e-05\n",
      "  batch 12 loss: 7.572857430204749e-05\n",
      "  batch 22 loss: 7.055428228341043e-05\n",
      "  batch 32 loss: 6.593441707082092e-05\n",
      "  batch 42 loss: 6.178535288199783e-05\n",
      "LOSS train 6.178535288199783e-05 valid 0.0002841070236172527\n"
     ]
    }
   ],
   "source": [
    "# Initializing in a separate cell so we can easily add more epochs to the same run\n",
    "\n",
    "timestamp = datetime.datetime.now().strftime('%Y%m%d_%H%M%S')\n",
    "writer = SummaryWriter('runs/fashion_trainer_{}'.format(timestamp))\n",
    "loss_fn = nn.MSELoss()\n",
    "optimizer = optim.SGD(model.parameters(), lr=0.1, momentum=0.9)\n",
    "epoch_number = 0\n",
    "\n",
    "EPOCHS = 2\n",
    "\n",
    "best_vloss = 1_000_000.\n",
    "\n",
    "for epoch in range(EPOCHS):\n",
    "    print('EPOCH {}:'.format(epoch_number + 1))\n",
    "\n",
    "    # Make sure gradient tracking is on, and do a pass over the data\n",
    "    model.train(True)\n",
    "    avg_loss = train_one_epoch(epoch_number, writer)\n",
    "\n",
    "    # We don't need gradients on to do reporting\n",
    "    model.train(False)\n",
    "\n",
    "    running_vloss = 0.0\n",
    "    for i, vdata in enumerate(np.arange(15)):\n",
    "        # Every data instance is an input + label pair\n",
    "        _, vinputs, vlabels = spectrum_maker().make_spectra(syn_data_1(), snr=np.random.randint(low=10, high=1000))\n",
    "        vinputs = torch.Tensor(vinputs[None, None, :])\n",
    "        vlabels = torch.Tensor(vlabels[None, :])\n",
    "        voutputs = model(vinputs)\n",
    "        vloss = loss_fn(voutputs, vlabels[:,:,20:-20])\n",
    "        running_vloss += vloss\n",
    "\n",
    "    avg_vloss = running_vloss / (i + 1)\n",
    "    print('LOSS train {} valid {}'.format(avg_loss, avg_vloss))\n",
    "\n",
    "    # Log the running loss averaged per batch\n",
    "    # for both training and validation\n",
    "    writer.add_scalars('Training vs. Validation Loss',\n",
    "                    { 'Training' : avg_loss, 'Validation' : avg_vloss },\n",
    "                    epoch_number + 1)\n",
    "    writer.flush()\n",
    "\n",
    "    # Track best performance, and save the model's state\n",
    "    if avg_vloss < best_vloss:\n",
    "        best_vloss = avg_vloss\n",
    "        model_path = 'model_{}_{}'.format(timestamp, epoch_number)\n",
    "        torch.save(model.state_dict(), model_path)\n",
    "\n",
    "    epoch_number += 1"
   ]
  }
 ],
 "metadata": {
  "kernelspec": {
   "display_name": "Python 3.8.13 (conda)",
   "language": "python",
   "name": "python3"
  },
  "language_info": {
   "codemirror_mode": {
    "name": "ipython",
    "version": 3
   },
   "file_extension": ".py",
   "mimetype": "text/x-python",
   "name": "python",
   "nbconvert_exporter": "python",
   "pygments_lexer": "ipython3",
   "version": "3.8.13"
  },
  "vscode": {
   "interpreter": {
    "hash": "b7c566e62ebb0cf304e803cca0df60334aebcf2b863034e733115078e753af62"
   }
  }
 },
 "nbformat": 4,
 "nbformat_minor": 5
}
