{
 "cells": [
  {
   "cell_type": "code",
   "execution_count": 23,
   "id": "3e59c2dd-ae29-4f7e-a90d-88f64e9ff8a5",
   "metadata": {
    "tags": []
   },
   "outputs": [],
   "source": [
    "import pickle\n",
    "import datetime\n",
    "import numpy as np\n",
    "from pathlib import Path\n",
    "from matplotlib import pyplot as plt\n",
    "\n",
    "import torch\n",
    "import torch.nn as nn\n",
    "from torch import optim\n",
    "from torch.optim.lr_scheduler import MultiStepLR\n",
    "from torch.utils.data import TensorDataset, DataLoader, random_split\n",
    "from torch.utils.tensorboard import SummaryWriter\n",
    "\n",
    "from libs_unet.models import peakyfinder_0003\n",
    "from libs_unet.training.libs_train import train_loop, test_loop\n",
    "\n",
    "top_dir = Path.cwd()\n",
    "datapath = top_dir / 'data'"
   ]
  },
  {
   "cell_type": "code",
   "execution_count": 32,
   "id": "5c6a9d48",
   "metadata": {},
   "outputs": [],
   "source": [
    "#training data load\n",
    "with open(datapath / 'training' / 'el80_pairs.pickle', 'rb') as f:\n",
    "    fracs = pickle.load(f)\n",
    "    wave = pickle.load(f)\n",
    "    x_data = pickle.load(f)\n",
    "    elem_symb = pickle.load(f)\n",
    "    el_index = pickle.load(f)\n",
    "\n",
    "#create dataset\n",
    "#input needs a placeholder \"channel\" dimension since single channel\n",
    "#learned labels are simply the fraction arrays\n",
    "#data has to match weights which default to float() so cast data as same\n",
    "#we scale spectra according so Li peak at 671 nm is 10,000 (varies by gun/source calibration)\n",
    "input_mult = 0.584 #for simulated spectra using NIST libs lines data\n",
    "\n",
    "x_data = input_mult * torch.tensor(x_data[:,None,:].astype('float32'))\n",
    "y_data = torch.tensor(fracs[:,None,:].astype('float32'))\n",
    "x_data[x_data < 0] = 0\n",
    "y_data[y_data < 0] = 0\n",
    "#log transform input data, add small offset 1 so zero points remain ~zero on log scale\n",
    "#x_data = torch.log(x_data + 1)\n",
    "\n",
    "spec_ds = TensorDataset(x_data, y_data)\n",
    "#batch sizes\n",
    "train_bs = 50\n",
    "test_bs = 100\n",
    "#create random split for training and validation\n",
    "train_len = int(0.8 * len(x_data))\n",
    "test_len = len(x_data) - train_len\n",
    "train_ds, test_ds = random_split(spec_ds,[train_len, test_len])\n",
    "train_dl = DataLoader(train_ds, batch_size=train_bs, shuffle=True) #check if shuffle redundant\n",
    "test_dl = DataLoader(test_ds, batch_size=test_bs)\n",
    "#"
   ]
  },
  {
   "cell_type": "markdown",
   "id": "2f72a8f9",
   "metadata": {},
   "source": [
    "Apply training optimization from \n",
    " https://pytorch.org/tutorials/beginner/basics/optimization_tutorial.html\n",
    " https://pytorch.org/tutorials/beginner/nn_tutorial.html\n",
    "Notes: \n",
    "1. Run dataloader cell first, set batch size/file as needed\n",
    "2. Simulated data is built on first n elements with 760 point spectra (190nm - 949nm)\n",
    "3. Set this parameter so correct model size is built"
   ]
  },
  {
   "cell_type": "code",
   "execution_count": 26,
   "id": "ad67d3ce",
   "metadata": {},
   "outputs": [
    {
     "name": "stdout",
     "output_type": "stream",
     "text": [
      "Epoch 1, learning rate 0.1\n",
      "-------------------------------\n",
      "Epoch 2, learning rate 0.1\n",
      "-------------------------------\n",
      "Epoch 3, learning rate 0.1\n",
      "-------------------------------\n",
      "Epoch 4, learning rate 0.1\n",
      "-------------------------------\n",
      "Epoch 5, learning rate 0.1\n",
      "-------------------------------\n",
      "Epoch 6, learning rate 0.1\n",
      "-------------------------------\n",
      "Epoch 7, learning rate 0.1\n",
      "-------------------------------\n",
      "Epoch 8, learning rate 0.1\n",
      "-------------------------------\n",
      "Epoch 9, learning rate 0.05\n",
      "-------------------------------\n",
      "Epoch 10, learning rate 0.05\n",
      "-------------------------------\n",
      "Done!\n"
     ]
    }
   ],
   "source": [
    "#set parameters\n",
    "from torch.optim import lr_scheduler\n",
    "\n",
    "max_z = len(elem_symb)\n",
    "wl_points = len(wave) #number of wavelength point measurements in data\n",
    "learning_rate = 0.1 #There is a schedule to reduce as loss plateaus\n",
    "#lr_patience = 10\n",
    "#lr_cooldown = 2\n",
    "#lr_thresh = 0.01\n",
    "epochs = 10\n",
    "\n",
    "#Initialize and run\n",
    "model = peakyfinder_0003.LIBSUNet(max_z, wl_points)\n",
    "loss_fn = nn.MSELoss(reduction='mean')\n",
    "optimizer = torch.optim.SGD(model.parameters(), lr=learning_rate)\n",
    "lr_scheduler = MultiStepLR(optimizer, [8], 0.5)\n",
    "#lr_scheduler = ReduceLROnPlateau(optimizer, mode='min', patience=lr_patience,\n",
    "#                                 cooldown=lr_cooldown, threshold=lr_thresh)\n",
    "\n",
    "now_time = datetime.datetime.now().strftime('%Y-%m-%d-%H-%M-%S') #  now \n",
    "writerpath = top_dir / 'runs' / now_time\n",
    "writer = SummaryWriter(writerpath)\n",
    "                            \n",
    "# save trained model\n",
    "#torch.save(model, top_dir / 'trained_models/peakyfinder_0001_')\n",
    "\n",
    "#add model diagram to tensorboard\n",
    "#writer.add_graph(model,train_ds)\n",
    "\n",
    "for t in range(epochs):\n",
    "    print(f\"Epoch {t+1}, learning rate {optimizer.param_groups[0]['lr']}\\n-------------------------------\")\n",
    "    train_loop(train_dl, model, loss_fn, optimizer, writer, t+1, debug=True, bsize=train_bs)\n",
    "    test_loss = test_loop(test_dl, model, loss_fn, writer, t+1)\n",
    "    lr_scheduler.step()\n",
    "print(\"Done!\")\n",
    "\n",
    "#cleanup\n",
    "writer.flush()\n",
    "writer.close()\n"
   ]
  },
  {
   "cell_type": "code",
   "execution_count": 27,
   "id": "06a37299",
   "metadata": {},
   "outputs": [],
   "source": [
    "#Save model parameters for use in Model_Test notebook\n",
    "#https://pytorch.org/tutorials/beginner/saving_loading_models.html\n",
    "param_path = top_dir / 'trained_models' / 'el80_pairs_0001'\n",
    "torch.save(model.state_dict(), param_path)"
   ]
  },
  {
   "cell_type": "code",
   "execution_count": 33,
   "id": "cd66a506",
   "metadata": {},
   "outputs": [],
   "source": [
    "#look at the predicted vs. reference spectra from data set\n",
    "i_samp = 2 #vary up to \n",
    "x_sample = x_data[i_samp][None, :, :] #need correct dimensions with batch for prediction\n",
    "y_sample = y_data[i_samp].detach().numpy() #(1,80) # element fractions"
   ]
  },
  {
   "cell_type": "code",
   "execution_count": 34,
   "id": "0bbd6eac",
   "metadata": {},
   "outputs": [
    {
     "name": "stdout",
     "output_type": "stream",
     "text": [
      "Li:1.000000\n",
      "H:0.025383\n",
      "He:0.052150\n",
      "Li:0.222703\n",
      "B:0.078464\n",
      "N:0.044418\n",
      "F:0.031837\n",
      "Ne:0.034651\n",
      "Na:0.056478\n",
      "Al:0.024303\n",
      "Si:0.028066\n",
      "P:0.016761\n",
      "S:0.024468\n",
      "Cl:0.067331\n",
      "Sc:0.015692\n",
      "Mn:0.042790\n",
      "Zn:0.020376\n",
      "Ga:0.010273\n",
      "Ge:0.013243\n",
      "As:0.030201\n",
      "Kr:0.019517\n",
      "Mo:0.036281\n",
      "Ag:0.017961\n",
      "Sn:0.031887\n",
      "Sb:0.028146\n",
      "Te:0.012759\n",
      "I:0.029367\n",
      "La:0.021785\n",
      "Ce:0.022784\n",
      "Nd:0.034270\n",
      "Sm:0.013020\n",
      "Eu:0.020312\n",
      "Tb:0.010009\n",
      "Dy:0.012313\n",
      "Ho:0.021528\n",
      "Er:0.015115\n",
      "Lu:0.028928\n",
      "Hf:0.058702\n",
      "Ta:0.083498\n",
      "Re:0.019027\n",
      "Os:0.021855\n",
      "Pt:0.037035\n",
      "Au:0.014219\n",
      "Pb:0.051394\n"
     ]
    },
    {
     "data": {
      "image/png": "[encoded data removed]",
      "text/plain": [
       "<Figure size 432x288 with 1 Axes>"
      ]
     },
     "metadata": {
      "needs_background": "light"
     },
     "output_type": "display_data"
    }
   ],
   "source": [
    "#Check prediction\n",
    "for i in range(len(fracs[i_samp])):\n",
    "    if fracs[i_samp][i] > 0:\n",
    "        print(f\"{elem_symb[i]}:{fracs[i_samp][i]:>4f}\")\n",
    "\n",
    "        \n",
    "#first plot the transformed composite input spectrum we're trying to decompose\n",
    "plt.plot(wave, x_sample[0][0])\n",
    "plt.xlabel('wavelength [nm]')\n",
    "plt.ylabel('intensity')\n",
    "#plt.xlim([190, 950])\n",
    "plt.show\n",
    "\n",
    "#predicted fractions\n",
    "model.eval()\n",
    "with torch.no_grad():\n",
    "    pred = model(x_sample)\n",
    "    y_pred = pred[0].detach().numpy()\n",
    "y_pred = y_pred[0]\n",
    "\n",
    "pred_thresh = 0.01\n",
    "for i in range(len(y_pred)):\n",
    "    if y_pred[i] > pred_thresh:\n",
    "        print(f\"{elem_symb[i]}:{y_pred[i]:>4f}\")\n",
    "    \n",
    "\n"
   ]
  },
  {
   "cell_type": "code",
   "execution_count": 21,
   "id": "41525549",
   "metadata": {},
   "outputs": [
    {
     "data": {
      "text/plain": [
       "0.29660103"
      ]
     },
     "execution_count": 21,
     "metadata": {},
     "output_type": "execute_result"
    }
   ],
   "source": [
    "np.max(y_pred)"
   ]
  },
  {
   "cell_type": "code",
   "execution_count": null,
   "id": "a46e4832",
   "metadata": {},
   "outputs": [],
   "source": [
    "#https://matplotlib.org/3.5.0/tutorials/introductory/usage.html#the-object-oriented-interface-and-the-pyplot-interface\n",
    "def pred_plot(ax, data1, data2, param_dict):\n",
    "    out = ax.plot(data1, data2, **param_dict)\n",
    "    return out\n",
    "\n",
    "rows = 27\n",
    "cols = 3\n",
    "fig, axs = plt.subplots(rows, cols, figsize=(20,100), constrained_layout=True)\n",
    "plot_row = 0\n",
    "plot_col = 0\n",
    "for i in range(max_z + 2): #iterate over rows in pred array\n",
    "    if i < max_z:\n",
    "        axs[plot_row][plot_col].set_title(el_symbol[i])\n",
    "    elif i == max_z:\n",
    "        axs[plot_row][plot_col].set_title('artifact')\n",
    "    else:\n",
    "            axs[plot_row][plot_col].set_title('noise')\n",
    "             \n",
    "        axs[plot_row][plot_col].plot(wave, y_pred[i])\n",
    "        if plot_col < 2:\n",
    "            plot_col += 1\n",
    "        else:\n",
    "            plot_col = 0\n",
    "            plot_row += 1"
   ]
  }
 ],
 "metadata": {
  "kernelspec": {
   "display_name": "Python 3.10.4 (conda)",
   "language": "python",
   "name": "python3"
  },
  "language_info": {
   "codemirror_mode": {
    "name": "ipython",
    "version": 3
   },
   "file_extension": ".py",
   "mimetype": "text/x-python",
   "name": "python",
   "nbconvert_exporter": "python",
   "pygments_lexer": "ipython3",
   "version": "3.10.4"
  },
  "vscode": {
   "interpreter": {
    "hash": "b7c566e62ebb0cf304e803cca0df60334aebcf2b863034e733115078e753af62"
   }
  }
 },
 "nbformat": 4,
 "nbformat_minor": 5
}
