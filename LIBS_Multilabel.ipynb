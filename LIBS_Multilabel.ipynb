{
 "cells": [
  {
   "cell_type": "markdown",
   "metadata": {},
   "source": [
    "This notebook will explore models for element identification in a LIBS spectra\n",
    "The model will not estimate abundance, but rather provide a filter for subsequent fitting\n",
    "For example, a L-S fit of the indicated elemental atomic spectra to the composite input spectra yields abundance\n",
    "Note the the unequal intensity of pure atomic spectra indicates a non-equal weighting needed in L-S step\n",
    "\n",
    "While this may ultimately be implemented in pytorch as a custom model (and would be a good exercise), there\n",
    "are off the shelf libraries for this task available in sklearn that provide a straightforward starting point\n",
    "and benchmark for further improvement, such as BP-MLL (Zhang/Zhou 2006)"
   ]
  },
  {
   "cell_type": "code",
   "execution_count": 2,
   "metadata": {},
   "outputs": [],
   "source": [
    "#imports\n",
    "import pickle\n",
    "import numpy as np\n",
    "from pathlib import Path\n",
    "from matplotlib import pyplot as plt\n",
    "##COMMENT OUT FOR NON-INTEL PROCESSOR\n",
    "#from sklearnex import patch_sklearn\n",
    "#patch_sklearn()\n",
    "###\n",
    "from libs_unet.training.spec_maker import spectrum_maker\n",
    "\n",
    "from sklearn.model_selection import train_test_split\n",
    "from sklearn.multiclass import OneVsRestClassifier\n",
    "from sklearn.svm import SVC, LinearSVC\n",
    "from sklearn.metrics import jaccard_score\n",
    "\n",
    "import plotly.graph_objects as go\n",
    "\n",
    "top_dir = Path.cwd()\n",
    "datapath = top_dir / 'data'\n",
    "\n",
    "#constants\n",
    "eps = 1e-6\n",
    "nist_mult = 1.168"
   ]
  },
  {
   "cell_type": "code",
   "execution_count": 3,
   "metadata": {},
   "outputs": [],
   "source": [
    "#data import\n",
    "with open(datapath / 'training' / 'el80_pairs_lg.pickle', 'rb') as f:\n",
    "    elem_symb = pickle.load(f)\n",
    "    el_index = pickle.load(f)\n",
    "    fracs = pickle.load(f)\n",
    "    wave = pickle.load(f)\n",
    "    x_data = pickle.load(f)\n",
    "    y_data = pickle.load(f)"
   ]
  },
  {
   "cell_type": "markdown",
   "metadata": {},
   "source": [
    "Multilabel classification\n",
    "The relevant library appears to be sklearn.multiclass.OneVsRestClassifier\n",
    "with the target y set to a (sample x classes) array of binary class indicators\n",
    "https://scikit-learn.org/stable/modules/generated/sklearn.multiclass.OneVsRestClassifier.html#sklearn.multiclass.OneVsRestClassifier"
   ]
  },
  {
   "cell_type": "code",
   "execution_count": 4,
   "metadata": {},
   "outputs": [],
   "source": [
    "#prep data for multilabel classification\n",
    "#x array will be the intensities (potentially scaled / transformed) by wavelength\n",
    "#y array will be the binary indcators of element presence - e.g. length 80 array of 0/1s\n",
    "\n",
    "#prediction accuracy only ~5% without log transform\n",
    "x_scaled = nist_mult * x_data\n",
    "X = np.log(x_scaled + eps) # (9560, 782)\n",
    "y = (fracs > 0).astype('int') # (9560, 80)\n",
    "\n",
    "#make a little modification to allow stratified splitting\n",
    "# The first 80 samples are single-element and do not recur\n",
    "# each \"label\" has to appear at least twice for stratification\n",
    "# tack copy of first 80 x,y to end of each\n",
    "\n",
    "X = np.append(X, X[:80], axis=0)\n",
    "y = np.append(y, y[:80], axis=0)\n",
    "#split into train/test sets\n",
    "X_train, X_test, y_train, y_test = train_test_split(X, y, test_size=0.25, \n",
    "    stratify=y, random_state=42)"
   ]
  },
  {
   "cell_type": "code",
   "execution_count": 5,
   "metadata": {},
   "outputs": [
    {
     "name": "stdout",
     "output_type": "stream",
     "text": [
      "training labels, min:0.024475524475524476 max: 0.025407925407925407\n",
      "test labels, min:0.023496503496503496 max: 0.026293706293706295\n"
     ]
    }
   ],
   "source": [
    "#check stratification, looking at pct samples \"positive\" for each element\n",
    "train_pcts = np.sum(y_train, axis=0) / len(y_train)\n",
    "print(f\"training labels, min:{np.min(train_pcts)} max: {np.max(train_pcts)}\")\n",
    "\n",
    "test_pcts = np.sum(y_test, axis=0) / len(y_test)\n",
    "print(f\"test labels, min:{np.min(test_pcts)} max: {np.max(test_pcts)}\")\n"
   ]
  },
  {
   "cell_type": "code",
   "execution_count": 6,
   "metadata": {},
   "outputs": [],
   "source": [
    "# Train classifier\n",
    "#Notes on choice of estimator for labeled classifiction indicates LinearSVC for <100k sample, else SGDClassifier\n",
    "# https://scikit-learn.org/stable/tutorial/machine_learning_map/index.html\n",
    "#SVC was 1m 40s for 9,560 samples. Linear SVC took 10m 26s and did not converge\n",
    "clf = OneVsRestClassifier(SVC()).fit(X_train, y_train)"
   ]
  },
  {
   "cell_type": "code",
   "execution_count": 7,
   "metadata": {},
   "outputs": [],
   "source": [
    "#review predictions for test set\n",
    "y_pred = clf.predict(X_test)"
   ]
  },
  {
   "cell_type": "code",
   "execution_count": 8,
   "metadata": {},
   "outputs": [
    {
     "name": "stdout",
     "output_type": "stream",
     "text": [
      "prediction accuracy: 0.6843356643356643\n"
     ]
    }
   ],
   "source": [
    "#prediction accuracy, all labels exact\n",
    "hits = 0\n",
    "for i in range(len(y_pred)):\n",
    "     if np.array_equal(y_pred[i], y_test[i]):\n",
    "        hits +=1\n",
    "print(f\"prediction accuracy: {hits / len(y_pred)}\")\n",
    "#accuracy 46.4% for log transformed x\n",
    "#accuracy 5.18% for non-transformed x\n",
    "#accuracy 5.6% for log.log transformed x\n"
   ]
  },
  {
   "cell_type": "code",
   "execution_count": 118,
   "metadata": {},
   "outputs": [
    {
     "name": "stdout",
     "output_type": "stream",
     "text": [
      "sample average acc: 0.8421445221445222\n"
     ]
    },
    {
     "data": {
      "application/vnd.plotly.v1+json": {
       "config": {
        "plotlyServerURL": "https://plot.ly"
       },
       "data": [
        {
         "cells": {
          "values": [
           [
            "H",
            "He",
            "Li",
            "Be",
            "B",
            "C",
            "N",
            "O",
            "F",
            "Ne",
            "Na",
            "Mg",
            "Al",
            "Si",
            "P",
            "S",
            "Cl",
            "Ar",
            "K",
            "Ca",
            "Sc",
            "Ti",
            "V",
            "Cr",
            "Mn",
            "Fe",
            "Co",
            "Ni",
            "Cu",
            "Zn",
            "Ga",
            "Ge",
            "As",
            "Br",
            "Kr",
            "Rb",
            "Sr",
            "Y",
            "Zr",
            "Mo",
            "Tc",
            "Ru",
            "Rh",
            "Pd",
            "Ag",
            "Cd",
            "In",
            "Sn",
            "Sb",
            "Te",
            "I",
            "Xe",
            "Cs",
            "Ba",
            "La",
            "Ce",
            "Pr",
            "Nd",
            "Sm",
            "Eu",
            "Gd",
            "Tb",
            "Dy",
            "Ho",
            "Er",
            "Tm",
            "Yb",
            "Lu",
            "Hf",
            "Ta",
            "W",
            "Re",
            "Os",
            "Ir",
            "Pt",
            "Au",
            "Hg",
            "Tl",
            "Pb",
            "Bi"
           ],
           [
            0.7709,
            0.0484,
            0.9944,
            0.983,
            0.8736,
            0.9341,
            0.8023,
            0.8644,
            0.4475,
            0.1029,
            0.9884,
            0.9827,
            0.9425,
            0.9056,
            0.9489,
            0.9382,
            0.8977,
            0.7955,
            0.977,
            0.9944,
            0.9941,
            0.9892,
            0.9718,
            0.9661,
            0.9727,
            0.956,
            0.9379,
            0.9444,
            0.9375,
            0.9824,
            0.8736,
            0.867,
            0.7273,
            0.933,
            0.8956,
            0.9829,
            0.994,
            1,
            0.4778,
            0.858,
            0.9622,
            0.8297,
            0.6893,
            0.7458,
            0.931,
            0.9669,
            0.9101,
            0.956,
            0.7222,
            0.5754,
            0.3017,
            0.9355,
            0.9651,
            1,
            0.9831,
            0.9529,
            0.9767,
            0.9348,
            0.6893,
            0.9709,
            0.5029,
            0.8466,
            0.8603,
            0.8333,
            0.838,
            0.948,
            0.9945,
            0.9831,
            0.827,
            0.8547,
            0.8212,
            0.1285,
            0.1453,
            0.7458,
            0.9432,
            0.9538,
            0.9826,
            0.9045,
            0.9457,
            0.8556
           ]
          ]
         },
         "header": {
          "values": [
           "Element",
           "Prediction Accuracy"
          ]
         },
         "type": "table"
        }
       ],
       "layout": {
        "height": 2000,
        "template": {
         "data": {
          "bar": [
           {
            "error_x": {
             "color": "#2a3f5f"
            },
            "error_y": {
             "color": "#2a3f5f"
            },
            "marker": {
             "line": {
              "color": "#E5ECF6",
              "width": 0.5
             },
             "pattern": {
              "fillmode": "overlay",
              "size": 10,
              "solidity": 0.2
             }
            },
            "type": "bar"
           }
          ],
          "barpolar": [
           {
            "marker": {
             "line": {
              "color": "#E5ECF6",
              "width": 0.5
             },
             "pattern": {
              "fillmode": "overlay",
              "size": 10,
              "solidity": 0.2
             }
            },
            "type": "barpolar"
           }
          ],
          "carpet": [
           {
            "aaxis": {
             "endlinecolor": "#2a3f5f",
             "gridcolor": "white",
             "linecolor": "white",
             "minorgridcolor": "white",
             "startlinecolor": "#2a3f5f"
            },
            "baxis": {
             "endlinecolor": "#2a3f5f",
             "gridcolor": "white",
             "linecolor": "white",
             "minorgridcolor": "white",
             "startlinecolor": "#2a3f5f"
            },
            "type": "carpet"
           }
          ],
          "choropleth": [
           {
            "colorbar": {
             "outlinewidth": 0,
             "ticks": ""
            },
            "type": "choropleth"
           }
          ],
          "contour": [
           {
            "colorbar": {
             "outlinewidth": 0,
             "ticks": ""
            },
            "colorscale": [
             [
              0,
              "#0d0887"
             ],
             [
              0.1111111111111111,
              "#46039f"
             ],
             [
              0.2222222222222222,
              "#7201a8"
             ],
             [
              0.3333333333333333,
              "#9c179e"
             ],
             [
              0.4444444444444444,
              "#bd3786"
             ],
             [
              0.5555555555555556,
              "#d8576b"
             ],
             [
              0.6666666666666666,
              "#ed7953"
             ],
             [
              0.7777777777777778,
              "#fb9f3a"
             ],
             [
              0.8888888888888888,
              "#fdca26"
             ],
             [
              1,
              "#f0f921"
             ]
            ],
            "type": "contour"
           }
          ],
          "contourcarpet": [
           {
            "colorbar": {
             "outlinewidth": 0,
             "ticks": ""
            },
            "type": "contourcarpet"
           }
          ],
          "heatmap": [
           {
            "colorbar": {
             "outlinewidth": 0,
             "ticks": ""
            },
            "colorscale": [
             [
              0,
              "#0d0887"
             ],
             [
              0.1111111111111111,
              "#46039f"
             ],
             [
              0.2222222222222222,
              "#7201a8"
             ],
             [
              0.3333333333333333,
              "#9c179e"
             ],
             [
              0.4444444444444444,
              "#bd3786"
             ],
             [
              0.5555555555555556,
              "#d8576b"
             ],
             [
              0.6666666666666666,
              "#ed7953"
             ],
             [
              0.7777777777777778,
              "#fb9f3a"
             ],
             [
              0.8888888888888888,
              "#fdca26"
             ],
             [
              1,
              "#f0f921"
             ]
            ],
            "type": "heatmap"
           }
          ],
          "heatmapgl": [
           {
            "colorbar": {
             "outlinewidth": 0,
             "ticks": ""
            },
            "colorscale": [
             [
              0,
              "#0d0887"
             ],
             [
              0.1111111111111111,
              "#46039f"
             ],
             [
              0.2222222222222222,
              "#7201a8"
             ],
             [
              0.3333333333333333,
              "#9c179e"
             ],
             [
              0.4444444444444444,
              "#bd3786"
             ],
             [
              0.5555555555555556,
              "#d8576b"
             ],
             [
              0.6666666666666666,
              "#ed7953"
             ],
             [
              0.7777777777777778,
              "#fb9f3a"
             ],
             [
              0.8888888888888888,
              "#fdca26"
             ],
             [
              1,
              "#f0f921"
             ]
            ],
            "type": "heatmapgl"
           }
          ],
          "histogram": [
           {
            "marker": {
             "pattern": {
              "fillmode": "overlay",
              "size": 10,
              "solidity": 0.2
             }
            },
            "type": "histogram"
           }
          ],
          "histogram2d": [
           {
            "colorbar": {
             "outlinewidth": 0,
             "ticks": ""
            },
            "colorscale": [
             [
              0,
              "#0d0887"
             ],
             [
              0.1111111111111111,
              "#46039f"
             ],
             [
              0.2222222222222222,
              "#7201a8"
             ],
             [
              0.3333333333333333,
              "#9c179e"
             ],
             [
              0.4444444444444444,
              "#bd3786"
             ],
             [
              0.5555555555555556,
              "#d8576b"
             ],
             [
              0.6666666666666666,
              "#ed7953"
             ],
             [
              0.7777777777777778,
              "#fb9f3a"
             ],
             [
              0.8888888888888888,
              "#fdca26"
             ],
             [
              1,
              "#f0f921"
             ]
            ],
            "type": "histogram2d"
           }
          ],
          "histogram2dcontour": [
           {
            "colorbar": {
             "outlinewidth": 0,
             "ticks": ""
            },
            "colorscale": [
             [
              0,
              "#0d0887"
             ],
             [
              0.1111111111111111,
              "#46039f"
             ],
             [
              0.2222222222222222,
              "#7201a8"
             ],
             [
              0.3333333333333333,
              "#9c179e"
             ],
             [
              0.4444444444444444,
              "#bd3786"
             ],
             [
              0.5555555555555556,
              "#d8576b"
             ],
             [
              0.6666666666666666,
              "#ed7953"
             ],
             [
              0.7777777777777778,
              "#fb9f3a"
             ],
             [
              0.8888888888888888,
              "#fdca26"
             ],
             [
              1,
              "#f0f921"
             ]
            ],
            "type": "histogram2dcontour"
           }
          ],
          "mesh3d": [
           {
            "colorbar": {
             "outlinewidth": 0,
             "ticks": ""
            },
            "type": "mesh3d"
           }
          ],
          "parcoords": [
           {
            "line": {
             "colorbar": {
              "outlinewidth": 0,
              "ticks": ""
             }
            },
            "type": "parcoords"
           }
          ],
          "pie": [
           {
            "automargin": true,
            "type": "pie"
           }
          ],
          "scatter": [
           {
            "fillpattern": {
             "fillmode": "overlay",
             "size": 10,
             "solidity": 0.2
            },
            "type": "scatter"
           }
          ],
          "scatter3d": [
           {
            "line": {
             "colorbar": {
              "outlinewidth": 0,
              "ticks": ""
             }
            },
            "marker": {
             "colorbar": {
              "outlinewidth": 0,
              "ticks": ""
             }
            },
            "type": "scatter3d"
           }
          ],
          "scattercarpet": [
           {
            "marker": {
             "colorbar": {
              "outlinewidth": 0,
              "ticks": ""
             }
            },
            "type": "scattercarpet"
           }
          ],
          "scattergeo": [
           {
            "marker": {
             "colorbar": {
              "outlinewidth": 0,
              "ticks": ""
             }
            },
            "type": "scattergeo"
           }
          ],
          "scattergl": [
           {
            "marker": {
             "colorbar": {
              "outlinewidth": 0,
              "ticks": ""
             }
            },
            "type": "scattergl"
           }
          ],
          "scattermapbox": [
           {
            "marker": {
             "colorbar": {
              "outlinewidth": 0,
              "ticks": ""
             }
            },
            "type": "scattermapbox"
           }
          ],
          "scatterpolar": [
           {
            "marker": {
             "colorbar": {
              "outlinewidth": 0,
              "ticks": ""
             }
            },
            "type": "scatterpolar"
           }
          ],
          "scatterpolargl": [
           {
            "marker": {
             "colorbar": {
              "outlinewidth": 0,
              "ticks": ""
             }
            },
            "type": "scatterpolargl"
           }
          ],
          "scatterternary": [
           {
            "marker": {
             "colorbar": {
              "outlinewidth": 0,
              "ticks": ""
             }
            },
            "type": "scatterternary"
           }
          ],
          "surface": [
           {
            "colorbar": {
             "outlinewidth": 0,
             "ticks": ""
            },
            "colorscale": [
             [
              0,
              "#0d0887"
             ],
             [
              0.1111111111111111,
              "#46039f"
             ],
             [
              0.2222222222222222,
              "#7201a8"
             ],
             [
              0.3333333333333333,
              "#9c179e"
             ],
             [
              0.4444444444444444,
              "#bd3786"
             ],
             [
              0.5555555555555556,
              "#d8576b"
             ],
             [
              0.6666666666666666,
              "#ed7953"
             ],
             [
              0.7777777777777778,
              "#fb9f3a"
             ],
             [
              0.8888888888888888,
              "#fdca26"
             ],
             [
              1,
              "#f0f921"
             ]
            ],
            "type": "surface"
           }
          ],
          "table": [
           {
            "cells": {
             "fill": {
              "color": "#EBF0F8"
             },
             "line": {
              "color": "white"
             }
            },
            "header": {
             "fill": {
              "color": "#C8D4E3"
             },
             "line": {
              "color": "white"
             }
            },
            "type": "table"
           }
          ]
         },
         "layout": {
          "annotationdefaults": {
           "arrowcolor": "#2a3f5f",
           "arrowhead": 0,
           "arrowwidth": 1
          },
          "autotypenumbers": "strict",
          "coloraxis": {
           "colorbar": {
            "outlinewidth": 0,
            "ticks": ""
           }
          },
          "colorscale": {
           "diverging": [
            [
             0,
             "#8e0152"
            ],
            [
             0.1,
             "#c51b7d"
            ],
            [
             0.2,
             "#de77ae"
            ],
            [
             0.3,
             "#f1b6da"
            ],
            [
             0.4,
             "#fde0ef"
            ],
            [
             0.5,
             "#f7f7f7"
            ],
            [
             0.6,
             "#e6f5d0"
            ],
            [
             0.7,
             "#b8e186"
            ],
            [
             0.8,
             "#7fbc41"
            ],
            [
             0.9,
             "#4d9221"
            ],
            [
             1,
             "#276419"
            ]
           ],
           "sequential": [
            [
             0,
             "#0d0887"
            ],
            [
             0.1111111111111111,
             "#46039f"
            ],
            [
             0.2222222222222222,
             "#7201a8"
            ],
            [
             0.3333333333333333,
             "#9c179e"
            ],
            [
             0.4444444444444444,
             "#bd3786"
            ],
            [
             0.5555555555555556,
             "#d8576b"
            ],
            [
             0.6666666666666666,
             "#ed7953"
            ],
            [
             0.7777777777777778,
             "#fb9f3a"
            ],
            [
             0.8888888888888888,
             "#fdca26"
            ],
            [
             1,
             "#f0f921"
            ]
           ],
           "sequentialminus": [
            [
             0,
             "#0d0887"
            ],
            [
             0.1111111111111111,
             "#46039f"
            ],
            [
             0.2222222222222222,
             "#7201a8"
            ],
            [
             0.3333333333333333,
             "#9c179e"
            ],
            [
             0.4444444444444444,
             "#bd3786"
            ],
            [
             0.5555555555555556,
             "#d8576b"
            ],
            [
             0.6666666666666666,
             "#ed7953"
            ],
            [
             0.7777777777777778,
             "#fb9f3a"
            ],
            [
             0.8888888888888888,
             "#fdca26"
            ],
            [
             1,
             "#f0f921"
            ]
           ]
          },
          "colorway": [
           "#636efa",
           "#EF553B",
           "#00cc96",
           "#ab63fa",
           "#FFA15A",
           "#19d3f3",
           "#FF6692",
           "#B6E880",
           "#FF97FF",
           "#FECB52"
          ],
          "font": {
           "color": "#2a3f5f"
          },
          "geo": {
           "bgcolor": "white",
           "lakecolor": "white",
           "landcolor": "#E5ECF6",
           "showlakes": true,
           "showland": true,
           "subunitcolor": "white"
          },
          "hoverlabel": {
           "align": "left"
          },
          "hovermode": "closest",
          "mapbox": {
           "style": "light"
          },
          "paper_bgcolor": "white",
          "plot_bgcolor": "#E5ECF6",
          "polar": {
           "angularaxis": {
            "gridcolor": "white",
            "linecolor": "white",
            "ticks": ""
           },
           "bgcolor": "#E5ECF6",
           "radialaxis": {
            "gridcolor": "white",
            "linecolor": "white",
            "ticks": ""
           }
          },
          "scene": {
           "xaxis": {
            "backgroundcolor": "#E5ECF6",
            "gridcolor": "white",
            "gridwidth": 2,
            "linecolor": "white",
            "showbackground": true,
            "ticks": "",
            "zerolinecolor": "white"
           },
           "yaxis": {
            "backgroundcolor": "#E5ECF6",
            "gridcolor": "white",
            "gridwidth": 2,
            "linecolor": "white",
            "showbackground": true,
            "ticks": "",
            "zerolinecolor": "white"
           },
           "zaxis": {
            "backgroundcolor": "#E5ECF6",
            "gridcolor": "white",
            "gridwidth": 2,
            "linecolor": "white",
            "showbackground": true,
            "ticks": "",
            "zerolinecolor": "white"
           }
          },
          "shapedefaults": {
           "line": {
            "color": "#2a3f5f"
           }
          },
          "ternary": {
           "aaxis": {
            "gridcolor": "white",
            "linecolor": "white",
            "ticks": ""
           },
           "baxis": {
            "gridcolor": "white",
            "linecolor": "white",
            "ticks": ""
           },
           "bgcolor": "#E5ECF6",
           "caxis": {
            "gridcolor": "white",
            "linecolor": "white",
            "ticks": ""
           }
          },
          "title": {
           "x": 0.05
          },
          "xaxis": {
           "automargin": true,
           "gridcolor": "white",
           "linecolor": "white",
           "ticks": "",
           "title": {
            "standoff": 15
           },
           "zerolinecolor": "white",
           "zerolinewidth": 2
          },
          "yaxis": {
           "automargin": true,
           "gridcolor": "white",
           "linecolor": "white",
           "ticks": "",
           "title": {
            "standoff": 15
           },
           "zerolinecolor": "white",
           "zerolinewidth": 2
          }
         }
        },
        "width": 500
       }
      }
     },
     "metadata": {},
     "output_type": "display_data"
    }
   ],
   "source": [
    "#Look at Jaccard scores which gives partial credit\n",
    "#https://scikit-learn.org/stable/modules/model_evaluation.html#jaccard-similarity-score\n",
    "samp_avg_jacc = jaccard_score(y_test, y_pred, average='samples') # % correct by sample, then averaged\n",
    "print(f\"sample average acc: {samp_avg_jacc}\")\n",
    "elem_jacc = np.round(jaccard_score(y_test, y_pred, average=None),4)\n",
    "\n",
    "fig = go.Figure(data=[go.Table(header=dict(values=['Element', 'Prediction Accuracy']),\n",
    "                 cells=dict(values=[elem_symb, elem_jacc]))])\n",
    "fig.update_layout(width=500, height=2000)\n",
    "fig.show()"
   ]
  },
  {
   "cell_type": "code",
   "execution_count": 119,
   "metadata": {},
   "outputs": [
    {
     "data": {
      "text/plain": [
       "array(['Li', 'C', 'O'], dtype='<U2')"
      ]
     },
     "execution_count": 119,
     "metadata": {},
     "output_type": "execute_result"
    }
   ],
   "source": [
    "#check accuracy with a custom element mix\n",
    "input_spec = np.log(nist_li2co3_std + eps)\n",
    "comp_pred = clf.predict(input_spec.reshape(1,-1)) #add sample dim\n",
    "elem_ind = np.squeeze(np.where(comp_pred ==1, True, False)) #remove sample dim\n",
    "elem_symb[elem_ind]"
   ]
  },
  {
   "cell_type": "code",
   "execution_count": 120,
   "metadata": {},
   "outputs": [
    {
     "data": {
      "text/plain": [
       "10000.0"
      ]
     },
     "execution_count": 120,
     "metadata": {},
     "output_type": "execute_result"
    }
   ],
   "source": [
    "#look at experimental Li2CO3\n",
    "libs_spec = np.genfromtxt(datapath / \"experimental/LIBS_Li2CO3.csv\", delimiter=',', skip_header=1)\n",
    "#put libs spec in same wl intervals as model spectra, 1nm\n",
    "libs_wave = libs_spec[:,0]\n",
    "libs_intens = libs_spec[:,1]\n",
    "wave_dict = {wl:0 for wl in wave}\n",
    "for i in range(len(libs_wave)):\n",
    "    int_wl = np.round(libs_wave[i],0)\n",
    "    if int_wl in wave_dict:\n",
    "        wave_dict[int_wl] += libs_intens[i]\n",
    "x_spec = np.array([])\n",
    "for wl, intens in wave_dict.items():\n",
    "    x_spec = np.append(x_spec, intens)\n",
    "#Rescale so peak at 671nm is 10,000\n",
    "#Note: first wl is 180 at so subtract 180 from target wl to get index\n",
    "x_spec = 1e4 * x_spec / x_spec[np.asarray(wave == 671).nonzero()][0]\n",
    "x_spec[np.asarray(wave == 671).nonzero()][0] #10,000"
   ]
  },
  {
   "cell_type": "code",
   "execution_count": 121,
   "metadata": {},
   "outputs": [
    {
     "data": {
      "text/plain": [
       "array(['Li'], dtype='<U2')"
      ]
     },
     "execution_count": 121,
     "metadata": {},
     "output_type": "execute_result"
    }
   ],
   "source": [
    "#run prediction model for experimental spectrum\n",
    "#spec_maker = spectrum_maker()\n",
    "comp_pred = clf.predict(np.log(x_spec + eps).reshape(1,-1)) #add sample dim\n",
    "elem_ind = np.squeeze(np.where(comp_pred == 1, True, False)) #remove sample dim\n",
    "elem_symb[elem_ind]"
   ]
  },
  {
   "cell_type": "code",
   "execution_count": 122,
   "metadata": {},
   "outputs": [
    {
     "data": {
      "text/plain": [
       "[<matplotlib.lines.Line2D at 0x7fec75bd4340>]"
      ]
     },
     "execution_count": 122,
     "metadata": {},
     "output_type": "execute_result"
    },
    {
     "data": {
      "image/png": "[encoded data removed]",
      "text/plain": [
       "<Figure size 720x720 with 2 Axes>"
      ]
     },
     "metadata": {
      "needs_background": "light"
     },
     "output_type": "display_data"
    }
   ],
   "source": [
    "#Compare the nist simulated Li2CO3 spectrum to experimental to understand failure to predict C, O\n",
    "fig, ax = plt.subplots(2,1, figsize=(10,10)) \n",
    "ax[0].set_xlabel('wavelength')  # Add an x-label to the axes.\n",
    "ax[0].set_ylabel('Intensity')  # Add a y-label to the axes.\n",
    "ax[0].set_title('NIST Simulated Li2CO3LIBS')  # Add a title to the axes.\n",
    "ax[0].plot(wave, nist_li2co3_std)\n",
    "ax[1].set_xlabel('wavelength')  # Add an x-label to the axes.\n",
    "ax[1].set_ylabel('Intensity')  # Add a y-label to the axes.\n",
    "ax[1].set_title('Lab Measured Li2CO3 LIBS')  # Add a title to the axes.\n",
    "ax[1].plot(wave, x_spec)"
   ]
  },
  {
   "cell_type": "code",
   "execution_count": 123,
   "metadata": {},
   "outputs": [
    {
     "data": {
      "text/plain": [
       "<function matplotlib.pyplot.show(close=None, block=None)>"
      ]
     },
     "execution_count": 123,
     "metadata": {},
     "output_type": "execute_result"
    },
    {
     "data": {
      "image/png": "[encoded data removed]",
      "text/plain": [
       "<Figure size 720x360 with 1 Axes>"
      ]
     },
     "metadata": {
      "needs_background": "light"
     },
     "output_type": "display_data"
    }
   ],
   "source": [
    "#Plot them on one graph in different colors to compare\n",
    "f = plt.figure()\n",
    "f.set_figwidth(10)\n",
    "f.set_figheight(5)\n",
    "plt.plot(wave, nist_li2co3_std, color='blue', label = 'nist') \n",
    "plt.plot(wave, x_spec, color='red', label='lbnl')\n",
    "plt.xlabel('wavelength [nm]')\n",
    "plt.ylabel('intensity')\n",
    "plt.legend()\n",
    "plt.show"
   ]
  },
  {
   "cell_type": "code",
   "execution_count": 129,
   "metadata": {},
   "outputs": [
    {
     "data": {
      "text/plain": [
       "[<matplotlib.lines.Line2D at 0x7fe5a3607250>]"
      ]
     },
     "execution_count": 129,
     "metadata": {},
     "output_type": "execute_result"
    },
    {
     "data": {
      "image/png": "[encoded data removed]",
      "text/plain": [
       "<Figure size 720x1440 with 5 Axes>"
      ]
     },
     "metadata": {
      "needs_background": "light"
     },
     "output_type": "display_data"
    }
   ],
   "source": [
    "#Note spec_maker also returns the element spectra from the weighted lines given to make_spectra\n",
    "#examine composites and pieces on the log scale seen by model y-axes consistently scaled\n",
    "fig, ax = plt.subplots(5,1, figsize=(10,20), constrained_layout=True) \n",
    "[ax[i].set_xlabel('wavelength') for i in range(5)] # Add an x-label to the axes.\n",
    "[ax[i].set_ylabel('log Intensity') for i in range(5)] # Add a y-label to the axes.\n",
    "[ax[i].set_ylim(0.1,1e4) for i in range(5)] # consistent range on y-axis.\n",
    "[ax[i].set_yscale('log') for i in range(5)] # log scaling of axis\n",
    "ax[0].set_title('NIST Simulated Li2CO3')  # Add a title to the axes.\n",
    "ax[1].set_title('NIST Simulated 0.33 * Li')\n",
    "ax[2].set_title('NIST Simulated 0.17 * C')\n",
    "ax[3].set_title('NIST Simulated 0.5 * O')\n",
    "ax[4].set_title('LBNL Measured Li2CO3')\n",
    "ax[0].plot(wave, nist_mult * spec_dict['comp']+ eps)\n",
    "ax[1].plot(wave, nist_mult * spec_dict['Li'] + eps)\n",
    "ax[2].plot(wave, nist_mult * spec_dict['C'] + eps)\n",
    "ax[3].plot(wave, nist_mult * spec_dict['O'] + eps)\n",
    "ax[4].plot(wave, x_spec + eps)"
   ]
  },
  {
   "cell_type": "markdown",
   "metadata": {},
   "source": [
    "\n",
    "https://scikit-learn.org/stable/auto_examples/multioutput/plot_classifier_chain_yeast.html#sphx-glr-auto-examples-multioutput-plot-classifier-chain-yeast-py\n",
    "\n",
    "Look another variation of multilabel which does not assume independence"
   ]
  }
 ],
 "metadata": {
  "kernelspec": {
   "display_name": "Python 3.10.6 (conda)",
   "language": "python",
   "name": "python3"
  },
  "language_info": {
   "codemirror_mode": {
    "name": "ipython",
    "version": 3
   },
   "file_extension": ".py",
   "mimetype": "text/x-python",
   "name": "python",
   "nbconvert_exporter": "python",
   "pygments_lexer": "ipython3",
   "version": "3.10.6"
  },
  "orig_nbformat": 4,
  "vscode": {
   "interpreter": {
    "hash": "d001468f4067ec5e4d4ba2def862027e182b3a4bddcf254cbbb9d73e87f32604"
   }
  }
 },
 "nbformat": 4,
 "nbformat_minor": 2
}
