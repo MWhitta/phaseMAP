{
 "cells": [
  {
   "cell_type": "markdown",
   "id": "63fa5365",
   "metadata": {},
   "source": [
    "To a first approximation, the composite frequency spectrum provided by a LIBS gun is a weighted superposition of the single element spectra. The base assumption is that the weighting is proportional to their abundance in the sample. This notebook applies a straightforward least squares minimization to decompose a composite spectrum into the atomic composition.\n",
    "\n",
    "Artifacts and noise can be added to the composite spectrum to explore the impact on fit vs. the \"clean\" spectrum. Various pre-processing steps could also be explored prior to the fit to see what types of noise filtering/cleaning might be effective.\n",
    "\n",
    "The simplistic approach can serve as a benchmark for more complex approaches to spectral decomposition."
   ]
  },
  {
   "cell_type": "code",
   "execution_count": 1,
   "id": "3e59c2dd-ae29-4f7e-a90d-88f64e9ff8a5",
   "metadata": {
    "tags": []
   },
   "outputs": [
    {
     "name": "stderr",
     "output_type": "stream",
     "text": [
      "/Users/matt/CloudGit_local/github/gss/phaseMAP/envs/lib/python3.10/site-packages/scipy/__init__.py:146: UserWarning: A NumPy version >=1.16.5 and <1.23.0 is required for this version of SciPy (detected version 1.23.1\n",
      "  warnings.warn(f\"A NumPy version >={np_minversion} and <{np_maxversion}\"\n"
     ]
    }
   ],
   "source": [
    "import pickle\n",
    "import datetime\n",
    "import numpy as np\n",
    "from pathlib import Path\n",
    "from matplotlib import pyplot as plt\n",
    "from scipy.optimize import least_squares\n",
    "\n",
    "import torch\n",
    "import torch.nn as nn\n",
    "from torch.utils.data import TensorDataset, DataLoader, random_split\n",
    "\n",
    "from libs_unet.models import peakyfinder_0001\n",
    "from libs_unet.training.spec_maker import spectrum_maker\n",
    "\n",
    "top_dir = Path.cwd()\n",
    "datapath = top_dir / 'data'"
   ]
  },
  {
   "cell_type": "code",
   "execution_count": 2,
   "id": "4a41cf8f",
   "metadata": {},
   "outputs": [],
   "source": [
    "#Model specific parameters/files here. Update as models change\n",
    "#Reference data, used but not changed within classes\n",
    "with open(datapath / 'training' / 'el77_meta.pickle', 'rb') as f:\n",
    "    wave = pickle.load(f)\n",
    "    el_symbol = pickle.load(f)\n",
    "    el_index = pickle.load(f)\n",
    "\n",
    "max_z = len(el_symbol)\n",
    "model = peakyfinder_0001.LIBSUNet(max_z,len(wave))\n",
    "param_path = top_dir / 'trained_models' / 'el77_pairs_0001'\n",
    "model.load_state_dict(torch.load(param_path))\n",
    "rel_int_scale = 10**4\n",
    "input_scale = 5\n",
    "thresh = 7\n",
    "fit_tol = 0.01\n",
    "#Generate atomic reference spectra\n",
    "spec_maker = spectrum_maker()\n",
    "el_spec = np.zeros((max_z,760))\n",
    "for i in range(max_z):\n",
    "    fracs_dict = {el_symbol[i]:1}\n",
    "    wave, el_spec[i], spec_dict = spec_maker.make_spectra(fracs_dict)"
   ]
  },
  {
   "cell_type": "code",
   "execution_count": 3,
   "id": "480ec7a1",
   "metadata": {},
   "outputs": [
    {
     "name": "stdout",
     "output_type": "stream",
     "text": [
      "sum for Li is 1.0\n"
     ]
    },
    {
     "data": {
      "text/plain": [
       "<function matplotlib.pyplot.show(close=None, block=None)>"
      ]
     },
     "execution_count": 3,
     "metadata": {},
     "output_type": "execute_result"
    },
    {
     "data": {
      "image/png": "[encoded data removed]",
      "text/plain": [
       "<Figure size 432x288 with 1 Axes>"
      ]
     },
     "metadata": {
      "needs_background": "light"
     },
     "output_type": "display_data"
    }
   ],
   "source": [
    "#check spectra\n",
    "el = 'Li'\n",
    "print(f\"sum for {el} is {np.sum(el_spec[el_index[el]])}\")\n",
    "plt.plot(wave, el_spec[el_index[el]])\n",
    "plt.xlabel('wavelength')\n",
    "plt.ylabel('intensity')\n",
    "plt.show"
   ]
  },
  {
   "cell_type": "code",
   "execution_count": 4,
   "id": "30c508ce",
   "metadata": {},
   "outputs": [],
   "source": [
    "#next task is to find the linear combination of the atomic spectra that minimizes error to input spectrum\n",
    "#Try https://docs.scipy.org/doc/scipy/reference/generated/scipy.optimize.least_squares.html\n",
    "\n",
    "#define the residuals function\n",
    "def fun_fitspec(x, x_spec, ref_specs):\n",
    "    return np.squeeze(np.sum((ref_specs.transpose() * x).transpose(), axis=0) - x_spec)\n",
    "\n",
    "#weight bounds passed as a 2-tuple of vectors ([lower], [upper]) use np.inf for unbounded\n",
    "#lower bound for all is non-negative weights\n",
    "bnd_low = np.zeros(max_z)\n",
    "#upper bound is 1 (pure). must include small delta to zero to exclude, e.g. 0.0001\n",
    "bnd_up = np.ones(max_z)\n",
    "el_bounds = (bnd_low, bnd_up)\n",
    "#Initial guess at weights is even allocation\n",
    "x0 = np.ones(max_z) * (1/max_z)\n",
    "#use the following form to run the LS min for a given input_spec of shape \n",
    "#el_fit = least_squares(fun_fitspec, x0, args=(input_spec, el_spec), bounds=el_bounds)"
   ]
  },
  {
   "cell_type": "code",
   "execution_count": 5,
   "id": "2acfb704",
   "metadata": {},
   "outputs": [],
   "source": [
    "#Test LiCO3\n",
    "test_dict = {'Li':2, 'C':1, 'O':3}\n",
    "#generate input spectrum\n",
    "wave, test_spec, spec_dict = spec_maker.make_spectra(test_dict)\n",
    "test_fit = least_squares(fun_fitspec, x0, args=(test_spec, el_spec), bounds=el_bounds)"
   ]
  },
  {
   "cell_type": "code",
   "execution_count": 6,
   "id": "2a0ef082",
   "metadata": {},
   "outputs": [
    {
     "name": "stdout",
     "output_type": "stream",
     "text": [
      "Li: ref: 0.333 pred: 0.334\n",
      "C: ref: 0.167 pred: 0.166\n",
      "O: ref: 0.5 pred: 0.5\n"
     ]
    }
   ],
   "source": [
    "#review results\n",
    "#library does not allow linear constraints so cannot constrain sum of x <=1\n",
    "fit_wts = test_fit.x.copy()\n",
    "fit_wts[fit_wts < 0.01] = 0\n",
    "fit_wts = fit_wts / np.sum(fit_wts)\n",
    "\n",
    "for i in range(len(fit_wts)):\n",
    "    if fit_wts[i] > 0 or el_symbol[i] in test_dict:\n",
    "        input_wt = 0\n",
    "        if el_symbol[i] in test_dict:\n",
    "            input_wt = test_dict[el_symbol[i]]\n",
    "        print(f\"{el_symbol[i]}: ref: {np.round(input_wt,3)} pred: {np.round(fit_wts[i],3)}\")\n"
   ]
  },
  {
   "cell_type": "code",
   "execution_count": 7,
   "id": "22a5ab4e",
   "metadata": {},
   "outputs": [],
   "source": [
    "#Apply L-S fit to experimental Li2CO3 spectrum\n",
    "libs_spec = np.genfromtxt(datapath / \"experimental/LIBS_Li2CO3.csv\", delimiter=',', skip_header=1)\n",
    "#resample to our model specs for wavelength resolution\n",
    "libs_wave = libs_spec[:,0]\n",
    "libs_intens = libs_spec[:,1]\n",
    "#Convert input data to model format if needed\n",
    "wave_dict = {wl:0 for wl in wave}\n",
    "for i in range(len(libs_wave)):\n",
    "    int_wl = np.round(libs_wave[i],0)\n",
    "    if int_wl in wave_dict:\n",
    "        wave_dict[int_wl] += libs_intens[i]\n",
    "x_spec = np.array([])\n",
    "for wl, intens in wave_dict.items():\n",
    "    x_spec = np.append(x_spec, intens)\n",
    "#scale the spectrum to unit intensity\n",
    "x_spec /= np.sum(x_spec)\n",
    "\n",
    "#Obtain element weights from least squares fit to input spectrum\n",
    "#define bounds based on elements identified by prediction\n",
    "bnd_low = np.zeros(max_z)\n",
    "#upper bound on candidates is 1 (here allowing all elements)\n",
    "bnd_up = np.ones(max_z)\n",
    "el_bounds = (bnd_low, bnd_up)\n",
    "#initial weights guess, start with balanced allocation to candidates\n",
    "x0 = np.ones(max_z) / max_z\n",
    "#define residuals function\n",
    "def spec_resid(x, x_spec, ref_specs):\n",
    "    return np.squeeze(np.sum((ref_specs.transpose() * x).transpose(), axis=0) - x_spec)\n",
    "#obtain fit object\n",
    "test_fit = least_squares(spec_resid, x0, args=(x_spec, el_spec), bounds=el_bounds)\n",
    "#weights below tolerance discarded and total weights rescaled to 1\n",
    "fit_wts = test_fit.x.copy()\n",
    "fit_wts[fit_wts < fit_tol] = 0\n",
    "fit_wts = fit_wts / np.sum(fit_wts)\n",
    "#build dictionary to return with element weights\n",
    "el_weights = {}\n",
    "for i in range(len(fit_wts)):\n",
    "    if fit_wts[i] > 0:\n",
    "        el_weights[el_symbol[i]] = np.round(fit_wts[i],4)"
   ]
  },
  {
   "cell_type": "code",
   "execution_count": 8,
   "id": "03ada8db",
   "metadata": {},
   "outputs": [
    {
     "data": {
      "text/plain": [
       "{'H': 0.0175,\n",
       " 'He': 0.0806,\n",
       " 'Li': 0.7297,\n",
       " 'N': 0.0834,\n",
       " 'F': 0.0444,\n",
       " 'K': 0.0095,\n",
       " 'Pt': 0.035}"
      ]
     },
     "execution_count": 8,
     "metadata": {},
     "output_type": "execute_result"
    }
   ],
   "source": [
    "el_weights"
   ]
  },
  {
   "cell_type": "code",
   "execution_count": null,
   "id": "bb30214b",
   "metadata": {},
   "outputs": [],
   "source": []
  }
 ],
 "metadata": {
  "kernelspec": {
   "display_name": "Python 3.10.4 (conda)",
   "language": "python",
   "name": "python3"
  },
  "language_info": {
   "codemirror_mode": {
    "name": "ipython",
    "version": 3
   },
   "file_extension": ".py",
   "mimetype": "text/x-python",
   "name": "python",
   "nbconvert_exporter": "python",
   "pygments_lexer": "ipython3",
   "version": "3.10.4"
  },
  "vscode": {
   "interpreter": {
    "hash": "b7c566e62ebb0cf304e803cca0df60334aebcf2b863034e733115078e753af62"
   }
  }
 },
 "nbformat": 4,
 "nbformat_minor": 5
}
