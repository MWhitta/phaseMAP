{
 "cells": [
  {
   "cell_type": "markdown",
   "id": "63fa5365",
   "metadata": {},
   "source": [
    "To a first approximation, the composite frequency spectrum provided by a LIBS gun is a weighted superposition of the single element spectra. The base assumption is that the weighting is proportional to their abundance in the sample. This notebook applies a straightforward least squares minimization to decompose a composite spectrum into the atomic composition.\n",
    "\n",
    "Artifacts and noise can be added to the composite spectrum to explore the impact on fit vs. the \"clean\" spectrum. Various pre-processing steps could also be explored prior to the fit to see what types of noise filtering/cleaning might be effective.\n",
    "\n",
    "The simplistic approach can serve as a benchmark for more complex approaches to spectral decomposition."
   ]
  },
  {
   "cell_type": "code",
   "execution_count": 1,
   "id": "3e59c2dd-ae29-4f7e-a90d-88f64e9ff8a5",
   "metadata": {
    "tags": []
   },
   "outputs": [
    {
     "name": "stderr",
     "output_type": "stream",
     "text": [
      "/Users/matt/CloudGit_local/github/gss/phaseMAP/envs/lib/python3.10/site-packages/scipy/__init__.py:146: UserWarning: A NumPy version >=1.16.5 and <1.23.0 is required for this version of SciPy (detected version 1.23.1\n",
      "  warnings.warn(f\"A NumPy version >={np_minversion} and <{np_maxversion}\"\n"
     ]
    }
   ],
   "source": [
    "import pickle\n",
    "import datetime\n",
    "import numpy as np\n",
    "from pathlib import Path\n",
    "from matplotlib import pyplot as plt\n",
    "from scipy.optimize import least_squares\n",
    "\n",
    "import torch\n",
    "import torch.nn as nn\n",
    "from torch.utils.data import TensorDataset, DataLoader, random_split\n",
    "\n",
    "from libs_unet.models import peakyfinder_0001\n",
    "from libs_unet.training.spec_maker import spectrum_maker\n",
    "\n",
    "top_dir = Path.cwd()\n",
    "datapath = top_dir / 'data'"
   ]
  },
  {
   "cell_type": "code",
   "execution_count": 4,
   "id": "4a41cf8f",
   "metadata": {},
   "outputs": [],
   "source": [
    "#generate reference spectra\n",
    "max_z = 30\n",
    "wave = range(190, 950)\n",
    "elem_symb = np.loadtxt(datapath / \"abundance/elements_94.csv\", dtype=str)\n",
    "spec_maker = spectrum_maker(max_z)\n",
    "\n",
    "#create array of reference spectra for these 20 elements.\n",
    "el_spec = np.zeros((max_z,len(wave)))\n",
    "for i in range(max_z):\n",
    "    i_fracs = np.zeros(max_z)\n",
    "    i_fracs[i] = 1\n",
    "    wave, el_spec[i], spec_array = spec_maker.make_spectra(i_fracs)\n",
    "    \n"
   ]
  },
  {
   "cell_type": "code",
   "execution_count": 5,
   "id": "480ec7a1",
   "metadata": {},
   "outputs": [
    {
     "name": "stdout",
     "output_type": "stream",
     "text": [
      "sum for Li is 1.0\n"
     ]
    },
    {
     "data": {
      "text/plain": [
       "<function matplotlib.pyplot.show(close=None, block=None)>"
      ]
     },
     "execution_count": 5,
     "metadata": {},
     "output_type": "execute_result"
    },
    {
     "data": {
      "image/png": "[encoded data removed]",
      "text/plain": [
       "<Figure size 432x288 with 1 Axes>"
      ]
     },
     "metadata": {
      "needs_background": "light"
     },
     "output_type": "display_data"
    }
   ],
   "source": [
    "#check spectra\n",
    "z_el = 3\n",
    "print(f\"sum for {elem_symb[z_el -1]} is {np.sum(el_spec[z_el -1])}\")\n",
    "plt.plot(wave, el_spec[z_el -1])\n",
    "plt.xlabel('wavelength')\n",
    "plt.ylabel('intensity')\n",
    "plt.show"
   ]
  },
  {
   "cell_type": "code",
   "execution_count": 6,
   "id": "30c508ce",
   "metadata": {},
   "outputs": [],
   "source": [
    "#next task is to find the linear combination of the atomic spectra that minimizes error to input spectrum\n",
    "#Try https://docs.scipy.org/doc/scipy/reference/generated/scipy.optimize.least_squares.html\n",
    "\n",
    "#define the residuals function\n",
    "def fun_fitspec(x, x_spec, ref_specs):\n",
    "    return np.squeeze(np.sum((ref_specs.transpose() * x).transpose(), axis=0) - x_spec)\n",
    "\n",
    "#weight bounds passed as a 2-tuple of vectors ([lower], [upper]) use np.inf for unbounded\n",
    "#lower bound for all is non-negative weights\n",
    "bnd_low = np.zeros(max_z)\n",
    "#upper bound is 1 (pure). must include small delta to zero to exclude, e.g. 0.0001\n",
    "bnd_up = np.ones(max_z)\n",
    "el_bounds = (bnd_low, bnd_up)\n",
    "#Initial guess at weights is even allocation\n",
    "x0 = np.ones(max_z) * (1/max_z)\n",
    "#use the following form to run the LS min for a given input_spec of shape \n",
    "#el_fit = least_squares(fun_fitspec, x0, args=(input_spec, el_spec), bounds=el_bounds)"
   ]
  },
  {
   "cell_type": "code",
   "execution_count": 9,
   "id": "2acfb704",
   "metadata": {},
   "outputs": [],
   "source": [
    "#Test arbitrary mixture of elements\n",
    "#test_fracs = np.zeros(20)\n",
    "test_fracs = np.ones(max_z) / max_z\n",
    "#generate input spectrum\n",
    "wave, test_spec, spec_array = spec_maker.make_spectra(test_fracs)\n",
    "test_fit = least_squares(fun_fitspec, x0, args=(test_spec, el_spec), bounds=el_bounds)"
   ]
  },
  {
   "cell_type": "code",
   "execution_count": 11,
   "id": "2a0ef082",
   "metadata": {},
   "outputs": [
    {
     "name": "stdout",
     "output_type": "stream",
     "text": [
      "H: ref: 0.033 pred: 0.035\n",
      "He: ref: 0.033 pred: 0.037\n",
      "Li: ref: 0.033 pred: 0.04\n",
      "Be: ref: 0.033 pred: 0.035\n",
      "B: ref: 0.033 pred: 0.033\n",
      "C: ref: 0.033 pred: 0.038\n",
      "N: ref: 0.033 pred: 0.023\n",
      "O: ref: 0.033 pred: 0.034\n",
      "F: ref: 0.033 pred: 0.031\n",
      "Ne: ref: 0.033 pred: 0.035\n",
      "Na: ref: 0.033 pred: 0.033\n",
      "Mg: ref: 0.033 pred: 0.031\n",
      "Al: ref: 0.033 pred: 0.026\n",
      "Si: ref: 0.033 pred: 0.04\n",
      "P: ref: 0.033 pred: 0.015\n",
      "S: ref: 0.033 pred: 0.04\n",
      "Cl: ref: 0.033 pred: 0.035\n",
      "Ar: ref: 0.033 pred: 0.033\n",
      "K: ref: 0.033 pred: 0.033\n",
      "Ca: ref: 0.033 pred: 0.036\n",
      "Sc: ref: 0.033 pred: 0.026\n",
      "Ti: ref: 0.033 pred: 0.038\n",
      "V: ref: 0.033 pred: 0.031\n",
      "Cr: ref: 0.033 pred: 0.024\n",
      "Mn: ref: 0.033 pred: 0.036\n",
      "Fe: ref: 0.033 pred: 0.053\n",
      "Co: ref: 0.033 pred: 0.032\n",
      "Ni: ref: 0.033 pred: 0.027\n",
      "Cu: ref: 0.033 pred: 0.035\n",
      "Zn: ref: 0.033 pred: 0.035\n"
     ]
    }
   ],
   "source": [
    "#review results\n",
    "#library does not allow linear constraints so cannot constrain sum of x <=1\n",
    "fit_wts = test_fit.x.copy()\n",
    "fit_wts[fit_wts < 0.01] = 0\n",
    "fit_wts = fit_wts / np.sum(fit_wts)\n",
    "\n",
    "for i in range(len(fit_wts)):\n",
    "    print(f\"{elem_symb[i]}: ref: {np.round(test_fracs[i],3)} pred: {np.round(fit_wts[i],3)}\")\n"
   ]
  },
  {
   "cell_type": "code",
   "execution_count": 109,
   "id": "cc705ab6",
   "metadata": {},
   "outputs": [
    {
     "name": "stdout",
     "output_type": "stream",
     "text": [
      "(3,)\n",
      "(4, 3)\n",
      "[[1. 1. 1. 1.]\n",
      " [1. 1. 1. 1.]\n",
      " [1. 1. 1. 1.]]\n",
      "[[1. 1. 1.]\n",
      " [1. 1. 1.]\n",
      " [1. 1. 1.]\n",
      " [1. 1. 1.]]\n",
      "[[1. 1. 1. 1.]\n",
      " [2. 2. 2. 2.]\n",
      " [3. 3. 3. 3.]]\n"
     ]
    }
   ],
   "source": [
    "#notes on element-wise array multiplication\n",
    "x = np.array([1,2,3])\n",
    "y = np.array(np.ones(12))\n",
    "y = y.reshape(3,4)\n",
    "print(x.shape)\n",
    "print(y.transpose().shape)\n",
    "print(y)\n",
    "print(y.transpose())\n",
    "print((y.transpose()*x).transpose()) #element-wise but need dims to align"
   ]
  },
  {
   "cell_type": "code",
   "execution_count": null,
   "id": "03ada8db",
   "metadata": {},
   "outputs": [],
   "source": []
  }
 ],
 "metadata": {
  "kernelspec": {
   "display_name": "Python 3.10.4 (conda)",
   "language": "python",
   "name": "python3"
  },
  "language_info": {
   "codemirror_mode": {
    "name": "ipython",
    "version": 3
   },
   "file_extension": ".py",
   "mimetype": "text/x-python",
   "name": "python",
   "nbconvert_exporter": "python",
   "pygments_lexer": "ipython3",
   "version": "3.10.4"
  },
  "vscode": {
   "interpreter": {
    "hash": "b7c566e62ebb0cf304e803cca0df60334aebcf2b863034e733115078e753af62"
   }
  }
 },
 "nbformat": 4,
 "nbformat_minor": 5
}
