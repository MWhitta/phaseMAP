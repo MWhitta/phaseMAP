{
 "cells": [
  {
   "cell_type": "code",
   "execution_count": 1,
   "id": "3e59c2dd-ae29-4f7e-a90d-88f64e9ff8a5",
   "metadata": {
    "tags": []
   },
   "outputs": [],
   "source": [
    "import pickle\n",
    "import datetime\n",
    "from pathlib import Path\n",
    "\n",
    "import torch\n",
    "import torch.nn as nn\n",
    "from torch import optim\n",
    "from torch.optim.lr_scheduler import MultiStepLR\n",
    "#from torch.optim import lr_scheduler\n",
    "from torch.utils.data import TensorDataset, DataLoader, random_split\n",
    "from torch.utils.tensorboard import SummaryWriter\n",
    "import numpy as np\n",
    "from libs_unet.models import peakyfinder_0002\n",
    "from libs_unet.training.libs_train import train_loop, test_loop\n",
    "import matplotlib.pyplot as plt\n",
    "\n",
    "top_dir = Path.cwd()\n",
    "datapath = top_dir / 'data'"
   ]
  },
  {
   "cell_type": "code",
   "execution_count": 2,
   "id": "36c2c733",
   "metadata": {},
   "outputs": [],
   "source": [
    "#training data import\n",
    "with open(datapath / 'training' / 'el80_pairs_lg.pickle', 'rb') as f:\n",
    "    elem_symb = pickle.load(f)\n",
    "    el_index = pickle.load(f)\n",
    "    fracs = pickle.load(f)\n",
    "    wave = pickle.load(f)\n",
    "    x_data = pickle.load(f)\n",
    "    y_data = pickle.load(f)"
   ]
  },
  {
   "cell_type": "code",
   "execution_count": 3,
   "id": "267a1a3d",
   "metadata": {},
   "outputs": [],
   "source": [
    "#Scale data to account for source\n",
    "nist_mult = 1.17\n",
    "x_data = nist_mult * x_data\n",
    "y_data = nist_mult * y_data"
   ]
  },
  {
   "cell_type": "code",
   "execution_count": 4,
   "id": "03c85e32",
   "metadata": {},
   "outputs": [
    {
     "data": {
      "image/png": "[encoded data removed]",
      "text/plain": [
       "<Figure size 640x480 with 1 Axes>"
      ]
     },
     "metadata": {},
     "output_type": "display_data"
    }
   ],
   "source": [
    "#Histogram of input data intensities to help define Hi/Low split point\n",
    "n_bins = 200\n",
    "plt.hist(np.log(x_data.reshape(-1)), bins = n_bins)\n",
    "plt.show() # log(intens) < 2 seems a reasonable cutoff for the low intensity data"
   ]
  },
  {
   "cell_type": "code",
   "execution_count": 5,
   "id": "8a9e94bd",
   "metadata": {},
   "outputs": [],
   "source": [
    "#split x_data into mutex low_int and log(hi_int) input channels\n",
    "x_data = x_data[:,None,:]\n",
    "x_shape = x_data.shape\n",
    "new_inp = np.zeros((x_shape[0], 2, x_shape[2]))\n",
    "log_cut = 2\n",
    "new_inp[:,0,:] = np.where(np.log(x_data[:,0,:]) < log_cut, x_data[:,0,:], 0)\n",
    "new_inp[:,1,:] = np.where(np.log(x_data[:,0,:]) >= log_cut, np.log(x_data[:,0,:]), 0)\n",
    "x_data = new_inp.copy()\n",
    "new_inp = None\n"
   ]
  },
  {
   "cell_type": "code",
   "execution_count": 6,
   "id": "b670105e",
   "metadata": {},
   "outputs": [
    {
     "name": "stdout",
     "output_type": "stream",
     "text": [
      "0\n"
     ]
    }
   ],
   "source": [
    "#quick check for mutex on first sample only\n",
    "both_pop = 0\n",
    "for i in range(len(wave)):\n",
    "    if x_data[0][0][i] > 0 and x_data[0][1][i] > 0:\n",
    "        both_pop +=1\n",
    "print(both_pop)"
   ]
  },
  {
   "cell_type": "code",
   "execution_count": 7,
   "id": "5c6a9d48",
   "metadata": {},
   "outputs": [],
   "source": [
    "#create dataset\n",
    "#input has two channels\n",
    "#apply a scaling factor to standardize spectra across sources.\n",
    "x_data = torch.tensor(x_data.astype('float32'))\n",
    "y_data = torch.tensor(y_data.astype('float32'))\n",
    "x_data[x_data < 0] = 0\n",
    "y_data[y_data < 0] = 0\n",
    "#log transform data, add small offset 1 so zero points remain ~zero on log scale\n",
    "#x_data = torch.log(x_data + 1)\n",
    "y_data = torch.log(y_data + 1)\n",
    "\n",
    "spec_ds = TensorDataset(x_data, y_data)\n",
    "#batch sizes\n",
    "train_bs = 50\n",
    "test_bs = 100\n",
    "#create random split for training and validation\n",
    "train_len = int(0.8 * len(x_data))\n",
    "test_len = len(x_data) - train_len\n",
    "train_ds, test_ds = random_split(spec_ds,[train_len, test_len])\n",
    "train_dl = DataLoader(train_ds, batch_size=train_bs, shuffle=True) #check if shuffle redundant\n",
    "test_dl = DataLoader(test_ds, batch_size=test_bs)\n",
    "#"
   ]
  },
  {
   "cell_type": "code",
   "execution_count": 8,
   "id": "ad67d3ce",
   "metadata": {},
   "outputs": [
    {
     "name": "stdout",
     "output_type": "stream",
     "text": [
      "Epoch 1, learning rate 1\n",
      "-------------------------------\n"
     ]
    }
   ],
   "source": [
    "#set parameters\n",
    "max_z = len(elem_symb)\n",
    "wl_points = len(wave) #number of wavelength point measurements in data\n",
    "learning_rate = 1 #There is a schedule to reduce as loss plateaus\n",
    "epochs = 1\n",
    "\n",
    "#Initialize and run\n",
    "model = peakyfinder_0002.LIBSUNet(max_z, wl_points)\n",
    "loss_fn = nn.MSELoss(reduction='mean')\n",
    "#loss_fn = Custom_Wgt_MSE(loss_wts)\n",
    "optimizer = torch.optim.SGD(model.parameters(), lr=learning_rate)\n",
    "lr_scheduler = MultiStepLR(optimizer, [], 0.5)\n",
    "\n",
    "now_time = datetime.datetime.now().strftime('%Y-%m-%d-%H-%M-%S') #  now \n",
    "writerpath = top_dir / 'runs' / now_time\n",
    "writer = SummaryWriter(writerpath)\n",
    "\n",
    "for t in range(epochs):\n",
    "    print(f\"Epoch {t+1}, learning rate {optimizer.param_groups[0]['lr']}\\n-------------------------------\")\n",
    "    train_loop(train_dl, model, loss_fn, optimizer, writer, t+1, debug=True, bsize=train_bs)\n",
    "    test_loss = test_loop(test_dl, model, loss_fn, writer, t+1)\n",
    "    lr_scheduler.step()\n",
    "print(\"Done!\")\n",
    "\n",
    "#cleanup\n",
    "writer.flush()\n",
    "writer.close()\n"
   ]
  },
  {
   "cell_type": "code",
   "execution_count": 4,
   "id": "06a37299",
   "metadata": {},
   "outputs": [],
   "source": [
    "#Save model parameters for use in Model_Test notebook\n",
    "#https://pytorch.org/tutorials/beginner/saving_loading_models.html\n",
    "param_path = top_dir / 'trained_models' / 'el80_pairs_lg_0001'\n",
    "torch.save(model.state_dict(), param_path)"
   ]
  },
  {
   "cell_type": "markdown",
   "id": "6ef3a40c",
   "metadata": {},
   "source": [
    "Use Model_Test.ipynb to load and review model prediction on sample / experimental data"
   ]
  }
 ],
 "metadata": {
  "kernelspec": {
   "display_name": "Python 3.10.6 (conda)",
   "language": "python",
   "name": "python3"
  },
  "language_info": {
   "codemirror_mode": {
    "name": "ipython",
    "version": 3
   },
   "file_extension": ".py",
   "mimetype": "text/x-python",
   "name": "python",
   "nbconvert_exporter": "python",
   "pygments_lexer": "ipython3",
   "version": "3.10.6"
  },
  "vscode": {
   "interpreter": {
    "hash": "d001468f4067ec5e4d4ba2def862027e182b3a4bddcf254cbbb9d73e87f32604"
   }
  }
 },
 "nbformat": 4,
 "nbformat_minor": 5
}
