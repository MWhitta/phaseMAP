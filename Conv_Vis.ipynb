{
 "cells": [
  {
   "cell_type": "markdown",
   "id": "3b277077",
   "metadata": {},
   "source": [
    "This notebook is going to develop the basics of visualizing how LIBS spectra data moves through the UNET structure.\n",
    "The workbook will start with an already-trained model for Z <= 20. scaled log spectrum is the input format.\n",
    "There are a different number of channels/features at each node and the number of channels will vary with # elements\n",
    "It may be possible to see the evolution of these convolutions during training, but the limiting factor will be dimensionality\n"
   ]
  },
  {
   "cell_type": "code",
   "execution_count": 1,
   "id": "3e59c2dd-ae29-4f7e-a90d-88f64e9ff8a5",
   "metadata": {
    "tags": []
   },
   "outputs": [
    {
     "name": "stderr",
     "output_type": "stream",
     "text": [
      "/Users/matt/CloudGit_local/github/gss/phaseMAP/envs/lib/python3.10/site-packages/scipy/__init__.py:146: UserWarning: A NumPy version >=1.16.5 and <1.23.0 is required for this version of SciPy (detected version 1.23.1\n",
      "  warnings.warn(f\"A NumPy version >={np_minversion} and <{np_maxversion}\"\n"
     ]
    }
   ],
   "source": [
    "import pickle\n",
    "import datetime\n",
    "import numpy as np\n",
    "from pathlib import Path\n",
    "from matplotlib import pyplot as plt\n",
    "from scipy.optimize import least_squares\n",
    "\n",
    "import torch\n",
    "import torch.nn as nn\n",
    "from torch.utils.data import TensorDataset, DataLoader, random_split\n",
    "\n",
    "from libs_unet.models import peakyfinder_0001\n",
    "from libs_unet.training.spec_maker import spectrum_maker\n",
    "\n",
    "top_dir = Path.cwd()\n",
    "datapath = top_dir / 'data'"
   ]
  },
  {
   "cell_type": "code",
   "execution_count": 2,
   "id": "5c6a9d48",
   "metadata": {},
   "outputs": [],
   "source": [
    "#reference data load\n",
    "elem_symb = np.loadtxt(datapath / \"abundance/elements_94.csv\", dtype=str)\n",
    "#This dataset has spectra made single and pairs within first 20 elements\n",
    "with open(datapath / 'training/z20_pairs.pickle', 'rb') as f:\n",
    "    fracs = pickle.load(f)\n",
    "    wave = pickle.load(f)\n",
    "    x_data = pickle.load(f)\n",
    "    y_data = pickle.load(f)\n",
    "\n",
    "# set number of elements and wavelengths for this data\n",
    "max_z = 20\n",
    "wave = np.arange(190,950)\n",
    "#create dataset\n",
    "#input needs a placeholder \"channel\" dimension since single channel\n",
    "#learned labels already has max_z + 2 channels from spec_array\n",
    "#data has to match weights which default to float() so cast data as same\n",
    "rel_int_scale = 10**4\n",
    "input_scale = 5\n",
    "x_data = torch.tensor(x_data[:,None,:].astype('float32'))\n",
    "y_data = torch.tensor(y_data.astype('float32'))\n",
    "x_data[x_data < 0] = 0\n",
    "y_data[y_data < 0] = 0\n",
    "#log transform data, add small offset 1 so zero points remain ~zero on log scale\n",
    "x_data = input_scale * torch.log(rel_int_scale * x_data + 1)\n",
    "y_data = input_scale * torch.log(rel_int_scale * y_data + 1)\n",
    "\n",
    "#"
   ]
  },
  {
   "cell_type": "code",
   "execution_count": 3,
   "id": "70662264",
   "metadata": {},
   "outputs": [
    {
     "data": {
      "text/plain": [
       "<All keys matched successfully>"
      ]
     },
     "execution_count": 3,
     "metadata": {},
     "output_type": "execute_result"
    }
   ],
   "source": [
    "#Load model and parameters for making predictions\n",
    "#https://pytorch.org/tutorials/beginner/saving_loading_models.html\n",
    "model = peakyfinder_0001.LIBSUNet(max_z,len(wave))\n",
    "param_path = top_dir / 'trained_models' / 'z20_pairs_0001'\n",
    "model.load_state_dict(torch.load(param_path))\n"
   ]
  },
  {
   "cell_type": "code",
   "execution_count": 7,
   "id": "cd66a506",
   "metadata": {},
   "outputs": [
    {
     "name": "stdout",
     "output_type": "stream",
     "text": [
      "sum x: 1.0\n",
      "H: 0.500000\n",
      "Cl: 0.500000\n"
     ]
    },
    {
     "ename": "TypeError",
     "evalue": "Module.register_forward_hook() takes 2 positional arguments but 3 were given",
     "output_type": "error",
     "traceback": [
      "\u001b[0;31m---------------------------------------------------------------------------\u001b[0m",
      "\u001b[0;31mTypeError\u001b[0m                                 Traceback (most recent call last)",
      "\u001b[1;32m/Users/matt/CloudGit_local/github/gss/phaseMAP/Conv_Vis.ipynb Cell 5\u001b[0m in \u001b[0;36m<cell line: 43>\u001b[0;34m()\u001b[0m\n\u001b[1;32m     <a href='vscode-notebook-cell:/Users/matt/CloudGit_local/github/gss/phaseMAP/Conv_Vis.ipynb#W4sZmlsZQ%3D%3D?line=41'>42</a>\u001b[0m hook_handles \u001b[39m=\u001b[39m {}\n\u001b[1;32m     <a href='vscode-notebook-cell:/Users/matt/CloudGit_local/github/gss/phaseMAP/Conv_Vis.ipynb#W4sZmlsZQ%3D%3D?line=42'>43</a>\u001b[0m \u001b[39mfor\u001b[39;00m name, module \u001b[39min\u001b[39;00m model\u001b[39m.\u001b[39mnamed_modules():\n\u001b[0;32m---> <a href='vscode-notebook-cell:/Users/matt/CloudGit_local/github/gss/phaseMAP/Conv_Vis.ipynb#W4sZmlsZQ%3D%3D?line=43'>44</a>\u001b[0m     hook_handles[name] \u001b[39m=\u001b[39m module\u001b[39m.\u001b[39;49mregister_forward_hook(module,printnorm)\n\u001b[1;32m     <a href='vscode-notebook-cell:/Users/matt/CloudGit_local/github/gss/phaseMAP/Conv_Vis.ipynb#W4sZmlsZQ%3D%3D?line=45'>46</a>\u001b[0m model\u001b[39m.\u001b[39meval()\n\u001b[1;32m     <a href='vscode-notebook-cell:/Users/matt/CloudGit_local/github/gss/phaseMAP/Conv_Vis.ipynb#W4sZmlsZQ%3D%3D?line=46'>47</a>\u001b[0m \u001b[39mwith\u001b[39;00m torch\u001b[39m.\u001b[39mno_grad():\n",
      "\u001b[0;31mTypeError\u001b[0m: Module.register_forward_hook() takes 2 positional arguments but 3 were given"
     ]
    },
    {
     "data": {
      "image/png": "[encoded data removed]",
      "text/plain": [
       "<Figure size 432x288 with 1 Axes>"
      ]
     },
     "metadata": {
      "needs_background": "light"
     },
     "output_type": "display_data"
    }
   ],
   "source": [
    "#look at the input spectrum\n",
    "from cgi import print_arguments\n",
    "\n",
    "\n",
    "i_samp = 66 #vary up to 9999\n",
    "x_sample = x_data[i_samp][None, :, :] #need correct dimensions with batch for prediction\n",
    "y_sample = y_data[i_samp].detach().numpy() #[22][760] # 20+2 (el + art + noi) spectra\n",
    "\n",
    "#composite spectra and components\n",
    "#x_data = input_scale * torch.log(rel_int_scale * x_data + 1)\n",
    "print(f\"sum x: {torch.sum((torch.exp(x_sample[0][0]/input_scale) - 1)/rel_int_scale)}\")\n",
    "#show the element fractions\n",
    "for i in range(max_z):\n",
    "    frac = np.sum((np.exp(y_sample[i]/input_scale) - 1)/rel_int_scale)\n",
    "    if frac > 0:\n",
    "        print(f\"{elem_symb[i]}: {frac:>4f}\")\n",
    "        \n",
    "#first plot the transformed composite input spectrum we're trying to decompose\n",
    "plt.plot(wave, x_sample[0][0])\n",
    "plt.xlabel('wavelength [nm]')\n",
    "plt.ylabel('intensity')\n",
    "plt.xlim([190, 950])\n",
    "plt.show\n",
    "\n",
    "#TODO: add hook function(s) into model to record the input/output tensors on .forward prediction\n",
    "#https://pytorch.org/tutorials/beginner/former_torchies/nnft_tutorial.html#forward-and-backward-function-hooks\n",
    "#We want forward hook to give the input/output at every node\n",
    "def printnorm(self, input, output):\n",
    "    # input is a tuple of packed inputs\n",
    "    # output is a Tensor. output.data is the Tensor we are interested\n",
    "    print('Inside ' + self.__class__.__name__ + ' forward')\n",
    "    print('')\n",
    "    print('input: ', type(input))\n",
    "    print('input[0]: ', type(input[0]))\n",
    "    print('output: ', type(output))\n",
    "    print('')\n",
    "    print('input size:', input[0].size())\n",
    "    print('output size:', output.data.size())\n",
    "    print('output norm:', output.data.norm())\n",
    "\n",
    "#register the hook for each node\n",
    "hook_handles = {}\n",
    "for name, module in model.named_modules():\n",
    "    hook_handles[name] = module.register_forward_hook(printnorm)\n",
    "\n",
    "model.eval()\n",
    "with torch.no_grad():\n",
    "    pred = model(x_sample)\n"
   ]
  },
  {
   "cell_type": "code",
   "execution_count": null,
   "id": "f6bd79e9",
   "metadata": {},
   "outputs": [],
   "source": [
    "#plotting predictions vs. reference\n",
    "plot_thresh = 0.1\n",
    "\n",
    "y_pred = pred[0].detach().numpy() #[22][760] corresponding predictions for y_sample\n",
    "y_pred[y_pred < plot_thresh] = 0\n",
    "\n",
    "#https://matplotlib.org/3.5.0/tutorials/introductory/usage.html#the-object-oriented-interface-and-the-pyplot-interface\n",
    "def pred_plot(ax, data1, data2, param_dict):\n",
    "    out = ax.plot(data1, data2, **param_dict)\n",
    "    return out\n",
    "for i in range(22):\n",
    "        fig, (ax1, ax2) = plt.subplots(1, 2)\n",
    "        fig.suptitle(f'{elem_symb[i]} Input vs. Predicted ')\n",
    "        pred_plot(ax1, wave, y_sample[i], {})\n",
    "        pred_plot(ax2, wave, y_pred[i], {})"
   ]
  }
 ],
 "metadata": {
  "kernelspec": {
   "display_name": "Python 3.10.4 (conda)",
   "language": "python",
   "name": "python3"
  },
  "language_info": {
   "codemirror_mode": {
    "name": "ipython",
    "version": 3
   },
   "file_extension": ".py",
   "mimetype": "text/x-python",
   "name": "python",
   "nbconvert_exporter": "python",
   "pygments_lexer": "ipython3",
   "version": "3.10.4"
  },
  "vscode": {
   "interpreter": {
    "hash": "b7c566e62ebb0cf304e803cca0df60334aebcf2b863034e733115078e753af62"
   }
  }
 },
 "nbformat": 4,
 "nbformat_minor": 5
}
