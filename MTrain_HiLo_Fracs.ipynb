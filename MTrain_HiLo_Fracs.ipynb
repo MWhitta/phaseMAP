{
 "cells": [
  {
   "cell_type": "code",
   "execution_count": 1,
   "id": "3e59c2dd-ae29-4f7e-a90d-88f64e9ff8a5",
   "metadata": {
    "tags": []
   },
   "outputs": [],
   "source": [
    "import pickle\n",
    "import datetime\n",
    "from pathlib import Path\n",
    "\n",
    "import torch\n",
    "import torch.nn as nn\n",
    "from torch import optim\n",
    "from torch.optim.lr_scheduler import MultiStepLR\n",
    "#from torch.optim import lr_scheduler\n",
    "from torch.utils.data import TensorDataset, DataLoader, random_split\n",
    "from torch.utils.tensorboard import SummaryWriter\n",
    "import numpy as np\n",
    "from libs_unet.models import peakyfinder_0003\n",
    "from libs_unet.training.libs_train import train_loop, test_loop\n",
    "import matplotlib.pyplot as plt\n",
    "\n",
    "top_dir = Path.cwd()\n",
    "datapath = top_dir / 'data'"
   ]
  },
  {
   "cell_type": "code",
   "execution_count": 2,
   "id": "36c2c733",
   "metadata": {},
   "outputs": [],
   "source": [
    "#training data import\n",
    "with open(datapath / 'training' / 'el80_pairs_lg.pickle', 'rb') as f:\n",
    "    elem_symb = pickle.load(f)\n",
    "    el_index = pickle.load(f)\n",
    "    fracs = pickle.load(f)\n",
    "    wave = pickle.load(f)\n",
    "    x_data = pickle.load(f)\n",
    "    #y_data = pickle.load(f)"
   ]
  },
  {
   "cell_type": "code",
   "execution_count": 3,
   "id": "267a1a3d",
   "metadata": {},
   "outputs": [],
   "source": [
    "#Scale data to account for source. Output simply 80 element fractions\n",
    "nist_mult = 1.17\n",
    "x_data = nist_mult * x_data\n",
    "y_data = fracs"
   ]
  },
  {
   "cell_type": "code",
   "execution_count": 6,
   "id": "ff4c21ef",
   "metadata": {},
   "outputs": [
    {
     "data": {
      "text/plain": [
       "(28520, 80)"
      ]
     },
     "execution_count": 6,
     "metadata": {},
     "output_type": "execute_result"
    }
   ],
   "source": [
    "y_data.shape"
   ]
  },
  {
   "cell_type": "code",
   "execution_count": 7,
   "id": "8a9e94bd",
   "metadata": {},
   "outputs": [],
   "source": [
    "#split x_data into mutex low_int and log(hi_int) input channels\n",
    "x_data = x_data[:,None,:]\n",
    "x_shape = x_data.shape\n",
    "new_inp = np.zeros((x_shape[0], 2, x_shape[2]))\n",
    "log_cut = 2\n",
    "new_inp[:,0,:] = np.where(np.log(x_data[:,0,:]) < log_cut, x_data[:,0,:], 0)\n",
    "new_inp[:,1,:] = np.where(np.log(x_data[:,0,:]) >= log_cut, np.log(x_data[:,0,:]), 0)\n",
    "x_data = new_inp.copy()\n",
    "new_inp = None"
   ]
  },
  {
   "cell_type": "code",
   "execution_count": 8,
   "id": "5c6a9d48",
   "metadata": {},
   "outputs": [],
   "source": [
    "#create dataset\n",
    "#input has two channels\n",
    "#apply a scaling factor to standardize spectra across sources.\n",
    "x_data = torch.tensor(x_data.astype('float32'))\n",
    "y_data = torch.tensor(y_data.astype('float32'))\n",
    "x_data[x_data < 0] = 0\n",
    "y_data[y_data < 0] = 0\n",
    "#log transform data, add small offset 1 so zero points remain ~zero on log scale\n",
    "#x_data = torch.log(x_data + 1)\n",
    "#y_data = torch.log(y_data + 1)\n",
    "\n",
    "spec_ds = TensorDataset(x_data, y_data)\n",
    "#batch sizes\n",
    "train_bs = 50\n",
    "test_bs = 100\n",
    "#create random split for training and validation\n",
    "train_len = int(0.8 * len(x_data))\n",
    "test_len = len(x_data) - train_len\n",
    "train_ds, test_ds = random_split(spec_ds,[train_len, test_len])\n",
    "train_dl = DataLoader(train_ds, batch_size=train_bs, shuffle=True) #check if shuffle redundant\n",
    "test_dl = DataLoader(test_ds, batch_size=test_bs)\n",
    "#"
   ]
  },
  {
   "cell_type": "code",
   "execution_count": 9,
   "id": "ad67d3ce",
   "metadata": {},
   "outputs": [
    {
     "name": "stdout",
     "output_type": "stream",
     "text": [
      "Epoch 1, learning rate 1\n",
      "-------------------------------\n"
     ]
    },
    {
     "ename": "KeyboardInterrupt",
     "evalue": "",
     "output_type": "error",
     "traceback": [
      "\u001b[0;31m---------------------------------------------------------------------------\u001b[0m",
      "\u001b[0;31mKeyboardInterrupt\u001b[0m                         Traceback (most recent call last)",
      "\u001b[1;32m/Users/matt/CloudGit_local/github/gss/phaseMAP/MTrain_HiLo_Fracs.ipynb Cell 7\u001b[0m in \u001b[0;36m<cell line: 18>\u001b[0;34m()\u001b[0m\n\u001b[1;32m     <a href='vscode-notebook-cell:/Users/matt/CloudGit_local/github/gss/phaseMAP/MTrain_HiLo_Fracs.ipynb#X11sZmlsZQ%3D%3D?line=17'>18</a>\u001b[0m \u001b[39mfor\u001b[39;00m t \u001b[39min\u001b[39;00m \u001b[39mrange\u001b[39m(epochs):\n\u001b[1;32m     <a href='vscode-notebook-cell:/Users/matt/CloudGit_local/github/gss/phaseMAP/MTrain_HiLo_Fracs.ipynb#X11sZmlsZQ%3D%3D?line=18'>19</a>\u001b[0m     \u001b[39mprint\u001b[39m(\u001b[39mf\u001b[39m\u001b[39m\"\u001b[39m\u001b[39mEpoch \u001b[39m\u001b[39m{\u001b[39;00mt\u001b[39m+\u001b[39m\u001b[39m1\u001b[39m\u001b[39m}\u001b[39;00m\u001b[39m, learning rate \u001b[39m\u001b[39m{\u001b[39;00moptimizer\u001b[39m.\u001b[39mparam_groups[\u001b[39m0\u001b[39m][\u001b[39m'\u001b[39m\u001b[39mlr\u001b[39m\u001b[39m'\u001b[39m]\u001b[39m}\u001b[39;00m\u001b[39m\\n\u001b[39;00m\u001b[39m-------------------------------\u001b[39m\u001b[39m\"\u001b[39m)\n\u001b[0;32m---> <a href='vscode-notebook-cell:/Users/matt/CloudGit_local/github/gss/phaseMAP/MTrain_HiLo_Fracs.ipynb#X11sZmlsZQ%3D%3D?line=19'>20</a>\u001b[0m     train_loop(train_dl, model, loss_fn, optimizer, writer, t\u001b[39m+\u001b[39;49m\u001b[39m1\u001b[39;49m, debug\u001b[39m=\u001b[39;49m\u001b[39mTrue\u001b[39;49;00m, bsize\u001b[39m=\u001b[39;49mtrain_bs)\n\u001b[1;32m     <a href='vscode-notebook-cell:/Users/matt/CloudGit_local/github/gss/phaseMAP/MTrain_HiLo_Fracs.ipynb#X11sZmlsZQ%3D%3D?line=20'>21</a>\u001b[0m     test_loss \u001b[39m=\u001b[39m test_loop(test_dl, model, loss_fn, writer, t\u001b[39m+\u001b[39m\u001b[39m1\u001b[39m)\n\u001b[1;32m     <a href='vscode-notebook-cell:/Users/matt/CloudGit_local/github/gss/phaseMAP/MTrain_HiLo_Fracs.ipynb#X11sZmlsZQ%3D%3D?line=21'>22</a>\u001b[0m     lr_scheduler\u001b[39m.\u001b[39mstep()\n",
      "File \u001b[0;32m~/CloudGit_local/github/gss/phaseMAP/libs_unet/training/libs_train.py:26\u001b[0m, in \u001b[0;36mtrain_loop\u001b[0;34m(dataloader, model, loss_fn, optimizer, writer, epoch, log_interval, debug, bsize)\u001b[0m\n\u001b[1;32m     24\u001b[0m \u001b[39m# Backpropagation\u001b[39;00m\n\u001b[1;32m     25\u001b[0m optimizer\u001b[39m.\u001b[39mzero_grad()\n\u001b[0;32m---> 26\u001b[0m loss\u001b[39m.\u001b[39;49mbackward()\n\u001b[1;32m     27\u001b[0m optimizer\u001b[39m.\u001b[39mstep() \u001b[39m#leverages tensor gradients from backward()\u001b[39;00m\n\u001b[1;32m     29\u001b[0m \u001b[39mif\u001b[39;00m batch_n  \u001b[39m%\u001b[39m log_interval \u001b[39m==\u001b[39m \u001b[39m0\u001b[39m: \u001b[39m#write to tensorboard\u001b[39;00m\n",
      "File \u001b[0;32m~/CloudGit_local/github/gss/phaseMAP/envs/mkl/lib/python3.10/site-packages/torch/_tensor.py:396\u001b[0m, in \u001b[0;36mTensor.backward\u001b[0;34m(self, gradient, retain_graph, create_graph, inputs)\u001b[0m\n\u001b[1;32m    387\u001b[0m \u001b[39mif\u001b[39;00m has_torch_function_unary(\u001b[39mself\u001b[39m):\n\u001b[1;32m    388\u001b[0m     \u001b[39mreturn\u001b[39;00m handle_torch_function(\n\u001b[1;32m    389\u001b[0m         Tensor\u001b[39m.\u001b[39mbackward,\n\u001b[1;32m    390\u001b[0m         (\u001b[39mself\u001b[39m,),\n\u001b[0;32m   (...)\u001b[0m\n\u001b[1;32m    394\u001b[0m         create_graph\u001b[39m=\u001b[39mcreate_graph,\n\u001b[1;32m    395\u001b[0m         inputs\u001b[39m=\u001b[39minputs)\n\u001b[0;32m--> 396\u001b[0m torch\u001b[39m.\u001b[39;49mautograd\u001b[39m.\u001b[39;49mbackward(\u001b[39mself\u001b[39;49m, gradient, retain_graph, create_graph, inputs\u001b[39m=\u001b[39;49minputs)\n",
      "File \u001b[0;32m~/CloudGit_local/github/gss/phaseMAP/envs/mkl/lib/python3.10/site-packages/torch/autograd/__init__.py:173\u001b[0m, in \u001b[0;36mbackward\u001b[0;34m(tensors, grad_tensors, retain_graph, create_graph, grad_variables, inputs)\u001b[0m\n\u001b[1;32m    168\u001b[0m     retain_graph \u001b[39m=\u001b[39m create_graph\n\u001b[1;32m    170\u001b[0m \u001b[39m# The reason we repeat same the comment below is that\u001b[39;00m\n\u001b[1;32m    171\u001b[0m \u001b[39m# some Python versions print out the first line of a multi-line function\u001b[39;00m\n\u001b[1;32m    172\u001b[0m \u001b[39m# calls in the traceback and some print out the last line\u001b[39;00m\n\u001b[0;32m--> 173\u001b[0m Variable\u001b[39m.\u001b[39;49m_execution_engine\u001b[39m.\u001b[39;49mrun_backward(  \u001b[39m# Calls into the C++ engine to run the backward pass\u001b[39;49;00m\n\u001b[1;32m    174\u001b[0m     tensors, grad_tensors_, retain_graph, create_graph, inputs,\n\u001b[1;32m    175\u001b[0m     allow_unreachable\u001b[39m=\u001b[39;49m\u001b[39mTrue\u001b[39;49;00m, accumulate_grad\u001b[39m=\u001b[39;49m\u001b[39mTrue\u001b[39;49;00m)\n",
      "\u001b[0;31mKeyboardInterrupt\u001b[0m: "
     ]
    }
   ],
   "source": [
    "#set parameters\n",
    "max_z = len(elem_symb)\n",
    "wl_points = len(wave) #number of wavelength point measurements in data\n",
    "learning_rate = 1 #There is a schedule to reduce as loss plateaus\n",
    "epochs = 20\n",
    "\n",
    "#Initialize and run\n",
    "model = peakyfinder_0003.LIBSUNet(max_z, wl_points)\n",
    "loss_fn = nn.MSELoss(reduction='mean')\n",
    "#loss_fn = Custom_Wgt_MSE(loss_wts)\n",
    "optimizer = torch.optim.SGD(model.parameters(), lr=learning_rate)\n",
    "lr_scheduler = MultiStepLR(optimizer, [5, 10, 15], 0.5)\n",
    "\n",
    "now_time = datetime.datetime.now().strftime('%Y-%m-%d-%H-%M-%S') #  now \n",
    "writerpath = top_dir / 'runs' / now_time\n",
    "writer = SummaryWriter(writerpath)\n",
    "\n",
    "for t in range(epochs):\n",
    "    print(f\"Epoch {t+1}, learning rate {optimizer.param_groups[0]['lr']}\\n-------------------------------\")\n",
    "    train_loop(train_dl, model, loss_fn, optimizer, writer, t+1, debug=True, bsize=train_bs)\n",
    "    test_loss = test_loop(test_dl, model, loss_fn, writer, t+1)\n",
    "    lr_scheduler.step()\n",
    "print(\"Done!\")\n",
    "\n",
    "#cleanup\n",
    "writer.flush()\n",
    "writer.close()\n"
   ]
  },
  {
   "cell_type": "code",
   "execution_count": 9,
   "id": "06a37299",
   "metadata": {},
   "outputs": [],
   "source": [
    "#Save model parameters for use in Model_Test notebook\n",
    "#https://pytorch.org/tutorials/beginner/saving_loading_models.html\n",
    "param_path = top_dir / 'trained_models' / 'el80_pairs_fracs_0003'\n",
    "torch.save(model.state_dict(), param_path)"
   ]
  },
  {
   "cell_type": "markdown",
   "id": "6ef3a40c",
   "metadata": {},
   "source": [
    "Use Model_Test.ipynb to load and review model prediction on sample / experimental data"
   ]
  }
 ],
 "metadata": {
  "kernelspec": {
   "display_name": "Python 3.10.6 (conda)",
   "language": "python",
   "name": "python3"
  },
  "language_info": {
   "codemirror_mode": {
    "name": "ipython",
    "version": 3
   },
   "file_extension": ".py",
   "mimetype": "text/x-python",
   "name": "python",
   "nbconvert_exporter": "python",
   "pygments_lexer": "ipython3",
   "version": "3.10.6"
  },
  "vscode": {
   "interpreter": {
    "hash": "d001468f4067ec5e4d4ba2def862027e182b3a4bddcf254cbbb9d73e87f32604"
   }
  }
 },
 "nbformat": 4,
 "nbformat_minor": 5
}
